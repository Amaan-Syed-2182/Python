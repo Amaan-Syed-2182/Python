{
 "cells": [
  {
   "cell_type": "markdown",
   "id": "7b640d58-1919-4a61-a95d-5458af5466ce",
   "metadata": {},
   "source": [
    "## Variable length argument and keyword variable length argument"
   ]
  },
  {
   "cell_type": "code",
   "execution_count": 3,
   "id": "8feda831-4aa7-47b9-abee-115a08e3a60f",
   "metadata": {},
   "outputs": [
    {
     "name": "stdout",
     "output_type": "stream",
     "text": [
      "{'name': 'Amaan', 'College': 'CTAE', 'age': 22, 'Course': 'Data Science Specialization'}\n"
     ]
    }
   ],
   "source": [
    "def facebook(**kwargs):\n",
    "    print(kwargs)\n",
    "\n",
    "facebook(name=\"Amaan\",College=\"CTAE\",age=22,Course=\"Data Science Specialization\")"
   ]
  },
  {
   "cell_type": "code",
   "execution_count": 8,
   "id": "395e62f9-8a7a-40bd-b075-4eb414c4c072",
   "metadata": {},
   "outputs": [
    {
     "name": "stdout",
     "output_type": "stream",
     "text": [
      "('Amaan', 'CTAE', 22, 'Data Science Specialization')\n"
     ]
    }
   ],
   "source": [
    "def instagram(*args):\n",
    "    print(args)\n",
    "\n",
    "instagram(\"Amaan\",\"CTAE\",22,\"Data Science Specialization\")"
   ]
  },
  {
   "cell_type": "markdown",
   "id": "aa4be4ce-d67d-4197-85ea-66499353c41c",
   "metadata": {},
   "source": [
    "## Lambda Function\n",
    "### Also known as anonymous Function bcz they dont have a name\n",
    "### this are 1 line Functions"
   ]
  },
  {
   "cell_type": "code",
   "execution_count": 32,
   "id": "98a459c2-7581-4f89-84b4-77c76faa57f2",
   "metadata": {},
   "outputs": [
    {
     "name": "stdout",
     "output_type": "stream",
     "text": [
      "44\n"
     ]
    }
   ],
   "source": [
    "def sum(x):\n",
    "    print(x+10)\n",
    "    return x+10\n",
    "x = sum(34)"
   ]
  },
  {
   "cell_type": "code",
   "execution_count": 40,
   "id": "64475eec-c41e-4758-9708-f8d5525a3651",
   "metadata": {},
   "outputs": [
    {
     "data": {
      "text/plain": [
       "15"
      ]
     },
     "execution_count": 40,
     "metadata": {},
     "output_type": "execute_result"
    }
   ],
   "source": [
    "# With saving in a explicit vairiable\n",
    "x1=lambda x : x+10\n",
    "x1(5)"
   ]
  },
  {
   "cell_type": "code",
   "execution_count": 42,
   "id": "6006181b-e7ec-4a94-875c-0e77a1a2e2ee",
   "metadata": {},
   "outputs": [
    {
     "data": {
      "text/plain": [
       "15"
      ]
     },
     "execution_count": 42,
     "metadata": {},
     "output_type": "execute_result"
    }
   ],
   "source": [
    "# Without Explicit Vairiable\n",
    "(lambda x : x+10)(5)"
   ]
  },
  {
   "cell_type": "code",
   "execution_count": 44,
   "id": "8173047b-b0ee-4c56-91d1-01b9b9c0d7a4",
   "metadata": {},
   "outputs": [
    {
     "name": "stdout",
     "output_type": "stream",
     "text": [
      "He\n",
      "He\n",
      "Us\n"
     ]
    }
   ],
   "source": [
    "a = lambda x : x[0:2]\n",
    "for i in \"Hey Hello User\".split():\n",
    "    print(a(i))"
   ]
  },
  {
   "cell_type": "code",
   "execution_count": 64,
   "id": "41eee5c6-dcee-4f8b-8dcb-f385aa827732",
   "metadata": {},
   "outputs": [
    {
     "name": "stdout",
     "output_type": "stream",
     "text": [
      "[2, 6, 8, 12, 68]\n"
     ]
    }
   ],
   "source": [
    "l = [2,5,7,13,15,6,8,12,33,55,68]\n",
    "new = []\n",
    "is_even = lambda x:x%2==0\n",
    "for i in l:\n",
    "    if is_even(i):\n",
    "        new.append(i)\n",
    "\n",
    "print(new)"
   ]
  },
  {
   "cell_type": "code",
   "execution_count": 66,
   "id": "0df71600-fa36-47bd-a358-cf00c6a0b39d",
   "metadata": {},
   "outputs": [
    {
     "name": "stdout",
     "output_type": "stream",
     "text": [
      "Amaan Syed\n"
     ]
    }
   ],
   "source": [
    "def fun():\n",
    "    print(\"Amaan Syed\")\n",
    "\n",
    "a = fun\n",
    "a() --> # First Class Function"
   ]
  },
  {
   "cell_type": "code",
   "execution_count": 70,
   "id": "032d8075-7df6-43f0-998f-8bef59454350",
   "metadata": {},
   "outputs": [
    {
     "name": "stdout",
     "output_type": "stream",
     "text": [
      "Amaan Syed\n"
     ]
    }
   ],
   "source": [
    "x = print\n",
    "x(\"Amaan Syed\")"
   ]
  },
  {
   "cell_type": "code",
   "execution_count": 84,
   "id": "e3a85528-07cc-4a32-9871-680f4918dabf",
   "metadata": {},
   "outputs": [
    {
     "name": "stdout",
     "output_type": "stream",
     "text": [
      "15\n"
     ]
    }
   ],
   "source": [
    "d = {'func':lambda x : x+5,\"age\":22}\n",
    "print(d['func'](10))"
   ]
  }
 ],
 "metadata": {
  "kernelspec": {
   "display_name": "Python [conda env:base] *",
   "language": "python",
   "name": "conda-base-py"
  },
  "language_info": {
   "codemirror_mode": {
    "name": "ipython",
    "version": 3
   },
   "file_extension": ".py",
   "mimetype": "text/x-python",
   "name": "python",
   "nbconvert_exporter": "python",
   "pygments_lexer": "ipython3",
   "version": "3.12.7"
  }
 },
 "nbformat": 4,
 "nbformat_minor": 5
}
