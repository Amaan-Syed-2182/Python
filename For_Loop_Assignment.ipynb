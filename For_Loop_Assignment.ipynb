{
 "cells": [
  {
   "cell_type": "markdown",
   "id": "518f78eb-c529-41d1-a47e-6f0abea3b420",
   "metadata": {},
   "source": [
    "## For Loop Assignment\n",
    "### By Saiyed Amaan"
   ]
  },
  {
   "cell_type": "code",
   "execution_count": 14,
   "id": "2105c962-28a2-4a7b-b215-759fcfe76778",
   "metadata": {},
   "outputs": [
    {
     "name": "stdin",
     "output_type": "stream",
     "text": [
      "Enter the Number:  23\n"
     ]
    },
    {
     "name": "stdout",
     "output_type": "stream",
     "text": [
      "1 2 3 4 5 6 7 8 9 10 11 12 13 14 15 16 17 18 19 20 21 22 23 "
     ]
    }
   ],
   "source": [
    "# 1.\n",
    "num = int(input(\"Enter the Number: \"))\n",
    "\n",
    "for i in range(1,num+1):\n",
    "    print(i,end=\" \")"
   ]
  },
  {
   "cell_type": "code",
   "execution_count": 16,
   "id": "8b8c6960-7883-43a1-ad24-69d4dd57f6e6",
   "metadata": {},
   "outputs": [
    {
     "name": "stdin",
     "output_type": "stream",
     "text": [
      "Enter the Number:  23\n"
     ]
    },
    {
     "name": "stdout",
     "output_type": "stream",
     "text": [
      "23 22 21 20 19 18 17 16 15 14 13 12 11 10 9 8 7 6 5 4 3 2 1 "
     ]
    }
   ],
   "source": [
    "# 2.\n",
    "num = int(input(\"Enter the Number: \"))\n",
    "\n",
    "for i in range(num,0,-1):\n",
    "    print(i,end=\" \")"
   ]
  },
  {
   "cell_type": "code",
   "execution_count": 24,
   "id": "5f4d2bb8-1cd4-4a59-90ab-29fbc9a60f29",
   "metadata": {},
   "outputs": [
    {
     "name": "stdout",
     "output_type": "stream",
     "text": [
      "a b c d e f g h i j k l m n o p q r s t u v w x y z "
     ]
    }
   ],
   "source": [
    "# 3.\n",
    "alphabets = \"abcdefghijklmnopqrstuvwxyz\"\n",
    "\n",
    "for i in alphabets:\n",
    "    print(i,end=\" \")"
   ]
  },
  {
   "cell_type": "code",
   "execution_count": 26,
   "id": "44be37ce-b1ea-4d49-bedb-3f5c52590b92",
   "metadata": {},
   "outputs": [
    {
     "name": "stdout",
     "output_type": "stream",
     "text": [
      "2 4 6 8 10 12 14 16 18 20 22 24 26 28 30 32 34 36 38 40 42 44 46 48 50 52 54 56 58 60 62 64 66 68 70 72 74 76 78 80 82 84 86 88 90 92 94 96 98 100 "
     ]
    }
   ],
   "source": [
    "# 4.\n",
    "for i in range(1,101):\n",
    "    if(i%2==0):\n",
    "        print(i,end=\" \")"
   ]
  },
  {
   "cell_type": "code",
   "execution_count": 30,
   "id": "97d86bab-3dd9-4bce-b567-e972518fb840",
   "metadata": {},
   "outputs": [
    {
     "name": "stdin",
     "output_type": "stream",
     "text": [
      "Enter a Number:  10\n"
     ]
    },
    {
     "name": "stdout",
     "output_type": "stream",
     "text": [
      "Sum is: 5\n"
     ]
    }
   ],
   "source": [
    "# 5.\n",
    "num =  int(input(\"Enter a Number: \"))\n",
    "odd_sum = 0\n",
    "\n",
    "for i in range(1,num+1):\n",
    "    if(i%2==1):\n",
    "        odd_sum += 1\n",
    "\n",
    "print(f\"Sum is: {odd_sum}\")\n"
   ]
  },
  {
   "cell_type": "code",
   "execution_count": 34,
   "id": "d846fe07-d1c9-4e5a-92ea-dd4e40289a7c",
   "metadata": {},
   "outputs": [
    {
     "name": "stdin",
     "output_type": "stream",
     "text": [
      "Enter a Number:  1234\n"
     ]
    },
    {
     "name": "stdout",
     "output_type": "stream",
     "text": [
      "Number of Digits are: 4\n"
     ]
    }
   ],
   "source": [
    "# 6.\n",
    "num = int(input(\"Enter a Number: \"))\n",
    "count = 0\n",
    "\n",
    "for i in str(num):\n",
    "    count += 1\n",
    "\n",
    "print(f\"Number of Digits are: {count}\")\n"
   ]
  },
  {
   "cell_type": "code",
   "execution_count": 36,
   "id": "f686f383-8412-433c-b0b3-da16496a8910",
   "metadata": {},
   "outputs": [
    {
     "name": "stdin",
     "output_type": "stream",
     "text": [
      "Enter a Number:  123\n"
     ]
    },
    {
     "name": "stdout",
     "output_type": "stream",
     "text": [
      "Sum of Digits is: 6\n"
     ]
    }
   ],
   "source": [
    "# 7.\n",
    "num = int(input(\"Enter a Number: \"))\n",
    "sum_digit = 0\n",
    "digit = 0\n",
    "\n",
    "for i in str(num):\n",
    "    digit = int(i)\n",
    "    sum_digit += digit\n",
    "\n",
    "print(f\"Sum of Digits is: {sum_digit}\")\n"
   ]
  },
  {
   "cell_type": "code",
   "execution_count": 50,
   "id": "4365602d-1637-4a9e-a019-7b080a231200",
   "metadata": {},
   "outputs": [
    {
     "name": "stdin",
     "output_type": "stream",
     "text": [
      "Enter a number:  1234\n"
     ]
    },
    {
     "name": "stdout",
     "output_type": "stream",
     "text": [
      "First Letter is: 1\n",
      "Last Letter is: 4\n"
     ]
    }
   ],
   "source": [
    "# 8.\n",
    "num = input(\"Enter a number: \")\n",
    "\n",
    "first = num[0]\n",
    "last = 0\n",
    "\n",
    "for i in num:\n",
    "    if(int(i)<10):\n",
    "        last = int(i)\n",
    "\n",
    "print(f\"First Letter is: {first}\")\n",
    "print(f\"Last Letter is: {last}\")\n",
    "    "
   ]
  },
  {
   "cell_type": "code",
   "execution_count": 58,
   "id": "a6a2063d-971c-4840-a30f-8793ef28bb11",
   "metadata": {},
   "outputs": [
    {
     "name": "stdin",
     "output_type": "stream",
     "text": [
      "Enter a number:  1234\n"
     ]
    },
    {
     "name": "stdout",
     "output_type": "stream",
     "text": [
      "Sum of 1 and 4 is: 5\n"
     ]
    }
   ],
   "source": [
    "# 9.\n",
    "num = input(\"Enter a number: \")\n",
    "\n",
    "first = num[0]\n",
    "last = 0\n",
    "\n",
    "for i in num:\n",
    "    if(int(i)<10):\n",
    "        last = int(i)\n",
    "sum_digit = int(first) + int(last)\n",
    "print(f\"Sum of {first} and {last} is: {sum_digit}\")"
   ]
  },
  {
   "cell_type": "code",
   "execution_count": 60,
   "id": "6df15e96-4f96-43e2-a45e-0b9f5b852abd",
   "metadata": {},
   "outputs": [
    {
     "name": "stdin",
     "output_type": "stream",
     "text": [
      "Enter a Number:  1234\n"
     ]
    },
    {
     "name": "stdout",
     "output_type": "stream",
     "text": [
      "Reversed number is: 4321\n"
     ]
    }
   ],
   "source": [
    "# 10\n",
    "num = input(\"Enter a Number: \")\n",
    "reversed_num = \"\"\n",
    "\n",
    "for char in num:\n",
    "    reversed_num = char + reversed_num\n",
    "\n",
    "print(f\"Reversed number is: {reversed_num}\")\n",
    "    \n",
    "    "
   ]
  },
  {
   "cell_type": "code",
   "execution_count": null,
   "id": "a272b707-130a-430c-a293-c330807cbd4c",
   "metadata": {},
   "outputs": [],
   "source": []
  }
 ],
 "metadata": {
  "kernelspec": {
   "display_name": "Python [conda env:base] *",
   "language": "python",
   "name": "conda-base-py"
  },
  "language_info": {
   "codemirror_mode": {
    "name": "ipython",
    "version": 3
   },
   "file_extension": ".py",
   "mimetype": "text/x-python",
   "name": "python",
   "nbconvert_exporter": "python",
   "pygments_lexer": "ipython3",
   "version": "3.12.7"
  }
 },
 "nbformat": 4,
 "nbformat_minor": 5
}
