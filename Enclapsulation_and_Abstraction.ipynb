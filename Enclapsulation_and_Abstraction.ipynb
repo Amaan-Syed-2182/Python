{
 "cells": [
  {
   "cell_type": "markdown",
   "id": "104e8603-8697-4382-af78-6a986f99149f",
   "metadata": {},
   "source": [
    "# Encapsulation"
   ]
  },
  {
   "cell_type": "code",
   "execution_count": null,
   "id": "1ad4fd23-9db8-4fd5-bfcf-b6c1db01b45e",
   "metadata": {},
   "outputs": [],
   "source": [
    "# Binding data and methods together in same container (Class)..."
   ]
  },
  {
   "cell_type": "code",
   "execution_count": 8,
   "id": "e47f1a4b-01c7-4d92-9c36-ce4fc050c9e5",
   "metadata": {},
   "outputs": [
    {
     "name": "stdout",
     "output_type": "stream",
     "text": [
      "USer\n",
      "1000\n",
      "5000\n",
      "USer\n",
      "1000\n",
      "5000\n"
     ]
    }
   ],
   "source": [
    "class A:\n",
    "    name = 'USer' #Public\n",
    "    _amount = 1000 # Protected\n",
    "    __balance = 5000 # Private\n",
    "class B(A):\n",
    "    def greet():\n",
    "        print(\"I am class B...\")\n",
    "\n",
    "ob1 = A()\n",
    "ob2 = B()\n",
    "print(ob1.name) # Accessing Public Vairiable\n",
    "print(ob1._amount) # Acceseing Protected vairiable\n",
    "\n",
    "print(ob1._A__balance) # Accesing private vairiable\n",
    "\n",
    "# Accesing through Inheritance\n",
    "print(ob2.name)\n",
    "print(ob2._amount)\n",
    "print(ob2._A__balance)"
   ]
  },
  {
   "cell_type": "markdown",
   "id": "4ee0f145-7ae6-4f31-9d96-212f19ffeda9",
   "metadata": {},
   "source": [
    "# Abstraction"
   ]
  },
  {
   "cell_type": "code",
   "execution_count": 13,
   "id": "b28bc263-166e-4931-9375-7f24e210bd6c",
   "metadata": {},
   "outputs": [],
   "source": [
    "# To hide the unwanted details from the user\n",
    "# Function need to be implemented in in child class\n",
    "# works as a blueprint for sub-classes\n",
    "# Abstraction is achieved => abstract class\n",
    "# Abstract class => Have abstract method\n",
    "# abstract method => not implementd in parent class, implemented in child class"
   ]
  },
  {
   "cell_type": "code",
   "execution_count": 41,
   "id": "2903df2b-59ef-4604-8aff-e477ac792a3a",
   "metadata": {},
   "outputs": [],
   "source": [
    "from abc import ABC,abstractmethod\n",
    "# Importing abstract method from abc(abstract base class)\n",
    "\n",
    "class RBI: # Abstract class\n",
    "    @abstractmethod # Abstract method\n",
    "    def info(self):\n",
    "        pass\n",
    "\n",
    "class SBI(RBI):\n",
    "    def info(self): # Implementing Abstract Method\n",
    "        print(\"Interest rate is 10% of SBI\")\n",
    "\n",
    "class HDFC(RBI): \n",
    "    def info(self): # Implementing Abstract method\n",
    "        print(\"Interest rate is 12% of HDFC\")"
   ]
  },
  {
   "cell_type": "code",
   "execution_count": 43,
   "id": "043be8df-b24c-4e79-ae18-cc87d49ea664",
   "metadata": {},
   "outputs": [
    {
     "name": "stdout",
     "output_type": "stream",
     "text": [
      "Interest rate is 10% of SBI\n",
      "Interest rate is 12% of HDFC\n"
     ]
    }
   ],
   "source": [
    "s1 = SBI()\n",
    "s1.info()\n",
    "h1 = HDFC()\n",
    "h1.info()"
   ]
  },
  {
   "cell_type": "code",
   "execution_count": 53,
   "id": "82d6ef01-4d34-4c80-b01b-c5c44dc21740",
   "metadata": {},
   "outputs": [
    {
     "name": "stdout",
     "output_type": "stream",
     "text": [
      "Private vairiable value is 1202\n"
     ]
    }
   ],
   "source": [
    "# Using getter method to access \n",
    "class a:\n",
    "    # Private vairIable\n",
    "    def __init__(self):\n",
    "        self.__balance = 1202\n",
    "\n",
    "    \n",
    "    def getter_method(self):\n",
    "\n",
    "        # Getter Method to access the value of private vairiable\n",
    "        \n",
    "        return self.__balance\n",
    "        \n",
    "\n",
    "ob1 = a()\n",
    "value = ob1.getter_method()\n",
    "print(f\"Private vairiable value is {value}\")"
   ]
  },
  {
   "cell_type": "code",
   "execution_count": null,
   "id": "3d2e5f5c-c6aa-4f35-82cc-2d9c301c85e8",
   "metadata": {},
   "outputs": [],
   "source": []
  }
 ],
 "metadata": {
  "kernelspec": {
   "display_name": "Python [conda env:base] *",
   "language": "python",
   "name": "conda-base-py"
  },
  "language_info": {
   "codemirror_mode": {
    "name": "ipython",
    "version": 3
   },
   "file_extension": ".py",
   "mimetype": "text/x-python",
   "name": "python",
   "nbconvert_exporter": "python",
   "pygments_lexer": "ipython3",
   "version": "3.12.7"
  }
 },
 "nbformat": 4,
 "nbformat_minor": 5
}
