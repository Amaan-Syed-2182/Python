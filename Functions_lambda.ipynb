{
 "cells": [
  {
   "cell_type": "code",
   "execution_count": 1,
   "id": "4022566f-e540-407f-9dda-5934385b968c",
   "metadata": {},
   "outputs": [
    {
     "name": "stdout",
     "output_type": "stream",
     "text": [
      "Amaan, your total is 459\n",
      "\n"
     ]
    }
   ],
   "source": [
    "def total(name=\"Aspirant\",*marks):\n",
    "    print(f\"{name}, your total is {sum(marks)}\")\n",
    "\n",
    "total(\"Amaan\",90,92,88,93,96)\n",
    "print()"
   ]
  },
  {
   "cell_type": "code",
   "execution_count": 3,
   "id": "5dea25b3-e289-4058-9843-8711660189a5",
   "metadata": {},
   "outputs": [
    {
     "name": "stdout",
     "output_type": "stream",
     "text": [
      "Even\n",
      "Odd\n"
     ]
    }
   ],
   "source": [
    "def even_odd(num):\n",
    "    if(num%2==0):\n",
    "        print(\"Even\")\n",
    "    else:\n",
    "        print(\"Odd\")\n",
    "even_odd(20)\n",
    "even_odd(27)"
   ]
  },
  {
   "cell_type": "code",
   "execution_count": 11,
   "id": "d3809adc-4cc7-4653-94e7-bde4289781fc",
   "metadata": {},
   "outputs": [
    {
     "name": "stdout",
     "output_type": "stream",
     "text": [
      "12 Even\n",
      "45 ODD\n",
      "76 Even\n",
      "89 ODD\n",
      "22 Even\n"
     ]
    }
   ],
   "source": [
    "lst = [12,45,76,89,22]\n",
    "def check(lst):\n",
    "    for i in lst:\n",
    "        if(i%2==0):\n",
    "            print(i,\"Even\")\n",
    "        else:\n",
    "            print(i,\"ODD\")\n",
    "check(lst)\n",
    "\n"
   ]
  },
  {
   "cell_type": "code",
   "execution_count": 15,
   "id": "0f08b7b4-ac95-48fa-9bd6-1eb0f70f863f",
   "metadata": {},
   "outputs": [
    {
     "name": "stdout",
     "output_type": "stream",
     "text": [
      "221\n",
      "78\n",
      "10\n"
     ]
    }
   ],
   "source": [
    "lst = [23,22,56,78,32,10]\n",
    "def basic(lst):\n",
    "    min = lst[0]\n",
    "    max = lst[0]\n",
    "    summ = 0\n",
    "    for i in lst:\n",
    "        if(min>i):\n",
    "            min = i\n",
    "        if(max<i):\n",
    "            max = i\n",
    "        summ+=i\n",
    "    print(summ)\n",
    "    print(max)\n",
    "    print(min)\n",
    "basic(lst)"
   ]
  },
  {
   "cell_type": "code",
   "execution_count": 17,
   "id": "d28dc46f-99e6-41ec-a3cc-6e46ad3177a2",
   "metadata": {},
   "outputs": [
    {
     "name": "stdout",
     "output_type": "stream",
     "text": [
      "Hello, Amaan you are 22 years old\n"
     ]
    }
   ],
   "source": [
    "def intro(name=\"Guest\",age=22):\n",
    "    print(f\"Hello, {name} you are {age} years old\")\n",
    "intro(\"Amaan\")"
   ]
  },
  {
   "cell_type": "code",
   "execution_count": 21,
   "id": "44170ea8-0245-4e0a-9f96-1f29b9532110",
   "metadata": {},
   "outputs": [
    {
     "name": "stdout",
     "output_type": "stream",
     "text": [
      "210\n"
     ]
    }
   ],
   "source": [
    "def multiply(*numbers):\n",
    "    result = 1\n",
    "    for i in numbers:\n",
    "        result *= i\n",
    "    print(result)\n",
    "    \n",
    "multiply(10,7,3)\n",
    "        "
   ]
  },
  {
   "cell_type": "code",
   "execution_count": 27,
   "id": "8e65178c-191e-41ca-ae79-f97eaa4fe5eb",
   "metadata": {},
   "outputs": [
    {
     "name": "stdout",
     "output_type": "stream",
     "text": [
      "Name:Amaan age:22 city:Jaipur "
     ]
    }
   ],
   "source": [
    "def info(**details):\n",
    "    for i,j in details.items():\n",
    "        print(f\"{i}:{j}\", end=\" \")\n",
    "\n",
    "info(Name=\"Amaan\",age=22,city=\"Jaipur\")\n",
    "        \n",
    "    "
   ]
  },
  {
   "cell_type": "code",
   "execution_count": 35,
   "id": "76ab9cb7-abe0-4c66-8b99-8776c8454f04",
   "metadata": {},
   "outputs": [
    {
     "name": "stdout",
     "output_type": "stream",
     "text": [
      "Title :  Data Scientist\n",
      "Points: \n",
      "- Data Cleaning\n",
      "- Data wrangling\n",
      "- EDA\n",
      "- Machine Learning\n",
      "- Deep Learning\n",
      "Metadata: \n",
      "Author:Amaan\n",
      "Duration:2 Years\n"
     ]
    }
   ],
   "source": [
    "def summary(title,*points,**metadata):\n",
    "    print(\"Title : \",title)\n",
    "    print(\"Points: \")\n",
    "    for i in points:\n",
    "        print(f\"- {i}\")\n",
    "    print(\"Metadata: \")\n",
    "    for i,j in metadata.items():\n",
    "        print(f\"{i}:{j}\")\n",
    "\n",
    "summary(\"Data Scientist\",\"Data Cleaning\",\"Data wrangling\",\"EDA\",\"Machine Learning\",\"Deep Learning\", Author= \"Amaan\", Duration = \"2 Years\"  )\n",
    "        \n",
    "        \n",
    "    "
   ]
  },
  {
   "cell_type": "code",
   "execution_count": 39,
   "id": "b2e195b9-d45e-444e-a0b7-561094a8a357",
   "metadata": {},
   "outputs": [
    {
     "name": "stdout",
     "output_type": "stream",
     "text": [
      "5\n"
     ]
    }
   ],
   "source": [
    "sub = lambda a,b: a-b\n",
    "print(sub(10,5))"
   ]
  },
  {
   "cell_type": "code",
   "execution_count": 43,
   "id": "7cac24eb-754d-4fdf-ac7e-f08ca651cc0f",
   "metadata": {},
   "outputs": [
    {
     "name": "stdout",
     "output_type": "stream",
     "text": [
      "[8, 27, 64]\n"
     ]
    }
   ],
   "source": [
    "cube = lambda x : x**3\n",
    "lst = [2,3,4]\n",
    "result = map(cube,lst)\n",
    "print(list(result))"
   ]
  },
  {
   "cell_type": "code",
   "execution_count": 45,
   "id": "b4d1a61e-44e0-4372-b73e-30557d7688bd",
   "metadata": {},
   "outputs": [
    {
     "name": "stdout",
     "output_type": "stream",
     "text": [
      "['Amaan', 'Alina']\n"
     ]
    }
   ],
   "source": [
    "extract = lambda a : a.startswith(\"A\")\n",
    "names = ['Amaan', 'Ravi', 'Alina', 'Sneha']\n",
    "result = filter(extract, names)\n",
    "print(list(result))"
   ]
  },
  {
   "cell_type": "code",
   "execution_count": 51,
   "id": "bec01efa-c7ba-4f3b-9e6a-e788484d7f84",
   "metadata": {},
   "outputs": [
    {
     "name": "stdout",
     "output_type": "stream",
     "text": [
      "[('Sneha', 21), ('Amaan', 22), ('Ravi', 25)]\n"
     ]
    }
   ],
   "source": [
    "students = [('Amaan', 22), ('Ravi', 25), ('Sneha', 21)]\n",
    "fetch_age = lambda x: x[1]\n",
    "result = sorted(students,key=fetch_age)\n",
    "print(list(result))"
   ]
  },
  {
   "cell_type": "code",
   "execution_count": 55,
   "id": "8a28e83c-b912-4918-8c47-00901f27c916",
   "metadata": {},
   "outputs": [
    {
     "name": "stdout",
     "output_type": "stream",
     "text": [
      "24\n"
     ]
    }
   ],
   "source": [
    "from functools import reduce\n",
    "\n",
    "nums = [2, 3, 4]\n",
    "\n",
    "result = reduce(lambda a,b:a*b,nums)\n",
    "print(result)\n"
   ]
  },
  {
   "cell_type": "code",
   "execution_count": null,
   "id": "0710805a-6526-4833-8aa3-0b313365941d",
   "metadata": {},
   "outputs": [],
   "source": []
  }
 ],
 "metadata": {
  "kernelspec": {
   "display_name": "Python [conda env:base] *",
   "language": "python",
   "name": "conda-base-py"
  },
  "language_info": {
   "codemirror_mode": {
    "name": "ipython",
    "version": 3
   },
   "file_extension": ".py",
   "mimetype": "text/x-python",
   "name": "python",
   "nbconvert_exporter": "python",
   "pygments_lexer": "ipython3",
   "version": "3.12.7"
  }
 },
 "nbformat": 4,
 "nbformat_minor": 5
}
