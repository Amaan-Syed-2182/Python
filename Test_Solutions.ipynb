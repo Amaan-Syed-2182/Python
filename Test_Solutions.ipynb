{
 "cells": [
  {
   "cell_type": "code",
   "execution_count": 31,
   "id": "642bf969-0c84-45c6-9281-7ae192d35a4d",
   "metadata": {},
   "outputs": [
    {
     "name": "stdout",
     "output_type": "stream",
     "text": [
      "#\n",
      "##\n",
      "# #\n",
      "#  #\n",
      "# #\n",
      "##\n",
      "#\n"
     ]
    }
   ],
   "source": [
    "# 1. Hollow Right sided Arrow Pattern\n",
    "\n",
    "for i in range(1,5):\n",
    "    for j in range(1,i+1):\n",
    "        if(j==1 or j==i):\n",
    "            print(\"#\",end=\"\")\n",
    "        else:\n",
    "            print(\" \",end=\"\")\n",
    "    print()\n",
    "\n",
    "for i in range(3,0,-1):\n",
    "    for j in range(1,i+1):\n",
    "        if(j==1 or j==i):\n",
    "            print(\"#\",end=\"\")\n",
    "        else:\n",
    "            print(\" \",end=\"\")\n",
    "    print()\n",
    "        "
   ]
  },
  {
   "cell_type": "code",
   "execution_count": 51,
   "id": "6b7be533-e3bb-4ee0-baa3-621f3259a2f5",
   "metadata": {},
   "outputs": [
    {
     "name": "stdout",
     "output_type": "stream",
     "text": [
      "Duplicate values are: ['b', '1', '2', '@']\n",
      "Number of similar character are: 4\n"
     ]
    }
   ],
   "source": [
    "# 2. Finding similar character in two Strings\n",
    "\n",
    "str1 = 'bb1122@x'\n",
    "str2 = 'abcdef@123'\n",
    "\n",
    "count = 0\n",
    "dupli = []\n",
    "for i in range(len(str1)):\n",
    "    for j in range(len(str2)):\n",
    "        if(str1[i] == str2[j] and str2[j] not in dupli):\n",
    "            dupli.append(str2[j])\n",
    "            count+=1\n",
    "print(f\"Duplicate values are: {dupli}\")\n",
    "print(f\"Number of similar character are: {count}\")"
   ]
  },
  {
   "cell_type": "code",
   "execution_count": 93,
   "id": "477862ef-40d1-4802-a5af-d83b964cf502",
   "metadata": {},
   "outputs": [
    {
     "name": "stdout",
     "output_type": "stream",
     "text": [
      "[-20, 60]\n"
     ]
    }
   ],
   "source": [
    "# 3.Finding duplicates value in a list(witjout using Membership Operator)\n",
    "\n",
    "x = [40,50,-20,60,60,-20,-20]\n",
    "dupli = []\n",
    "for i in range(len(x)):\n",
    "    for j in range(i+1,len(x)):\n",
    "        if(x[i] == x[j]):\n",
    "            if(len(dupli) == 0):\n",
    "                dupli.append(x[j])\n",
    "            else:\n",
    "                counter = 0\n",
    "                for k in range(len(dupli)):\n",
    "                    if(dupli[k]==x[j]):\n",
    "                        counter +=1\n",
    "                        break\n",
    "                if(counter == 0):\n",
    "                    dupli.append(x[j])\n",
    "                        \n",
    "print(dupli)\n"
   ]
  },
  {
   "cell_type": "code",
   "execution_count": 77,
   "id": "95a2781d-90fa-4b31-bfa0-34ab6f3de93b",
   "metadata": {},
   "outputs": [
    {
     "name": "stdout",
     "output_type": "stream",
     "text": [
      "*******\n",
      " *   *\n",
      "  * *\n",
      "   *\n"
     ]
    }
   ],
   "source": [
    "# 4.Inverted Odd star pyramid\n",
    "\n",
    "for i in range(4,0,-1):\n",
    "    for j in range(4,i,-1):\n",
    "        print(\" \",end=\"\")\n",
    "    for k in range(1,i*2):\n",
    "        if(i==4 or k==1 or k==i*2-1):\n",
    "            print(\"*\",end=\"\")\n",
    "        else:\n",
    "            print(\" \",end=\"\")\n",
    "    print()"
   ]
  },
  {
   "cell_type": "code",
   "execution_count": 87,
   "id": "c0a2c913-c5c5-4d28-a762-37d4f9150004",
   "metadata": {},
   "outputs": [
    {
     "name": "stdout",
     "output_type": "stream",
     "text": [
      "2 3 5 7 11 "
     ]
    }
   ],
   "source": [
    "# 5.Prime numbers between 1 and 11\n",
    "\n",
    "for i in range(2,12):\n",
    "    count = 0\n",
    "    for j in range(2,i):\n",
    "        if(i%j==0):\n",
    "            count+=1\n",
    "            break\n",
    "    if(count == 0):\n",
    "        print(i,end=\" \")"
   ]
  }
 ],
 "metadata": {
  "kernelspec": {
   "display_name": "Python [conda env:base] *",
   "language": "python",
   "name": "conda-base-py"
  },
  "language_info": {
   "codemirror_mode": {
    "name": "ipython",
    "version": 3
   },
   "file_extension": ".py",
   "mimetype": "text/x-python",
   "name": "python",
   "nbconvert_exporter": "python",
   "pygments_lexer": "ipython3",
   "version": "3.12.7"
  }
 },
 "nbformat": 4,
 "nbformat_minor": 5
}
