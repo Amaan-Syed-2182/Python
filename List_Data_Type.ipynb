{
 "cells": [
  {
   "cell_type": "markdown",
   "id": "f0f93b73-64b9-408b-9922-f7eb9ea6cb44",
   "metadata": {},
   "source": [
    "## List Data Type"
   ]
  },
  {
   "cell_type": "code",
   "execution_count": 7,
   "id": "e51076eb-ce40-447a-ac12-6abd584ba26a",
   "metadata": {},
   "outputs": [
    {
     "name": "stdout",
     "output_type": "stream",
     "text": [
      "10\n",
      "10.5\n",
      "('Amaan', 123, 23.6)\n"
     ]
    }
   ],
   "source": [
    "# List is a Sequence data type.\n",
    "# Hetrogenous collection  of Elements\n",
    "# Ordered Format\n",
    "# Position => every Elementhas a proper Index\n",
    "\n",
    "x= [10,10.5,(\"Amaan\",123,23.6)]\n",
    "\n",
    "for i in x:\n",
    "    print(i)"
   ]
  },
  {
   "cell_type": "code",
   "execution_count": 13,
   "id": "93e30a9b-e761-4c81-82f7-080ae913db31",
   "metadata": {},
   "outputs": [
    {
     "name": "stdout",
     "output_type": "stream",
     "text": [
      "[10, 123.5, ('Amaan', 123, 23.6)]\n"
     ]
    }
   ],
   "source": [
    "x[1] = 123.5\n",
    "print(x)"
   ]
  },
  {
   "cell_type": "code",
   "execution_count": 15,
   "id": "14eeec23-8826-4406-a693-17885f6cc840",
   "metadata": {},
   "outputs": [
    {
     "name": "stdout",
     "output_type": "stream",
     "text": [
      "[10, 123.5, ('Amaan', 123, 23.6), 80]\n"
     ]
    }
   ],
   "source": [
    "# append()\n",
    "# inserts new element at last\n",
    "x.append(80)\n",
    "print(x)"
   ]
  },
  {
   "cell_type": "code",
   "execution_count": 17,
   "id": "0f817771-536c-4e0b-a616-19f99784ec77",
   "metadata": {},
   "outputs": [
    {
     "name": "stdout",
     "output_type": "stream",
     "text": [
      "[10, 123.5, ('Amaan', 123, 23.6), 80, 'H', 'e', 'l', 'l', 'o']\n"
     ]
    }
   ],
   "source": [
    "# Multiple Elements => Extend function\n",
    "x.extend(\"Hello\")\n",
    "print(x)"
   ]
  },
  {
   "cell_type": "code",
   "execution_count": 19,
   "id": "2c241594-13f7-4b2a-9a42-bb238e952bd7",
   "metadata": {},
   "outputs": [
    {
     "name": "stdout",
     "output_type": "stream",
     "text": [
      "[10, 123.5, ('Amaan', 123, 23.6), 80, 'H', 'e', 'l', 'l', 'o', 'Hello']\n"
     ]
    }
   ],
   "source": [
    "x.extend([\"Hello\"])\n",
    "print(x)"
   ]
  },
  {
   "cell_type": "code",
   "execution_count": 23,
   "id": "2f6f09c6-3ff4-420c-9613-a8aab002f01d",
   "metadata": {},
   "outputs": [
    {
     "name": "stdout",
     "output_type": "stream",
     "text": [
      "[10, 123.5, ('Amaan', 123, 23.6), 80, 'H', 'e', 'l', 'l', 'o', 'Hello', 'REGex']\n"
     ]
    }
   ],
   "source": [
    "x.extend([\"REGex\"])\n",
    "print(x)"
   ]
  },
  {
   "cell_type": "code",
   "execution_count": 25,
   "id": "46d260ca-d7d3-4e6b-a96c-e6b0bf9447d6",
   "metadata": {},
   "outputs": [
    {
     "name": "stdout",
     "output_type": "stream",
     "text": [
      "[10, 123.5, ('Amaan', 123, 23.6), 80, 'H', 'e', 'l', 'l', 'o', 'Hello']\n",
      "REGex\n"
     ]
    }
   ],
   "source": [
    "# Pop()\n",
    "# Deletes the element at last \n",
    "out = x.pop()\n",
    "print(x)\n",
    "print(out)"
   ]
  },
  {
   "cell_type": "code",
   "execution_count": 27,
   "id": "7ba7f6ac-2ab6-4c76-9142-2ba518228e59",
   "metadata": {},
   "outputs": [
    {
     "name": "stdout",
     "output_type": "stream",
     "text": [
      "[10, 123.5, 'Data Science', ('Amaan', 123, 23.6), 80, 'H', 'e', 'l', 'l', 'o', 'Hello']\n"
     ]
    }
   ],
   "source": [
    "# Insert at any position\n",
    "x.insert(2,\"Data Science\")\n",
    "print(x)"
   ]
  },
  {
   "cell_type": "code",
   "execution_count": 4,
   "id": "bb7677ca-f811-499a-94b0-0863cf63a61c",
   "metadata": {},
   "outputs": [
    {
     "name": "stdout",
     "output_type": "stream",
     "text": [
      "[1, 3, 4, 5, 7, 8, 32, 65, 77, 89, 677]\n",
      "[677, 89, 77, 65, 32, 8, 7, 5, 4, 3, 1]\n"
     ]
    }
   ],
   "source": [
    "# Sorting a list in Ascending or Descending\n",
    "my_list = [1,7,4,3,5,677,65,32,8,77,89]\n",
    "my_list.sort()\n",
    "print(my_list)\n",
    "# For Descending\n",
    "my_list.sort(reverse=True)\n",
    "print(my_list)"
   ]
  },
  {
   "cell_type": "code",
   "execution_count": 33,
   "id": "5fa31d85-064a-4824-a3eb-4acbd7cb2d92",
   "metadata": {},
   "outputs": [
    {
     "name": "stdout",
     "output_type": "stream",
     "text": [
      "Help on list object:\n",
      "\n",
      "class list(object)\n",
      " |  list(iterable=(), /)\n",
      " |\n",
      " |  Built-in mutable sequence.\n",
      " |\n",
      " |  If no argument is given, the constructor creates a new empty list.\n",
      " |  The argument must be an iterable if specified.\n",
      " |\n",
      " |  Methods defined here:\n",
      " |\n",
      " |  __add__(self, value, /)\n",
      " |      Return self+value.\n",
      " |\n",
      " |  __contains__(self, key, /)\n",
      " |      Return bool(key in self).\n",
      " |\n",
      " |  __delitem__(self, key, /)\n",
      " |      Delete self[key].\n",
      " |\n",
      " |  __eq__(self, value, /)\n",
      " |      Return self==value.\n",
      " |\n",
      " |  __ge__(self, value, /)\n",
      " |      Return self>=value.\n",
      " |\n",
      " |  __getattribute__(self, name, /)\n",
      " |      Return getattr(self, name).\n",
      " |\n",
      " |  __getitem__(self, index, /)\n",
      " |      Return self[index].\n",
      " |\n",
      " |  __gt__(self, value, /)\n",
      " |      Return self>value.\n",
      " |\n",
      " |  __iadd__(self, value, /)\n",
      " |      Implement self+=value.\n",
      " |\n",
      " |  __imul__(self, value, /)\n",
      " |      Implement self*=value.\n",
      " |\n",
      " |  __init__(self, /, *args, **kwargs)\n",
      " |      Initialize self.  See help(type(self)) for accurate signature.\n",
      " |\n",
      " |  __iter__(self, /)\n",
      " |      Implement iter(self).\n",
      " |\n",
      " |  __le__(self, value, /)\n",
      " |      Return self<=value.\n",
      " |\n",
      " |  __len__(self, /)\n",
      " |      Return len(self).\n",
      " |\n",
      " |  __lt__(self, value, /)\n",
      " |      Return self<value.\n",
      " |\n",
      " |  __mul__(self, value, /)\n",
      " |      Return self*value.\n",
      " |\n",
      " |  __ne__(self, value, /)\n",
      " |      Return self!=value.\n",
      " |\n",
      " |  __repr__(self, /)\n",
      " |      Return repr(self).\n",
      " |\n",
      " |  __reversed__(self, /)\n",
      " |      Return a reverse iterator over the list.\n",
      " |\n",
      " |  __rmul__(self, value, /)\n",
      " |      Return value*self.\n",
      " |\n",
      " |  __setitem__(self, key, value, /)\n",
      " |      Set self[key] to value.\n",
      " |\n",
      " |  __sizeof__(self, /)\n",
      " |      Return the size of the list in memory, in bytes.\n",
      " |\n",
      " |  append(self, object, /)\n",
      " |      Append object to the end of the list.\n",
      " |\n",
      " |  clear(self, /)\n",
      " |      Remove all items from list.\n",
      " |\n",
      " |  copy(self, /)\n",
      " |      Return a shallow copy of the list.\n",
      " |\n",
      " |  count(self, value, /)\n",
      " |      Return number of occurrences of value.\n",
      " |\n",
      " |  extend(self, iterable, /)\n",
      " |      Extend list by appending elements from the iterable.\n",
      " |\n",
      " |  index(self, value, start=0, stop=9223372036854775807, /)\n",
      " |      Return first index of value.\n",
      " |\n",
      " |      Raises ValueError if the value is not present.\n",
      " |\n",
      " |  insert(self, index, object, /)\n",
      " |      Insert object before index.\n",
      " |\n",
      " |  pop(self, index=-1, /)\n",
      " |      Remove and return item at index (default last).\n",
      " |\n",
      " |      Raises IndexError if list is empty or index is out of range.\n",
      " |\n",
      " |  remove(self, value, /)\n",
      " |      Remove first occurrence of value.\n",
      " |\n",
      " |      Raises ValueError if the value is not present.\n",
      " |\n",
      " |  reverse(self, /)\n",
      " |      Reverse *IN PLACE*.\n",
      " |\n",
      " |  sort(self, /, *, key=None, reverse=False)\n",
      " |      Sort the list in ascending order and return None.\n",
      " |\n",
      " |      The sort is in-place (i.e. the list itself is modified) and stable (i.e. the\n",
      " |      order of two equal elements is maintained).\n",
      " |\n",
      " |      If a key function is given, apply it once to each list item and sort them,\n",
      " |      ascending or descending, according to their function values.\n",
      " |\n",
      " |      The reverse flag can be set to sort in descending order.\n",
      " |\n",
      " |  ----------------------------------------------------------------------\n",
      " |  Class methods defined here:\n",
      " |\n",
      " |  __class_getitem__(...)\n",
      " |      See PEP 585\n",
      " |\n",
      " |  ----------------------------------------------------------------------\n",
      " |  Static methods defined here:\n",
      " |\n",
      " |  __new__(*args, **kwargs)\n",
      " |      Create and return a new object.  See help(type) for accurate signature.\n",
      " |\n",
      " |  ----------------------------------------------------------------------\n",
      " |  Data and other attributes defined here:\n",
      " |\n",
      " |  __hash__ = None\n",
      "\n"
     ]
    }
   ],
   "source": [
    "# With help() we can see the functions of any data type\n",
    "help(my_list)"
   ]
  },
  {
   "cell_type": "code",
   "execution_count": 6,
   "id": "67348f85-96d5-4054-b5f5-258c92d397a0",
   "metadata": {},
   "outputs": [
    {
     "name": "stdout",
     "output_type": "stream",
     "text": [
      "4\n"
     ]
    }
   ],
   "source": [
    "# count() -> To count the occurence of a element\n",
    "x = [1,7,4,3,5,677,65,32,8,77,89,7,7,7]\n",
    "\n",
    "print(x.count(7))\n"
   ]
  },
  {
   "cell_type": "code",
   "execution_count": 8,
   "id": "21a708bf-633b-4e88-b5cf-5d6ebdbf9295",
   "metadata": {},
   "outputs": [
    {
     "name": "stdout",
     "output_type": "stream",
     "text": [
      "3\n"
     ]
    }
   ],
   "source": [
    "# remove() -> Removes the First Occurence of a value\n",
    "x.remove(7)\n",
    "print(x.count(7))"
   ]
  },
  {
   "cell_type": "code",
   "execution_count": 12,
   "id": "39d0a2fc-a4c6-4bc4-843e-abdc691e4b54",
   "metadata": {},
   "outputs": [
    {
     "name": "stdout",
     "output_type": "stream",
     "text": [
      "10\n",
      "[1, 4, 3, 5, 677, 65, 32, 8, 77, 89, 7, 7, 7]\n"
     ]
    }
   ],
   "source": [
    "# index() -> Returns the index of first occurence of a element or value\n",
    "print(x.index(7))\n",
    "print(x)"
   ]
  },
  {
   "cell_type": "code",
   "execution_count": 22,
   "id": "9cff364d-ee2f-4f23-aac5-8b2c92ca2ecb",
   "metadata": {},
   "outputs": [
    {
     "name": "stdout",
     "output_type": "stream",
     "text": [
      "[1, 4, 3, 5, 677, 65, 32, 8, 77, 89, 7, 7, 7]\n",
      "<class 'list'>\n",
      "False\n"
     ]
    }
   ],
   "source": [
    "# copy() -> Returns a Shallow Copy of a list\n",
    "new = x.copy()\n",
    "print(new)\n",
    "print(type(new))\n",
    "print(new is x)"
   ]
  },
  {
   "cell_type": "code",
   "execution_count": 24,
   "id": "b1b467d7-b631-4838-8b1e-f261609020c2",
   "metadata": {},
   "outputs": [
    {
     "name": "stdout",
     "output_type": "stream",
     "text": [
      "[]\n",
      "[1, 4, 3, 5, 677, 65, 32, 8, 77, 89, 7, 7, 7]\n"
     ]
    }
   ],
   "source": [
    "# clear() -> Removes All the Elements of a List\n",
    "x_new = x.copy()\n",
    "x.clear()\n",
    "print(x)\n",
    "print(x_new)"
   ]
  },
  {
   "cell_type": "code",
   "execution_count": 35,
   "id": "af7a23e9-d53c-445b-8f3a-3a9e9246d778",
   "metadata": {},
   "outputs": [
    {
     "name": "stdout",
     "output_type": "stream",
     "text": [
      "10\n",
      "12\n",
      "34\n",
      "56\n"
     ]
    }
   ],
   "source": [
    "# Loops on Lists\n",
    "\n",
    "my_list = [10,12,34,56]\n",
    "for i in my_list:\n",
    "    print(i)"
   ]
  },
  {
   "cell_type": "code",
   "execution_count": 39,
   "id": "92011836-713f-42ad-857d-8baae56ff23b",
   "metadata": {},
   "outputs": [
    {
     "name": "stdout",
     "output_type": "stream",
     "text": [
      "0 10\n",
      "1 12\n",
      "2 34\n",
      "3 56\n"
     ]
    }
   ],
   "source": [
    "for i in range(len(my_list)):\n",
    "    print(i,my_list[i])"
   ]
  },
  {
   "cell_type": "code",
   "execution_count": 51,
   "id": "a1f6c432-f675-403d-b30f-9c3c9a7794de",
   "metadata": {},
   "outputs": [
    {
     "name": "stdout",
     "output_type": "stream",
     "text": [
      "20\n",
      "30\n",
      "43\n",
      "32\n",
      "67\n",
      "98\n"
     ]
    }
   ],
   "source": [
    "# Fetch Value Greater than 10\n",
    "my_list = [10,20,30,5,7,8,4,43,32,67,98]\n",
    "for i in range(0,len(my_list)):\n",
    "    if(my_list[i] > 10):\n",
    "        print(my_list[i])"
   ]
  },
  {
   "cell_type": "code",
   "execution_count": 57,
   "id": "893cd33d-2616-44d9-b20b-8748449e19a2",
   "metadata": {},
   "outputs": [
    {
     "name": "stdout",
     "output_type": "stream",
     "text": [
      "[20, 30, 43, 32, 67, 98]\n"
     ]
    }
   ],
   "source": [
    "# Fetch Value Greater than 10 and store it in new_list\n",
    "my_list = [10,20,30,5,7,8,4,43,32,67,98]\n",
    "new_list =[]\n",
    "for i in range(0,len(my_list)):\n",
    "    if(my_list[i] > 10):\n",
    "        new_list.append(my_list[i])\n",
    "\n",
    "print(new_list)"
   ]
  },
  {
   "cell_type": "code",
   "execution_count": 83,
   "id": "403d9a80-5e58-437b-ac2c-4007dc0d8108",
   "metadata": {},
   "outputs": [
    {
     "name": "stdout",
     "output_type": "stream",
     "text": [
      "<class 'str'>\n",
      "['Amaan', 'Syed']\n"
     ]
    }
   ],
   "source": [
    "# Fetch only Character value\n",
    "my_list = [10,20,30,\"Amaan\",\"Syed\"]\n",
    "a = type(\"Amaan\")\n",
    "print(a)\n",
    "new_list = []\n",
    "for i in range(len(my_list)):\n",
    "    if(type(my_list[i]) == str):\n",
    "        new_list.append(my_list[i])\n",
    "\n",
    "print(new_list)"
   ]
  },
  {
   "cell_type": "code",
   "execution_count": 87,
   "id": "b713aeae-58f6-4c6c-a66a-de139f1666ae",
   "metadata": {},
   "outputs": [
    {
     "name": "stdout",
     "output_type": "stream",
     "text": [
      "30\n"
     ]
    }
   ],
   "source": [
    "# Fetch the Max Value\n",
    "my_list = [10,20,30]\n",
    "max = 0\n",
    "for i in range(len(my_list)):\n",
    "    if(my_list[i] > max):\n",
    "        max = my_list[i]\n",
    "\n",
    "print(max)\n",
    "    "
   ]
  },
  {
   "cell_type": "code",
   "execution_count": 101,
   "id": "5a80de6a-034f-4347-8be7-7814596a2557",
   "metadata": {},
   "outputs": [
    {
     "name": "stdout",
     "output_type": "stream",
     "text": [
      "Sum of Elements is: 178\n",
      "Total number of Elements are: 5\n",
      "Average is: 35.6\n"
     ]
    }
   ],
   "source": [
    "# Find the sum of elements, count the number of element and calculate the Average of Elements in a List\n",
    "my_list = [10,20,40,65,43]\n",
    "summ=0\n",
    "count=0\n",
    "for i in range(len(my_list)):\n",
    "    count +=1\n",
    "    summ += my_list[i]\n",
    "\n",
    "avg = summ/count\n",
    "print(f\"Sum of Elements is: {summ}\")\n",
    "print(f\"Total number of Elements are: {count}\")\n",
    "print(f\"Average is: {avg}\")\n"
   ]
  },
  {
   "cell_type": "code",
   "execution_count": 105,
   "id": "b46877d7-eca3-4734-b72a-bec129d1eef3",
   "metadata": {},
   "outputs": [
    {
     "name": "stdout",
     "output_type": "stream",
     "text": [
      "['hllo', 'user', 'aman']\n"
     ]
    }
   ],
   "source": [
    "# Fetch the string of size 4 in a new list\n",
    "list1 = ['hllo','hey','user','aman','amaan']\n",
    "new = []\n",
    "for i in range(len(list1)):\n",
    "    if(len(list1[i])==4):\n",
    "       new.append(list1[i])\n",
    "print(new)"
   ]
  },
  {
   "cell_type": "code",
   "execution_count": null,
   "id": "4fbdbe88-60f7-4a89-962a-d1d0069f2f54",
   "metadata": {},
   "outputs": [],
   "source": []
  }
 ],
 "metadata": {
  "kernelspec": {
   "display_name": "Python [conda env:base] *",
   "language": "python",
   "name": "conda-base-py"
  },
  "language_info": {
   "codemirror_mode": {
    "name": "ipython",
    "version": 3
   },
   "file_extension": ".py",
   "mimetype": "text/x-python",
   "name": "python",
   "nbconvert_exporter": "python",
   "pygments_lexer": "ipython3",
   "version": "3.12.7"
  }
 },
 "nbformat": 4,
 "nbformat_minor": 5
}
