{
 "cells": [
  {
   "cell_type": "code",
   "execution_count": 59,
   "id": "277cb478-7fde-41d3-8a6e-0e7a883bcaaf",
   "metadata": {},
   "outputs": [
    {
     "name": "stdin",
     "output_type": "stream",
     "text": [
      "Enter the Number:  7\n"
     ]
    },
    {
     "name": "stdout",
     "output_type": "stream",
     "text": [
      "Prime\n"
     ]
    }
   ],
   "source": [
    "# Prime number or Not\n",
    "num = int(input(\"Enter the Number: \"))\n",
    "\n",
    "total_factor = 0\n",
    "i = 1 \n",
    "while(i<= num):\n",
    "    if(num %i== 0):\n",
    "        total_factor += 1\n",
    "    i+=1\n",
    "\n",
    "if(total_factor > 2):\n",
    "    print(\"Not Prime\")\n",
    "else:\n",
    "    print(\"Prime\")"
   ]
  },
  {
   "cell_type": "code",
   "execution_count": 3,
   "id": "43a7e286-6de7-4206-889c-4ac07296e2d5",
   "metadata": {},
   "outputs": [
    {
     "name": "stdout",
     "output_type": "stream",
     "text": [
      "1 2 3 "
     ]
    }
   ],
   "source": [
    "# Break statement\n",
    "start = 1\n",
    "\n",
    "while(start<=5):\n",
    "    if(start == 4):\n",
    "        break\n",
    "    print(start,end=\" \")\n",
    "    start+=1"
   ]
  },
  {
   "cell_type": "code",
   "execution_count": 11,
   "id": "d3d3fd7f-cb8a-4980-abe9-db7dfb13bca4",
   "metadata": {},
   "outputs": [
    {
     "name": "stdout",
     "output_type": "stream",
     "text": [
      "1 2 3 5 "
     ]
    }
   ],
   "source": [
    "# Continue Statement \n",
    "start= 1\n",
    "while(start<=5):\n",
    "    if(start == 4):\n",
    "        start += 1\n",
    "        continue\n",
    "    print(start,end=\" \")\n",
    "    start += 1"
   ]
  },
  {
   "cell_type": "code",
   "execution_count": 37,
   "id": "e939336a-0be5-4301-b163-f8cf28ee4bdf",
   "metadata": {},
   "outputs": [
    {
     "name": "stdin",
     "output_type": "stream",
     "text": [
      "Enter the Number:  89\n"
     ]
    },
    {
     "name": "stdout",
     "output_type": "stream",
     "text": [
      "Prime\n",
      "Iterations are: 42\n"
     ]
    }
   ],
   "source": [
    "# Prime most efficient code\n",
    "num = int(input(\"Enter the Number: \"))\n",
    "i = 2\n",
    "iterations = 0\n",
    "count = 0\n",
    "while(i<num//2):\n",
    "    if(num%i==0):\n",
    "        count +=1\n",
    "        iteration += 1\n",
    "        break\n",
    "    else:\n",
    "        iterations += 1\n",
    "        i+=1\n",
    "if(count == 0):\n",
    "    print(\"Prime\")\n",
    "else:\n",
    "    print(\"Not Prime\")\n",
    "\n",
    "print(f\"Iterations are: {iterations}\")"
   ]
  },
  {
   "cell_type": "code",
   "execution_count": 41,
   "id": "e0126e85-bb31-422e-b26c-793b01889a59",
   "metadata": {},
   "outputs": [
    {
     "name": "stdin",
     "output_type": "stream",
     "text": [
      "Enter a Number:  7\n"
     ]
    },
    {
     "name": "stdout",
     "output_type": "stream",
     "text": [
      "Prime\n"
     ]
    }
   ],
   "source": [
    "# Prime using for loop\n",
    "num = int(input(\"Enter a Number: \"))\n",
    "count = 0\n",
    "for i in range(2,num//2):\n",
    "    if(num%i==0):\n",
    "        count+=1\n",
    "        break\n",
    "\n",
    "if(count==0):\n",
    "    print(\"Prime\")\n",
    "else:\n",
    "    print(\"Not Prime\")"
   ]
  },
  {
   "cell_type": "code",
   "execution_count": 65,
   "id": "9a8b1b10-e5ce-4f01-ab73-868cd713a186",
   "metadata": {},
   "outputs": [
    {
     "name": "stdin",
     "output_type": "stream",
     "text": [
      "Enter a Number:  313\n"
     ]
    },
    {
     "name": "stdout",
     "output_type": "stream",
     "text": [
      "Palindrome\n"
     ]
    }
   ],
   "source": [
    "# Palindrome Number\n",
    "data = input(\"Enter a Number: \")\n",
    "i = 0\n",
    "end= len(data)-1\n",
    "out = 0\n",
    "while(i<len(data)):\n",
    "    if(data[i] != data[end]):\n",
    "        out = 1\n",
    "    i+=1\n",
    "    end-=1\n",
    "\n",
    "if(out==0):\n",
    "    print(\"Palindrome\")\n",
    "else:\n",
    "    print(\"Not a Palindrome\")"
   ]
  }
 ],
 "metadata": {
  "kernelspec": {
   "display_name": "Python [conda env:base] *",
   "language": "python",
   "name": "conda-base-py"
  },
  "language_info": {
   "codemirror_mode": {
    "name": "ipython",
    "version": 3
   },
   "file_extension": ".py",
   "mimetype": "text/x-python",
   "name": "python",
   "nbconvert_exporter": "python",
   "pygments_lexer": "ipython3",
   "version": "3.12.7"
  }
 },
 "nbformat": 4,
 "nbformat_minor": 5
}
