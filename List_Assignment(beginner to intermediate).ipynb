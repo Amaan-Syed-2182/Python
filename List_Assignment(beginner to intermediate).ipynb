{
 "cells": [
  {
   "cell_type": "markdown",
   "id": "bcc8f84c-ace0-4a4d-ab31-8a65587c2bfc",
   "metadata": {},
   "source": [
    "## List Questions"
   ]
  },
  {
   "cell_type": "markdown",
   "id": "585ecd58-adcc-42c5-92fe-8aadc929da1f",
   "metadata": {},
   "source": [
    "### Beginner"
   ]
  },
  {
   "cell_type": "code",
   "execution_count": 3,
   "id": "17c02adc-1e0b-4eff-b901-e05390757eb4",
   "metadata": {},
   "outputs": [
    {
     "name": "stdout",
     "output_type": "stream",
     "text": [
      "Maximum Value is: 50\n"
     ]
    }
   ],
   "source": [
    "# 1. Finding Max value in list\n",
    "\n",
    "x = [10,20,30,40,50,32,12]\n",
    "max = x[0]\n",
    "\n",
    "for i in range(len(x)):\n",
    "    if(x[i] > max):\n",
    "        max = x[i]\n",
    "\n",
    "print(f\"Maximum Value is: {max}\")"
   ]
  },
  {
   "cell_type": "code",
   "execution_count": 7,
   "id": "bf9e6ef9-adce-4c05-af93-2357eeb8c7fb",
   "metadata": {},
   "outputs": [
    {
     "name": "stdout",
     "output_type": "stream",
     "text": [
      "Sum of all values is: 194\n"
     ]
    }
   ],
   "source": [
    "# 2. Write a Python program to sum all the elements in a list of numbers.\n",
    "\n",
    "x = [10,20,30,40,50,32,12]\n",
    "sum = 0\n",
    "for i in range(len(x)):\n",
    "    sum += x[i]\n",
    "\n",
    "print(f\"Sum of all values is: {sum}\")\n",
    "\n"
   ]
  },
  {
   "cell_type": "code",
   "execution_count": 11,
   "id": "625d6cef-d936-415c-b2b9-d222b40fe3e8",
   "metadata": {},
   "outputs": [
    {
     "name": "stdout",
     "output_type": "stream",
     "text": [
      "Reversed List is: [12, 32, 50, 40, 30, 20, 10]\n"
     ]
    }
   ],
   "source": [
    "# 3. Write a Python program to reverse a list without reverse or slicing operator\n",
    "\n",
    "x = [10,20,30,40,50,32,12]\n",
    "\n",
    "i = 0\n",
    "end = len(x)-1\n",
    "\n",
    "while(i<end):\n",
    "    x[i],x[end] = x[end],x[i]\n",
    "    i+=1\n",
    "    end -= 1\n",
    "\n",
    "print(f\"Reversed List is: {x}\")\n"
   ]
  },
  {
   "cell_type": "code",
   "execution_count": 35,
   "id": "92da2c7b-ce09-4372-867b-d996691d6447",
   "metadata": {},
   "outputs": [
    {
     "name": "stdout",
     "output_type": "stream",
     "text": [
      "Lsit After Ascending sort: [4, 5, 12, 18, 23, 32, 41, 43, 56, 89]\n"
     ]
    }
   ],
   "source": [
    "# 4. Write a Python program to sort a list in ascending order without sort functions\n",
    "\n",
    "x = [43,23,12,4,89,5,32,41,56,18]\n",
    "i = 0\n",
    "for i in range(0,len(x)-1):\n",
    "    for j in range(i+1,len(x)):\n",
    "        if(x[i] > x[j]):\n",
    "            x[i],x[j] = x[j],x[i]\n",
    "\n",
    "print(f\"Lsit After Ascending sort: {x}\")"
   ]
  },
  {
   "cell_type": "code",
   "execution_count": 55,
   "id": "fd4002da-f9c6-4f70-ad9e-4a78b11b1010",
   "metadata": {},
   "outputs": [
    {
     "name": "stdout",
     "output_type": "stream",
     "text": [
      "List after Duplicate Removal: [43, 23, 12, 4, 89, 5, 32, 41, 56, 18]\n",
      "Duplicates were: [43, 23, 12, 4, 5, 32, 18]\n",
      "Length of original list was 17\n",
      "Number of duplicates are: 7\n",
      "Elements in updated list: 10\n"
     ]
    }
   ],
   "source": [
    "# 5. Write a Python program to remove duplicates from a list while maintaining the order\n",
    "# of elements.\n",
    "\n",
    "\n",
    "x = [43,23,12,4,89,5,4,43,32,41,56,18,18,23,12,5,32]\n",
    "length = len(x)\n",
    "\n",
    "new = []\n",
    "i = 0\n",
    "\n",
    "while(i<len(x)):\n",
    "    j = i+1\n",
    "    \n",
    "    while(j<len(x)):\n",
    "        if(x[i] == x[j]):\n",
    "            new.append(x.pop(j))\n",
    "        else:\n",
    "            j+=1\n",
    "    i+=1\n",
    "    \n",
    "print(f\"List after Duplicate Removal: {x}\")\n",
    "print(f\"Duplicates were: {new}\")\n",
    "print(f\"Length of original list was {length}\")\n",
    "print(f\"Number of duplicates are: {len(new)}\")\n",
    "print(f\"Elements in updated list: {len(x)}\")\n",
    "            \n",
    "\n"
   ]
  },
  {
   "cell_type": "code",
   "execution_count": 79,
   "id": "6edff95b-c172-436f-8955-bdf9d2382899",
   "metadata": {},
   "outputs": [
    {
     "name": "stdout",
     "output_type": "stream",
     "text": [
      "[[1, 5], [2, 4], [3, 3]]\n"
     ]
    }
   ],
   "source": [
    "# 6.Write a Python program to find all pairs of numbers in a list that add up to a specific\n",
    "# target sum.\n",
    "\n",
    "x = [1,2,3,4,3,5,6]\n",
    "target = 6\n",
    "new = []\n",
    "i = 0\n",
    "\n",
    "while(i < len(x)):\n",
    "    next = i+1    \n",
    "    while(next<len(x)):\n",
    "        if(x[i] + x[next] == target):\n",
    "            pair = [x[i],x[next]]\n",
    "            new.append(pair)\n",
    "        \n",
    "        next += 1\n",
    "    i+=1\n",
    "\n",
    "print(new)"
   ]
  },
  {
   "cell_type": "code",
   "execution_count": 76,
   "id": "4307de1c-2e96-4716-ba8d-ba6a2e1ebd4c",
   "metadata": {},
   "outputs": [
    {
     "ename": "TypeError",
     "evalue": "'int' object is not iterable",
     "output_type": "error",
     "traceback": [
      "\u001b[1;31m---------------------------------------------------------------------------\u001b[0m",
      "\u001b[1;31mTypeError\u001b[0m                                 Traceback (most recent call last)",
      "Cell \u001b[1;32mIn[76], line 5\u001b[0m\n\u001b[0;32m      3\u001b[0m flatten \u001b[38;5;241m=\u001b[39m []\n\u001b[0;32m      4\u001b[0m \u001b[38;5;28;01mfor\u001b[39;00m sublist \u001b[38;5;129;01min\u001b[39;00m x:\n\u001b[1;32m----> 5\u001b[0m     \u001b[38;5;28;01mfor\u001b[39;00m item \u001b[38;5;129;01min\u001b[39;00m sublist:\n\u001b[0;32m      6\u001b[0m         flatten\u001b[38;5;241m.\u001b[39mappend(item)\n\u001b[0;32m      8\u001b[0m \u001b[38;5;28mprint\u001b[39m(\u001b[38;5;124mf\u001b[39m\u001b[38;5;124m\"\u001b[39m\u001b[38;5;124mFlatten List is: \u001b[39m\u001b[38;5;132;01m{\u001b[39;00mflatten\u001b[38;5;132;01m}\u001b[39;00m\u001b[38;5;124m\"\u001b[39m)\n",
      "\u001b[1;31mTypeError\u001b[0m: 'int' object is not iterable"
     ]
    }
   ],
   "source": [
    "# 7.Write a Python program to flatten a nested list (list within lists) into a single list.\n",
    "x = [1, [2, 3], [4, [5, 6], 7], 8]\n",
    "flatten = []\n",
    "for sublist in x:\n",
    "    for item in sublist:\n",
    "        flatten.append(item)\n",
    "\n",
    "print(f\"Flatten List is: {flatten}\")\n",
    "        \n",
    "\n"
   ]
  },
  {
   "cell_type": "code",
   "execution_count": null,
   "id": "b418bf26-a96d-482e-91ac-71b70d74c2d4",
   "metadata": {},
   "outputs": [],
   "source": [
    "# 8.Write a Python program to find the sum of the elements in a list, excluding the largest\n",
    "# and smallest element. Don’t use max or min functions\n",
    "x = [1,2,3,4,5]\n",
    "max = x[0]\n",
    "min = x[0]\n",
    "sum = 0\n",
    "for i in range(len(x)):\n",
    "    if(max<x[i]):\n",
    "        max=x[i]\n",
    "    if(min>x[i]):\n",
    "        min = x[i]\n",
    "\n",
    "for i in range(len(x)):\n",
    "    if(x[i] == max or x[i]==min):\n",
    "        continue\n",
    "    else:\n",
    "        sum += x[i]\n",
    "print(f\"Addition of values is: {sum}\")"
   ]
  },
  {
   "cell_type": "markdown",
   "id": "1c141d41-eaea-45f2-a9d9-4a01d1e73076",
   "metadata": {},
   "source": [
    "### Intermediate"
   ]
  },
  {
   "cell_type": "code",
   "execution_count": 39,
   "id": "871689c8-d894-4169-a998-7fdddae5e90e",
   "metadata": {},
   "outputs": [
    {
     "name": "stdout",
     "output_type": "stream",
     "text": [
      "List is Palindrome\n"
     ]
    }
   ],
   "source": [
    "\n",
    "# 9.Write a Python program to check if a list is a palindrome (reads the same backward\n",
    "# as forward) using two pointer approach\n",
    "\n",
    "x = [1,2,3,2,1]\n",
    "i = 0\n",
    "end= len(x)-1\n",
    "out = 0\n",
    "while(i<=end):\n",
    "    if(x[i] == x[end]):\n",
    "        i+=1\n",
    "        end-=1\n",
    "    else:\n",
    "        out+=1\n",
    "        break\n",
    "\n",
    "if(out==0):\n",
    "    print(\"List is Palindrome\")\n",
    "else:\n",
    "    print(\"List is Not a Palindrome\")\n"
   ]
  },
  {
   "cell_type": "code",
   "execution_count": 62,
   "id": "8c228e3a-89d4-4a8d-b738-aa463e554629",
   "metadata": {},
   "outputs": [
    {
     "name": "stdout",
     "output_type": "stream",
     "text": [
      "List without duplicate values: [1, 2, 3, 4, 5, 6]\n",
      "Duplicate values were: [2, 1]\n"
     ]
    }
   ],
   "source": [
    "# 10. Write a function to remove duplicate elements from a list.\n",
    "x = [1, 2, 3, 2, 4, 5, 1, 6]\n",
    "dupli = []\n",
    "new=[]\n",
    "for i in range(len(x)):\n",
    "    if(x[i] not in new):\n",
    "        new.append(x[i])\n",
    "    else:\n",
    "        dupli.append(x[i])\n",
    "\n",
    "print(f\"List without duplicate values: {new}\")\n",
    "print(f\"Duplicate values were: {dupli}\")"
   ]
  },
  {
   "cell_type": "code",
   "execution_count": 68,
   "id": "adefa32a-34a2-43fd-b226-65c5b5c9cb85",
   "metadata": {},
   "outputs": [
    {
     "name": "stdout",
     "output_type": "stream",
     "text": [
      "Common elements are: [3, 4, 5]\n"
     ]
    }
   ],
   "source": [
    "# 11.Find Common Elements in Two Lists\n",
    "list1 = [1, 2, 3, 4, 5]\n",
    "list2 = [3, 4, 5, 6, 7]\n",
    "common = []\n",
    "for i in range(len(list1)):\n",
    "    for j in range(len(list2)):\n",
    "        if(list1[i] == list2[j]):\n",
    "            common.append(list1[i])\n",
    "\n",
    "print(f\"Common elements are: {common}\")"
   ]
  },
  {
   "cell_type": "code",
   "execution_count": 74,
   "id": "4a72ca11-b4a9-49df-93dd-144dc6b6f65b",
   "metadata": {},
   "outputs": [
    {
     "name": "stdout",
     "output_type": "stream",
     "text": [
      "Longest word is: strawberry\n"
     ]
    }
   ],
   "source": [
    "# 12.Find the Longest Word in a List\n",
    "words = [\"apple\", \"banana\", \"strawberry\", \"kiwi\"]\n",
    "max =\"\"\n",
    "for i in words:\n",
    "    if(len(i)>len(max)):\n",
    "        max = i\n",
    "print(f\"Longest word is: {max}\")"
   ]
  },
  {
   "cell_type": "code",
   "execution_count": null,
   "id": "40f992d4-fe40-4d53-b0e2-c0837c952474",
   "metadata": {},
   "outputs": [],
   "source": []
  }
 ],
 "metadata": {
  "kernelspec": {
   "display_name": "Python [conda env:base] *",
   "language": "python",
   "name": "conda-base-py"
  },
  "language_info": {
   "codemirror_mode": {
    "name": "ipython",
    "version": 3
   },
   "file_extension": ".py",
   "mimetype": "text/x-python",
   "name": "python",
   "nbconvert_exporter": "python",
   "pygments_lexer": "ipython3",
   "version": "3.12.7"
  }
 },
 "nbformat": 4,
 "nbformat_minor": 5
}
