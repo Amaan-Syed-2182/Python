{
 "cells": [
  {
   "cell_type": "code",
   "execution_count": 83,
   "id": "bd75ef69-c398-422f-a81c-c3bcd521ae8e",
   "metadata": {},
   "outputs": [
    {
     "name": "stdout",
     "output_type": "stream",
     "text": [
      "Hii Amaan welcome on board!!\n",
      "Hii Rehan welcome on board!!\n",
      "Hii Raj welcome on board!!\n"
     ]
    }
   ],
   "source": [
    "def greeting(z):\n",
    "    print(f\"Hii {z} welcome on board!!\")\n",
    "\n",
    "greeting(\"Amaan\")\n",
    "greeting('Rehan')\n",
    "greeting('Raj')"
   ]
  },
  {
   "cell_type": "code",
   "execution_count": 85,
   "id": "cd9b10ab-33a3-4367-851d-1289cbfed006",
   "metadata": {},
   "outputs": [
    {
     "name": "stdout",
     "output_type": "stream",
     "text": [
      "Armstrong\n"
     ]
    }
   ],
   "source": [
    "def armstrong(n):\n",
    "    original = n\n",
    "    sum = 0\n",
    "    length = len(str(n))\n",
    "    while(n>0):\n",
    "        digit=n%10\n",
    "        sum+= digit**length\n",
    "        n //= 10\n",
    "    if(sum==original):\n",
    "        print(\"Armstrong\")\n",
    "    else:\n",
    "        print(\"Not Armstrong\")\n",
    "\n",
    "\n",
    "armstrong(370)       "
   ]
  },
  {
   "cell_type": "code",
   "execution_count": 87,
   "id": "0ade5772-2727-4939-99c8-51410e740c67",
   "metadata": {},
   "outputs": [
    {
     "name": "stdout",
     "output_type": "stream",
     "text": [
      "Id is 1 Name is Amaan Salary is 90000000\n",
      "Id is Amaan Name is 1 Salary is 8764\n",
      "Id is 2182 Name is Amaan Salary is 1000000\n",
      "Id is 2183 Name is Jaun Elia Salary is 1000000\n"
     ]
    }
   ],
   "source": [
    "def info(id,name,salary):\n",
    "    print(f\"Id is {id} Name is {name} Salary is {salary}\")\n",
    "\n",
    "info(1,'Amaan',90000000)\n",
    "info('Amaan',1,8764)\n",
    "info(name=\"Amaan\",id=2182,salary=1000000)\n",
    "info(id=2183,salary=1000000,name='Jaun Elia')"
   ]
  },
  {
   "cell_type": "code",
   "execution_count": 89,
   "id": "cc0e5a68-5ee8-4544-b4d2-0f7d6cb1b1fe",
   "metadata": {},
   "outputs": [
    {
     "name": "stdout",
     "output_type": "stream",
     "text": [
      "Id is 1 Name is Amaan Salary is 9000\n",
      "Id is Amaan Name is 1 Salary is 8764\n",
      "Id is 2182 Name is Amaan Salary is 9000\n",
      "Id is 2183 Name is Jaun Elia Salary is 1000000\n",
      "Id is 101 Name is Guest Salary is 9000\n"
     ]
    }
   ],
   "source": [
    "def info(id=101,name='Guest',salary=9000):\n",
    "    print(f\"Id is {id} Name is {name} Salary is {salary}\")\n",
    "\n",
    "info(1,'Amaan')\n",
    "info('Amaan',1,8764)\n",
    "info(name=\"Amaan\",id=2182)\n",
    "info(id=2183,salary=1000000,name='Jaun Elia')\n",
    "info()"
   ]
  },
  {
   "cell_type": "code",
   "execution_count": 93,
   "id": "7716c919-1c13-4187-8a7a-a86036788fbd",
   "metadata": {},
   "outputs": [
    {
     "name": "stdout",
     "output_type": "stream",
     "text": [
      "LCM of 5 8 9 is: 360\n"
     ]
    }
   ],
   "source": [
    "# LCM of three numbers\n",
    "def lcm(a,b,c):\n",
    "    greater1 = 0\n",
    "    lcm1 = 0\n",
    "    if(a>b):\n",
    "        greater1 = a\n",
    "    else:\n",
    "        greater1 = b\n",
    "\n",
    "    for i in range(greater1,(a*b)+1):\n",
    "        if(i%a==0 and i%b==0):\n",
    "            lcm1=i\n",
    "            break\n",
    "    greater2 = 0\n",
    "    lcm2 = 0\n",
    "    if(c>lcm1):\n",
    "        greater2 = c\n",
    "    else:\n",
    "        greater2 = lcm1\n",
    "    for i in range(greater2,(c*lcm1)+1):\n",
    "        if(i%c==0 and i%lcm1==0):\n",
    "            lcm2 = i\n",
    "            break\n",
    "    print(f\"LCM of {a} {b} {c} is: {lcm2}\")\n",
    "lcm(5,8,9)"
   ]
  },
  {
   "cell_type": "code",
   "execution_count": null,
   "id": "0b8e0d52-274a-497f-a659-ab500cffa627",
   "metadata": {},
   "outputs": [],
   "source": []
  }
 ],
 "metadata": {
  "kernelspec": {
   "display_name": "Python [conda env:base] *",
   "language": "python",
   "name": "conda-base-py"
  },
  "language_info": {
   "codemirror_mode": {
    "name": "ipython",
    "version": 3
   },
   "file_extension": ".py",
   "mimetype": "text/x-python",
   "name": "python",
   "nbconvert_exporter": "python",
   "pygments_lexer": "ipython3",
   "version": "3.12.7"
  }
 },
 "nbformat": 4,
 "nbformat_minor": 5
}
