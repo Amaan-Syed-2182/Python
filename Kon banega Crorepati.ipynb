{
 "cells": [
  {
   "cell_type": "code",
   "execution_count": 50,
   "id": "17c9baf3-62b9-43dc-84c6-f79d952e8b7f",
   "metadata": {},
   "outputs": [],
   "source": [
    "questionbank2 = [{\"Q\":\"what is the National Animal of India ?\",\"Options\":[\"A Lion\",\"B Dog\",\"C Tiger\",\"D Cheetah\"],\"ans\":\"C\"},\n",
    "                {\"Q\":\"Who is the Father of the Nation ?\",\"Options\":[\"A Shahrukh Khan\",\"B Mahatma Gandhi\",\"C Salman Khan\",\"D Ghajini\"],\"ans\":\"B\"}]\n"
   ]
  },
  {
   "cell_type": "code",
   "execution_count": 70,
   "id": "39c550e6-3c1d-43a3-ad00-c38e0cb5d33b",
   "metadata": {},
   "outputs": [
    {
     "name": "stdout",
     "output_type": "stream",
     "text": [
      "Welcome to Kon Banega Crorepati...\n",
      "question 1 for Prize 10000 is: what is the National Animal of India ?\n",
      "Your Options are: \n",
      "A Lion\n",
      "B Dog\n",
      "C Tiger\n",
      "D Cheetah\n"
     ]
    },
    {
     "name": "stdin",
     "output_type": "stream",
     "text": [
      "Enter your Answer as A,B,C,D or Q to Quit:  C\n"
     ]
    },
    {
     "name": "stdout",
     "output_type": "stream",
     "text": [
      "C\n",
      "KYA BAAT HAI AAP JEEY CHUKE HAI 10000...\n",
      "question 2 for Prize 25000 is: Who is the Father of the Nation ?\n",
      "Your Options are: \n",
      "A Shahrukh Khan\n",
      "B Mahatma Gandhi\n",
      "C Salman Khan\n",
      "D Ghajini\n"
     ]
    },
    {
     "name": "stdin",
     "output_type": "stream",
     "text": [
      "Enter your Answer as A,B,C,D or Q to Quit:  D\n"
     ]
    },
    {
     "name": "stdout",
     "output_type": "stream",
     "text": [
      "D\n",
      "GALAT JAWAB AAP HAAR GYE HAI 0 ...\n"
     ]
    }
   ],
   "source": [
    "print(\"Welcome to Kon Banega Crorepati...\")\n",
    "prize_money = [10000,25000]\n",
    "total_saving = 0\n",
    "for i,q in enumerate(questionbank2):\n",
    "    print(f\"question {i+1} for Prize {prize_money[i]} is: {q[\"Q\"]}\")\n",
    "    print(\"Your Options are: \")\n",
    "    for option in q[\"Options\"]:\n",
    "        print(option)\n",
    "    user_input = input(\"Enter your Answer as A,B,C,D or Q to Quit: \")\n",
    "    print(user_input.upper())\n",
    "    if(user_input.upper() == \"Q\"):\n",
    "        print(f\"Thnak you for Playing... You Won {total_savings}\")\n",
    "        break\n",
    "    if(user_input.upper() == q['ans']):\n",
    "        total_saving += prize_money[i]\n",
    "        print(f\"KYA BAAT HAI AAP JEEY CHUKE HAI {total_saving}...\")\n",
    "    else:\n",
    "        total_saving = 0\n",
    "        print(\"GALAT JAWAB AAP HAAR GYE HAI\",total_saving,\"...\")\n",
    "        \n",
    "        break\n",
    "        "
   ]
  },
  {
   "cell_type": "code",
   "execution_count": null,
   "id": "31287882-36d2-44ca-940b-3a2dc6fb7240",
   "metadata": {},
   "outputs": [],
   "source": []
  }
 ],
 "metadata": {
  "kernelspec": {
   "display_name": "Python [conda env:base] *",
   "language": "python",
   "name": "conda-base-py"
  },
  "language_info": {
   "codemirror_mode": {
    "name": "ipython",
    "version": 3
   },
   "file_extension": ".py",
   "mimetype": "text/x-python",
   "name": "python",
   "nbconvert_exporter": "python",
   "pygments_lexer": "ipython3",
   "version": "3.12.7"
  }
 },
 "nbformat": 4,
 "nbformat_minor": 5
}
