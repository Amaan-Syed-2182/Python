{
 "cells": [
  {
   "cell_type": "code",
   "execution_count": 2,
   "id": "21064ccd-5176-4796-8a06-701fd02d1302",
   "metadata": {},
   "outputs": [
    {
     "name": "stdout",
     "output_type": "stream",
     "text": [
      "99\n"
     ]
    }
   ],
   "source": [
    "# 1.\n",
    "x = [10,20,4,34,99]\n",
    "max = x[0]\n",
    "for i in range(len(x)):\n",
    "    if(x[i]>max):\n",
    "        max=x[i]\n",
    "\n",
    "print(max)"
   ]
  },
  {
   "cell_type": "code",
   "execution_count": 4,
   "id": "8f6d0fb3-0107-4f9a-8d03-1c7c8ea166f9",
   "metadata": {},
   "outputs": [
    {
     "name": "stdout",
     "output_type": "stream",
     "text": [
      "100\n"
     ]
    }
   ],
   "source": [
    "# 2.\n",
    "x = [10,20,30,40]\n",
    "sum = 0\n",
    "for i in range(len(x)):\n",
    "    sum+=x[i]\n",
    "\n",
    "print(sum)"
   ]
  },
  {
   "cell_type": "code",
   "execution_count": 13,
   "id": "47ab8420-d7a0-437e-9ce9-739d7a49706e",
   "metadata": {},
   "outputs": [
    {
     "name": "stdout",
     "output_type": "stream",
     "text": [
      "[66, 40, 30, 20, 10]\n"
     ]
    }
   ],
   "source": [
    "# 3.\n",
    "x = [10,20,30,40,66]\n",
    "i = 0\n",
    "end=len(x)-1\n",
    "\n",
    "while(i<=end):\n",
    "    x[i],x[end] = x[end],x[i]\n",
    "    i+=1\n",
    "    end-=1\n",
    "print(x)"
   ]
  },
  {
   "cell_type": "code",
   "execution_count": 25,
   "id": "1012467f-cc15-470e-9231-c45cc566e256",
   "metadata": {},
   "outputs": [
    {
     "name": "stdout",
     "output_type": "stream",
     "text": [
      "[1, 11, 12, 23, 43, 52, 55, 66, 221]\n"
     ]
    }
   ],
   "source": [
    "# 4.\n",
    "x = [66,43,55,23,12,11,221,52,1]\n",
    "for i in range(len(x)):\n",
    "    for j in range(i+1,len(x)):\n",
    "        if(x[i]>x[j]):\n",
    "            x[i],x[j] = x[j],x[i]\n",
    "print(x)"
   ]
  },
  {
   "cell_type": "code",
   "execution_count": 62,
   "id": "d08e9656-1b17-4386-800a-8f84c797c285",
   "metadata": {},
   "outputs": [
    {
     "name": "stdout",
     "output_type": "stream",
     "text": [
      "[1, 2, 3, 4, 5]\n"
     ]
    }
   ],
   "source": [
    "# 5.\n",
    "x = [1,2,2,3,4,4,5]\n",
    "dupli = []\n",
    "i=0\n",
    "while(i<len(x)):\n",
    "    j = i+1\n",
    "    while(j<len(x)):\n",
    "        \n",
    "        if(x[i] == x[j]):\n",
    "            x.pop(j)\n",
    "        else:\n",
    "            j+=1\n",
    "    i+=1\n",
    "print(x)"
   ]
  },
  {
   "cell_type": "code",
   "execution_count": 45,
   "id": "15f9dd93-d04a-44ed-bcb0-07a442429806",
   "metadata": {},
   "outputs": [
    {
     "name": "stdout",
     "output_type": "stream",
     "text": [
      "[(1, 5), (2, 4), (3, 3)]\n"
     ]
    }
   ],
   "source": [
    "# 6.\n",
    "x = [1,2,3,4,3,5,6]\n",
    "pairs=[]\n",
    "target = 6\n",
    "for i in range(len(x)):\n",
    "    for j in range(i+1,len(x)):\n",
    "        if(x[i]+x[j] == target):\n",
    "            pairs.append((x[i],x[j]))\n",
    "\n",
    "print(pairs)\n"
   ]
  },
  {
   "cell_type": "code",
   "execution_count": 49,
   "id": "01893398-34c8-4c01-883d-7c80b06c181f",
   "metadata": {},
   "outputs": [
    {
     "name": "stdout",
     "output_type": "stream",
     "text": [
      "[1, 2, 3, 4, 5, 6, 7, 8]\n"
     ]
    }
   ],
   "source": [
    "# 7.\n",
    "x = [1, [2, 3], [4, [5, 6], 7], 8]\n",
    "new = []\n",
    "flatten_list = []\n",
    "for i in x:\n",
    "    if(type(i)==list):\n",
    "        new.extend(i)\n",
    "    else:\n",
    "        new.append(i)\n",
    "for i in new:\n",
    "    if(type(i) == list):\n",
    "        flatten_list.extend(i)\n",
    "    else:\n",
    "        flatten_list.append(i)\n",
    "\n",
    "print(flatten_list)\n",
    "        "
   ]
  },
  {
   "cell_type": "code",
   "execution_count": 51,
   "id": "c04e7b4c-559b-4faa-9f6e-a42a28f31a15",
   "metadata": {},
   "outputs": [
    {
     "name": "stdout",
     "output_type": "stream",
     "text": [
      "9\n"
     ]
    }
   ],
   "source": [
    "# 8. Write a Python program to find the sum of the elements in a list, excluding the largest\n",
    "# and smallest element. Don’t use max or min functions.\n",
    "x = [1, 2, 3, 4, 5]\n",
    "max = x[0]\n",
    "min=x[0]\n",
    "for i in range(len(x)):\n",
    "    if(max<x[i]):\n",
    "        max = x[i]\n",
    "    elif(min>x[i]):\n",
    "        min = x[i]\n",
    "sum = 0\n",
    "\n",
    "for i in x:\n",
    "    if(i==max or i==min):\n",
    "        continue\n",
    "    else:\n",
    "        sum+=i\n",
    "print(sum)"
   ]
  },
  {
   "cell_type": "code",
   "execution_count": 55,
   "id": "f95030f5-35ea-4635-93d2-c6f0c3f2c93d",
   "metadata": {},
   "outputs": [
    {
     "name": "stdout",
     "output_type": "stream",
     "text": [
      "Palindrome\n"
     ]
    }
   ],
   "source": [
    "# 9.\n",
    "x = [1,2,3,2,1]\n",
    "i = 0\n",
    "end = len(x)-1\n",
    "out = 0\n",
    "while(i<len(x)):\n",
    "    if(x[i]!=x[end]):\n",
    "        out+=1\n",
    "        break\n",
    "    i+=1\n",
    "    end-=1\n",
    "if(out!=0):\n",
    "    print(\"Not Palindrome\")\n",
    "else:\n",
    "    print(\"Palindrome\")"
   ]
  },
  {
   "cell_type": "code",
   "execution_count": 74,
   "id": "0d8fa775-fbf5-4483-b885-d646055ff347",
   "metadata": {},
   "outputs": [
    {
     "name": "stdout",
     "output_type": "stream",
     "text": [
      "[2, 1]\n",
      "[1, 2, 3, 2, 4, 5, 1, 6]\n"
     ]
    }
   ],
   "source": [
    "# 10.\n",
    "x = [1, 2, 3, 2, 4, 5, 1, 6]\n",
    "dupli = []\n",
    "new = []\n",
    "for i in range(len(x)):\n",
    "    if(x[i] not in new):\n",
    "        new.append(x[i])\n",
    "    else:\n",
    "        dupli.append(x[i])\n",
    "print(dupli)\n",
    "print(x)"
   ]
  },
  {
   "cell_type": "code",
   "execution_count": 78,
   "id": "eae30871-dbfb-4fb9-abef-189afde43a5d",
   "metadata": {},
   "outputs": [
    {
     "name": "stdout",
     "output_type": "stream",
     "text": [
      "[4, 5]\n"
     ]
    }
   ],
   "source": [
    "# 11.\n",
    "x = [1,2,3,4,5]\n",
    "y = [4,5,6,7,8]\n",
    "common = []\n",
    "\n",
    "for i in range(len(y)):\n",
    "    if(y[i] in x):\n",
    "        common.append(y[i])\n",
    "\n",
    "print(common)"
   ]
  },
  {
   "cell_type": "code",
   "execution_count": 80,
   "id": "bf6712ca-77a9-4cd1-9d2b-f489789216a3",
   "metadata": {},
   "outputs": [
    {
     "name": "stdout",
     "output_type": "stream",
     "text": [
      "strawberry\n"
     ]
    }
   ],
   "source": [
    "# 12.\n",
    "words = [\"apple\", \"banana\", \"strawberry\", \"kiwi\"]\n",
    "longest =\"\"\n",
    "for i in range(len(words)):\n",
    "    if(len(words[i])>len(longest)):\n",
    "        longest = words[i]\n",
    "print(longest)\n",
    "\n"
   ]
  },
  {
   "cell_type": "code",
   "execution_count": 92,
   "id": "98f6dfcc-6031-4880-ab15-03b05c8c1268",
   "metadata": {},
   "outputs": [
    {
     "name": "stdout",
     "output_type": "stream",
     "text": [
      "3\n"
     ]
    }
   ],
   "source": [
    "# 13.\n",
    "x = [1,2,4,5,6]\n",
    "missing = 0\n",
    "\n",
    "for i in range(len(x)-1):\n",
    "    difference = x[1]-x[0]\n",
    "    next = i+1\n",
    "    if(x[next] - x[i] != difference):\n",
    "        print(x[i]+difference)\n",
    "        "
   ]
  },
  {
   "cell_type": "code",
   "execution_count": 110,
   "id": "c2f4a5e1-7a25-437c-ad89-e2fa7670f406",
   "metadata": {},
   "outputs": [
    {
     "name": "stdout",
     "output_type": "stream",
     "text": [
      "[1, 1, 0, 1, 0, 2, 1, 0]\n",
      "[4, 5, 1, 2, 0, 4, 5, 2]\n",
      "1\n"
     ]
    }
   ],
   "source": [
    "# 14.\n",
    "x = [4, 5, 1, 2, 0, 4, 5, 2]\n",
    "new = []\n",
    "count_list = []\n",
    "for i  in range(len(x)):\n",
    "    count = 0\n",
    "    for j in range(i+1,len(x)):\n",
    "        if(x[i]==x[j]):\n",
    "            count+=1\n",
    "        elif(x[i] in new):\n",
    "            count += 1\n",
    "        else:\n",
    "            count +=0\n",
    "    count_list.append(count)\n",
    "    new.append(x[i])\n",
    "print(count_list)\n",
    "print(new)\n",
    "\n",
    "for i in count_list:\n",
    "    if(count_list[i]==0):\n",
    "        print(x[i])\n",
    "        break\n"
   ]
  },
  {
   "cell_type": "code",
   "execution_count": 114,
   "id": "161bf8a2-cc6b-4127-87c5-e94366083abb",
   "metadata": {},
   "outputs": [
    {
     "name": "stdout",
     "output_type": "stream",
     "text": [
      "[3, 6, 8]\n"
     ]
    }
   ],
   "source": [
    "# 17.\n",
    "x = [1, 3, 2, 6, 5, 8, 7]\n",
    "greater = []\n",
    "for i in range(len(x)-1):\n",
    "    next = i+1\n",
    "    if(x[i]<x[next]):\n",
    "        greater.append(x[next])\n",
    "\n",
    "print(greater)\n",
    "\n"
   ]
  },
  {
   "cell_type": "code",
   "execution_count": 124,
   "id": "ddb91d35-f90c-4b4d-a8c5-7e0d49e32598",
   "metadata": {},
   "outputs": [
    {
     "name": "stdout",
     "output_type": "stream",
     "text": [
      "[[-1, 0, 1], [-1, -1, 2]]\n"
     ]
    }
   ],
   "source": [
    "# 18.\n",
    "\n",
    "x = [-1, 0, 1, 2, -1, -4]\n",
    "triplets = []\n",
    "for i in range(len(x)):\n",
    "    for j in range(i+1,len(x)):\n",
    "        for k in range(j+1,len(x)):\n",
    "\n",
    "            if(x[i]+x[j]+x[k] == 0):\n",
    "                triplet = sorted([x[i],x[j],x[k]])\n",
    "                if(triplet not in triplets):\n",
    "                    triplets.append(triplet)\n",
    "\n",
    "print(triplets)"
   ]
  }
 ],
 "metadata": {
  "kernelspec": {
   "display_name": "Python [conda env:base] *",
   "language": "python",
   "name": "conda-base-py"
  },
  "language_info": {
   "codemirror_mode": {
    "name": "ipython",
    "version": 3
   },
   "file_extension": ".py",
   "mimetype": "text/x-python",
   "name": "python",
   "nbconvert_exporter": "python",
   "pygments_lexer": "ipython3",
   "version": "3.12.7"
  }
 },
 "nbformat": 4,
 "nbformat_minor": 5
}
