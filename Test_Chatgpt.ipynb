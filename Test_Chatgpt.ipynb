{
 "cells": [
  {
   "cell_type": "code",
   "execution_count": 62,
   "id": "67538ebf-2495-479d-baec-3b1be8cfbfe4",
   "metadata": {},
   "outputs": [
    {
     "name": "stdout",
     "output_type": "stream",
     "text": [
      "{'b': 1, 'a': 3, 'n': 2}\n"
     ]
    }
   ],
   "source": [
    "s = 'banana'\n",
    "d ={}\n",
    "for i in s:\n",
    "    if(i not in d):\n",
    "        d[i] = 1\n",
    "    else:\n",
    "        d[i] += 1\n",
    "print(d)"
   ]
  },
  {
   "cell_type": "code",
   "execution_count": 70,
   "id": "fd871054-41ac-448e-aec2-6092d69f24f0",
   "metadata": {},
   "outputs": [
    {
     "name": "stdout",
     "output_type": "stream",
     "text": [
      "b = <key> , 1 = <value>\n",
      "a = <key> , 3 = <value>\n",
      "n = <key> , 2 = <value>\n"
     ]
    }
   ],
   "source": [
    "for i in d:\n",
    "    print(f\"{i} = <key> , {d[i]} = <value>\")"
   ]
  },
  {
   "cell_type": "code",
   "execution_count": 78,
   "id": "65e4dcf8-7843-45c4-b917-481ec51c956a",
   "metadata": {},
   "outputs": [
    {
     "name": "stdout",
     "output_type": "stream",
     "text": [
      "{'a': 1, 'b': 2, 'c': 3}\n"
     ]
    }
   ],
   "source": [
    "keys = ['a', 'b', 'c']\n",
    "values = [1, 2, 3]\n",
    "di= {}\n",
    "for i in range(len(keys)):\n",
    "    # keys[i] = key\n",
    "    # values[i] = value\n",
    "    di[keys[i]] = values[i]\n",
    "\n",
    "print(di)\n",
    "    "
   ]
  },
  {
   "cell_type": "code",
   "execution_count": 104,
   "id": "4522c113-87c0-4ebf-a42a-4aec9b366c00",
   "metadata": {},
   "outputs": [
    {
     "name": "stdout",
     "output_type": "stream",
     "text": [
      "Alice : 69\n"
     ]
    }
   ],
   "source": [
    "marks = {'John': 78, 'Alice': 85, 'Bob': 69}\n",
    "max = 0\n",
    "for i in marks:\n",
    "    if(max<marks[i]):\n",
    "        max = marks[i]\n",
    "        k = i\n",
    "print(k ,':',marks[i])"
   ]
  },
  {
   "cell_type": "code",
   "execution_count": 106,
   "id": "1505a373-5846-44d4-81c4-6eababb2f4e5",
   "metadata": {},
   "outputs": [
    {
     "name": "stdout",
     "output_type": "stream",
     "text": [
      "{1: 'a', 2: 'b', 3: 'c'}\n"
     ]
    }
   ],
   "source": [
    "d = {'a': 1, 'b': 2, 'c': 3}\n",
    "d2 = {}\n",
    "for i in d:\n",
    "    d2[d[i]] = i\n",
    "\n",
    "print(d2)"
   ]
  },
  {
   "cell_type": "code",
   "execution_count": 132,
   "id": "11cd3c4b-8a37-4fd9-9552-674b5fcb1b8e",
   "metadata": {},
   "outputs": [
    {
     "name": "stdout",
     "output_type": "stream",
     "text": [
      "emp1\n",
      "name : Alice salary : 50000 \n",
      "emp2\n",
      "name : Bob salary : 60000 \n"
     ]
    }
   ],
   "source": [
    "data = {\n",
    "    'emp1': {'name': 'Alice', 'salary': 50000},\n",
    "    'emp2': {'name': 'Bob', 'salary': 60000}\n",
    "}\n",
    "\n",
    "for i in data:\n",
    "    print(i)\n",
    "    for j in data[i]:\n",
    "        print(j,':',data[i][j],end=\" \")\n",
    "    print()"
   ]
  },
  {
   "cell_type": "code",
   "execution_count": 134,
   "id": "8e529e32-0fa8-4e51-a23b-0d5738284696",
   "metadata": {},
   "outputs": [
    {
     "name": "stdout",
     "output_type": "stream",
     "text": [
      "Amaan : 94\n",
      "thor : 87\n",
      "Tony : 88\n"
     ]
    }
   ],
   "source": [
    "d = {\"Amaan\":94,\"vinod\":46,\"thor\":87,\"Tony\":88}\n",
    "target = 80\n",
    "for i in d:\n",
    "    if(d[i]>=80):\n",
    "        print(i,\":\",d[i])"
   ]
  },
  {
   "cell_type": "code",
   "execution_count": 142,
   "id": "6fa6f8ca-724c-4a27-87f1-cb911d32ed82",
   "metadata": {},
   "outputs": [
    {
     "name": "stdout",
     "output_type": "stream",
     "text": [
      "{'Amaan': 'Data Scientist', 'Tony': 'Innovator', 'Anny': 'Accountant'}\n"
     ]
    }
   ],
   "source": [
    "d = {\"Amaan\":\"Data Scientist\",\"Tony\":\"Innovator\",\"Natasha\":None,\"Tannu\":None,\"Anny\": \"Accountant\"}\n",
    "for i in list(d):\n",
    "    if(d[i] == None):\n",
    "        d.pop(i)\n",
    "\n",
    "print(d)"
   ]
  },
  {
   "cell_type": "code",
   "execution_count": 5,
   "id": "13c0e1e1-7f42-4d0b-a8db-f5e01ee4ebc0",
   "metadata": {},
   "outputs": [
    {
     "name": "stdin",
     "output_type": "stream",
     "text": [
      "Enter the String 1:  Amaan\n",
      "Enter the String 2:  amaan\n"
     ]
    },
    {
     "name": "stdout",
     "output_type": "stream",
     "text": [
      "Anagram\n"
     ]
    }
   ],
   "source": [
    "str1 = input(\"Enter the String 1: \")\n",
    "str2 = input(\"Enter the String 2: \")\n",
    "str1 = str1.upper()\n",
    "str2 = str2.upper()\n",
    "s1 = set({})\n",
    "s2 = set({})\n",
    "\n",
    "for i in str1:\n",
    "    s1.add(i)\n",
    "\n",
    "for i in str2:\n",
    "    s2.add(i)\n",
    "\n",
    "if(s1 == s2):\n",
    "    print(\"Anagram\")\n",
    "else:\n",
    "    print(\"Not Anagram\")"
   ]
  },
  {
   "cell_type": "markdown",
   "id": "a5afd933-f72a-4d9a-b3d3-c7cce71e4ecb",
   "metadata": {},
   "source": []
  }
 ],
 "metadata": {
  "kernelspec": {
   "display_name": "Python [conda env:base] *",
   "language": "python",
   "name": "conda-base-py"
  },
  "language_info": {
   "codemirror_mode": {
    "name": "ipython",
    "version": 3
   },
   "file_extension": ".py",
   "mimetype": "text/x-python",
   "name": "python",
   "nbconvert_exporter": "python",
   "pygments_lexer": "ipython3",
   "version": "3.12.7"
  }
 },
 "nbformat": 4,
 "nbformat_minor": 5
}
