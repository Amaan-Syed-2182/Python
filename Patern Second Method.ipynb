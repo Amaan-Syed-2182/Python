{
 "cells": [
  {
   "cell_type": "code",
   "execution_count": 90,
   "id": "ee4cc705-053f-4eb6-8e54-766d8842c137",
   "metadata": {},
   "outputs": [
    {
     "name": "stdout",
     "output_type": "stream",
     "text": [
      "* \n",
      "* * \n",
      "* * * \n",
      "* * * * \n",
      "* * * * * \n"
     ]
    }
   ],
   "source": [
    "n = 5\n",
    "for i in range(5):\n",
    "    for j in range(i+1):\n",
    "        print(\"*\",end=\" \")\n",
    "    print()"
   ]
  },
  {
   "cell_type": "code",
   "execution_count": 92,
   "id": "9d1a2662-e017-49d4-9144-78777d55bfb3",
   "metadata": {},
   "outputs": [
    {
     "name": "stdout",
     "output_type": "stream",
     "text": [
      "* * * * * \n",
      "* * * * \n",
      "* * * \n",
      "* * \n",
      "* \n"
     ]
    }
   ],
   "source": [
    "for i in range(5):\n",
    "    for j in range(i,5):\n",
    "        print(\"*\",end=\" \")\n",
    "    print()"
   ]
  },
  {
   "cell_type": "code",
   "execution_count": 94,
   "id": "2e1918c0-cf0a-4379-ac8e-8088cb1fd73f",
   "metadata": {},
   "outputs": [
    {
     "name": "stdout",
     "output_type": "stream",
     "text": [
      "          * \n",
      "        * * \n",
      "      * * * \n",
      "    * * * * \n",
      "  * * * * * \n"
     ]
    }
   ],
   "source": [
    "for i in range(5):\n",
    "    for j in range(i,5):\n",
    "        print(\" \",end=\" \")\n",
    "    for j in range(i+1):\n",
    "        print(\"*\",end=\" \")\n",
    "    print()"
   ]
  },
  {
   "cell_type": "code",
   "execution_count": 96,
   "id": "f832f148-4b55-4f84-adf1-7feff3cc982f",
   "metadata": {},
   "outputs": [
    {
     "name": "stdout",
     "output_type": "stream",
     "text": [
      "  * * * * * \n",
      "    * * * * \n",
      "      * * * \n",
      "        * * \n",
      "          * \n"
     ]
    }
   ],
   "source": [
    "for i in range(5):\n",
    "    for j in range(i+1):\n",
    "        print(\" \",end=\" \")\n",
    "    for j in range(i,n):\n",
    "        print(\"*\",end=\" \")\n",
    "    print()"
   ]
  },
  {
   "cell_type": "code",
   "execution_count": 124,
   "id": "063cdbe3-127c-438b-b2ba-ad0c29b56af1",
   "metadata": {},
   "outputs": [
    {
     "name": "stdout",
     "output_type": "stream",
     "text": [
      "          * \n",
      "        * * * \n",
      "      * * * * * \n",
      "    * * * * * * * \n",
      "  * * * * * * * * * \n"
     ]
    }
   ],
   "source": [
    "# Hill Pattern\n",
    "for i in range(5):\n",
    "    for j in range(i,n):\n",
    "        print(\" \",end=\" \")\n",
    "    for j in range(i+1):\n",
    "        print(\"*\",end=\" \")\n",
    "    for j in range(1,i+1):\n",
    "        print(\"*\",end=\" \")\n",
    "    print()"
   ]
  },
  {
   "cell_type": "code",
   "execution_count": 126,
   "id": "31784a90-eb0b-449c-a755-4da7f78951dd",
   "metadata": {},
   "outputs": [
    {
     "name": "stdout",
     "output_type": "stream",
     "text": [
      "          * \n",
      "        * * * \n",
      "      * * * * * \n",
      "    * * * * * * * \n",
      "  * * * * * * * * * \n"
     ]
    }
   ],
   "source": [
    "for i in range(5):\n",
    "    for j in range(i,n):\n",
    "        print(\" \",end=\" \")\n",
    "    for j in range(i+1):\n",
    "        print(\"*\",end=\" \")\n",
    "    for j in range(1,i+1):\n",
    "        print(\"*\",end=\" \")\n",
    "    print()"
   ]
  },
  {
   "cell_type": "code",
   "execution_count": 142,
   "id": "d9eae1be-2dd1-4929-b673-13d182dbe053",
   "metadata": {},
   "outputs": [
    {
     "name": "stdout",
     "output_type": "stream",
     "text": [
      "  * * * * * * * * * \n",
      "    * * * * * * * \n",
      "      * * * * * \n",
      "        * * * \n",
      "          * \n"
     ]
    }
   ],
   "source": [
    "for i in range(5):\n",
    "    for j in range(i+1):\n",
    "        print(\" \",end=\" \")\n",
    "    for j in range(i,n):\n",
    "        print(\"*\",end=\" \")\n",
    "    for j in range(i,n-1):\n",
    "        print(\"*\",end=\" \")\n",
    "    print()"
   ]
  },
  {
   "cell_type": "code",
   "execution_count": 160,
   "id": "8b430d89-8e36-41cf-b14b-10208926f273",
   "metadata": {},
   "outputs": [
    {
     "name": "stdout",
     "output_type": "stream",
     "text": [
      "          * \n",
      "        * * * \n",
      "      * * * * * \n",
      "    * * * * * * * \n",
      "  * * * * * * * * * \n",
      "    * * * * * * * \n",
      "      * * * * * \n",
      "        * * * \n",
      "          * \n"
     ]
    }
   ],
   "source": [
    "for i in range(5):\n",
    "    for j in range(i,n):\n",
    "        print(\" \",end=\" \")\n",
    "    for j in range(i+1):\n",
    "        print(\"*\",end=\" \")\n",
    "    for j in range(i):\n",
    "        print(\"*\",end=\" \")\n",
    "    \n",
    "    print()\n",
    "for i in range(1,5):\n",
    "    \n",
    "    for j in range(i+1):\n",
    "        print(\" \",end=\" \")\n",
    "    for j in range(i,n):\n",
    "        print(\"*\",end=\" \")\n",
    "    for j in range(i,n-1):\n",
    "        print(\"*\",end=\" \")\n",
    "    print()"
   ]
  },
  {
   "cell_type": "markdown",
   "id": "bfad8f14-b42f-4898-ad3a-eb6df97b43f8",
   "metadata": {},
   "source": [
    "## Advance Patterns"
   ]
  },
  {
   "cell_type": "code",
   "execution_count": 257,
   "id": "3032ff90-a021-49ed-8bba-e3e3cba0eb01",
   "metadata": {},
   "outputs": [
    {
     "name": "stdout",
     "output_type": "stream",
     "text": [
      "1 \n",
      "1 1 \n",
      "1 1 1 \n",
      "1 1 1 1 \n",
      "1 1 1 1 1 \n"
     ]
    }
   ],
   "source": [
    "n = 5\n",
    "for i in range(n):\n",
    "    x = 1\n",
    "    for j in range(i+1):\n",
    "        print(x,end=\" \")\n",
    "        \n",
    "    print()"
   ]
  },
  {
   "cell_type": "code",
   "execution_count": 271,
   "id": "0801f6b1-73dd-4f6a-8058-380831227995",
   "metadata": {},
   "outputs": [
    {
     "name": "stdout",
     "output_type": "stream",
     "text": [
      "1 \n",
      "2 2 \n",
      "3 3 3 \n",
      "4 4 4 4 \n",
      "5 5 5 5 5 \n"
     ]
    }
   ],
   "source": [
    "n = 5\n",
    "x = 1\n",
    "for i in range(n):\n",
    "    \n",
    "    for j in range(i+1):\n",
    "        print(x,end=\" \")\n",
    "    x+=1   \n",
    "    print()"
   ]
  },
  {
   "cell_type": "code",
   "execution_count": 273,
   "id": "ae244200-9b29-49e2-b6aa-d527dfd2ba3c",
   "metadata": {},
   "outputs": [
    {
     "name": "stdout",
     "output_type": "stream",
     "text": [
      "$ \n",
      "# # \n",
      "$ $ $ \n",
      "# # # # \n",
      "$ $ $ $ $ \n"
     ]
    }
   ],
   "source": [
    "for i in range(5):\n",
    "    for j in range(i+1):\n",
    "        if(i%2==0):\n",
    "            print(\"$\",end=\" \")\n",
    "        else:\n",
    "            print(\"#\",end=\" \")\n",
    "    print()"
   ]
  },
  {
   "cell_type": "code",
   "execution_count": 281,
   "id": "c27fc755-4971-43c9-8c86-e65f5d0a9f1e",
   "metadata": {},
   "outputs": [
    {
     "name": "stdout",
     "output_type": "stream",
     "text": [
      "          a \n",
      "        b b b \n",
      "      a a a a a \n",
      "    b b b b b b b \n",
      "  a a a a a a a a a \n"
     ]
    }
   ],
   "source": [
    "for i in range(5):\n",
    "    for j in range(i,n):\n",
    "        print(\" \",end=\" \")\n",
    "    for j in range(i+1):\n",
    "        if(i%2==0):\n",
    "            print(\"a\",end=\" \")\n",
    "        else:\n",
    "            print(\"b\",end=\" \")\n",
    "    \n",
    "    for j in range(i):\n",
    "        if(i%2==0):\n",
    "            print(\"a\",end=\" \")\n",
    "        else:\n",
    "            print(\"b\",end=\" \")\n",
    "        \n",
    "    print()\n",
    "        "
   ]
  },
  {
   "cell_type": "code",
   "execution_count": 299,
   "id": "a0a5734c-5bdc-4ac2-ab34-99553557f139",
   "metadata": {},
   "outputs": [
    {
     "name": "stdout",
     "output_type": "stream",
     "text": [
      "          1 \n",
      "        2 2 2 \n",
      "      3 3 3 3 3 \n",
      "    4 4 4 4 4 4 4 \n",
      "  5 5 5 5 5 5 5 5 5 \n",
      "    6 6 6 6 6 6 6 \n",
      "      7 7 7 7 7 \n",
      "        8 8 8 \n",
      "          9 \n"
     ]
    }
   ],
   "source": [
    "n = 5\n",
    "x = 1\n",
    "for i in range(n-1):\n",
    "    for j in range(i,n):\n",
    "        print(\" \",end=\" \")\n",
    "    for j in range(i):\n",
    "        print(x,end=\" \")\n",
    " \n",
    "    for j in range(i+1):\n",
    "        print(x,end=\" \")\n",
    "    x+=1\n",
    "    print()\n",
    "\n",
    "for i in range(n):\n",
    "    for j in range(i+1):\n",
    "        print(\" \",end=\" \")\n",
    "    for j in range(i,n-1):\n",
    "        print(x,end=\" \")\n",
    "    for j in range(i,n):\n",
    "        print(x,end=\" \")\n",
    "    x+=1\n",
    "    print()"
   ]
  },
  {
   "cell_type": "code",
   "execution_count": 301,
   "id": "e6619a5a-6a2e-47ef-b2d6-b3ad4994c573",
   "metadata": {},
   "outputs": [
    {
     "name": "stdout",
     "output_type": "stream",
     "text": [
      "1 \n",
      "1 2 \n",
      "1 2 3 \n",
      "1 2 3 4 \n",
      "1 2 3 4 5 \n"
     ]
    }
   ],
   "source": [
    "n = 5\n",
    "for i in range(n):\n",
    "    x = 1\n",
    "    for j in range(i+1):\n",
    "        print(x,end=\" \")\n",
    "        x+=1\n",
    "    print()"
   ]
  },
  {
   "cell_type": "code",
   "execution_count": 303,
   "id": "ec6a1f0d-7b9f-4450-a6e4-d2eb3ddcac24",
   "metadata": {},
   "outputs": [
    {
     "name": "stdout",
     "output_type": "stream",
     "text": [
      "          1 \n",
      "        1 2 \n",
      "      1 2 3 \n",
      "    1 2 3 4 \n",
      "  1 2 3 4 5 \n"
     ]
    }
   ],
   "source": [
    "n = 5\n",
    "for i in range(n):\n",
    "    for j in range(i,n):\n",
    "        print(\" \",end=\" \")\n",
    "    x = 1\n",
    "    for j in range(i+1):\n",
    "        print(x,end=\" \")\n",
    "        x+=1\n",
    "    print()"
   ]
  },
  {
   "cell_type": "code",
   "execution_count": 307,
   "id": "2b239d6e-b99e-4414-8dbf-65ecbdb80fc8",
   "metadata": {},
   "outputs": [
    {
     "name": "stdout",
     "output_type": "stream",
     "text": [
      "5 \n",
      "5 4 \n",
      "5 4 3 \n",
      "5 4 3 2 \n",
      "5 4 3 2 1 \n"
     ]
    }
   ],
   "source": [
    "n = 5\n",
    "for i in range(n):\n",
    "    x = 5\n",
    "    for j in range(i+1):\n",
    "        print(x,end=\" \")\n",
    "        x-=1\n",
    "    print()"
   ]
  },
  {
   "cell_type": "code",
   "execution_count": 305,
   "id": "4b5c99bd-ce5c-4cf3-a53a-92dc3b97745a",
   "metadata": {},
   "outputs": [
    {
     "name": "stdout",
     "output_type": "stream",
     "text": [
      "          5 \n",
      "        5 4 \n",
      "      5 4 3 \n",
      "    5 4 3 2 \n",
      "  5 4 3 2 1 \n"
     ]
    }
   ],
   "source": [
    "n = 5\n",
    "for i in range(n):\n",
    "    for j in range(i,n):\n",
    "        print(\" \",end=\" \")\n",
    "    x = 5\n",
    "    for j in range(i+1):\n",
    "        print(x,end=\" \")\n",
    "        x-=1\n",
    "    print()"
   ]
  },
  {
   "cell_type": "code",
   "execution_count": 309,
   "id": "a9cc677e-3224-4579-80c9-e44a13e79ec4",
   "metadata": {},
   "outputs": [
    {
     "name": "stdout",
     "output_type": "stream",
     "text": [
      "  5 4 3 2 1 \n",
      "    4 3 2 1 \n",
      "      3 2 1 \n",
      "        2 1 \n",
      "          1 \n"
     ]
    }
   ],
   "source": [
    "n = 5\n",
    "k = 5\n",
    "for i in range(n):\n",
    "    for j in range(i+1):\n",
    "        print(\" \",end=\" \")\n",
    "    x = k\n",
    "    for j in range(i,n):\n",
    "        print(x,end=\" \")\n",
    "        x -= 1\n",
    "    k-=1\n",
    "    print()"
   ]
  },
  {
   "cell_type": "code",
   "execution_count": 311,
   "id": "8abd2208-6e59-4118-b23f-a82a3b15bad0",
   "metadata": {},
   "outputs": [
    {
     "name": "stdout",
     "output_type": "stream",
     "text": [
      "          1 \n",
      "        1 2 1 \n",
      "      1 2 3 2 1 \n",
      "    1 2 3 4 3 2 1 \n",
      "  1 2 3 4 5 4 3 2 1 \n"
     ]
    }
   ],
   "source": [
    "n=5\n",
    "for i in range(n):\n",
    "    p = 1\n",
    "    for j in range(i,n):\n",
    "        print(\" \",end=\" \")\n",
    "    for j in range(i):\n",
    "        print(p,end=\" \")\n",
    "        p+=1\n",
    "    for j in range(i+1):\n",
    "        \n",
    "        print(p,end=\" \")\n",
    "        p-=1\n",
    "    print()\n",
    "        "
   ]
  },
  {
   "cell_type": "code",
   "execution_count": null,
   "id": "03d16e83-5558-4692-92ce-4415f513d317",
   "metadata": {},
   "outputs": [],
   "source": []
  }
 ],
 "metadata": {
  "kernelspec": {
   "display_name": "Python [conda env:base] *",
   "language": "python",
   "name": "conda-base-py"
  },
  "language_info": {
   "codemirror_mode": {
    "name": "ipython",
    "version": 3
   },
   "file_extension": ".py",
   "mimetype": "text/x-python",
   "name": "python",
   "nbconvert_exporter": "python",
   "pygments_lexer": "ipython3",
   "version": "3.12.7"
  }
 },
 "nbformat": 4,
 "nbformat_minor": 5
}
