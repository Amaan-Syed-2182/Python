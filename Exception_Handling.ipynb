{
 "cells": [
  {
   "cell_type": "markdown",
   "id": "00ca53d0-1d2f-46d3-9805-132c363da1c2",
   "metadata": {},
   "source": [
    "## Exception Handling"
   ]
  },
  {
   "cell_type": "code",
   "execution_count": 23,
   "id": "272f021f-3ca1-43fe-8325-ac3da20bb08a",
   "metadata": {},
   "outputs": [
    {
     "name": "stdout",
     "output_type": "stream",
     "text": [
      "Cannot Divide by zero....division by zero\n"
     ]
    }
   ],
   "source": [
    "# Division by Zero Error\n",
    "try:\n",
    "    a=12\n",
    "    b=0\n",
    "    print(a/b)\n",
    "\n",
    "except Exception as e:\n",
    "    print(f\"Cannot Divide by zero....{e}\")"
   ]
  },
  {
   "cell_type": "code",
   "execution_count": 25,
   "id": "44138f85-d567-407d-b44a-859434c64aab",
   "metadata": {},
   "outputs": [
    {
     "name": "stdin",
     "output_type": "stream",
     "text": [
      "Enter a Number:  qw\n"
     ]
    },
    {
     "name": "stdout",
     "output_type": "stream",
     "text": [
      "Only Enter Integer Value... invalid literal for int() with base 10: 'qw'\n"
     ]
    }
   ],
   "source": [
    "# Value Error\n",
    "try:\n",
    "    num = int(input(\"Enter a Number: \"))\n",
    "    print(num)\n",
    "\n",
    "except Exception as e:\n",
    "    print(f\"Only Enter Integer Value... {e}\")"
   ]
  },
  {
   "cell_type": "code",
   "execution_count": 27,
   "id": "e3368e66-f8d9-494b-b2a6-2eb8eae88eb4",
   "metadata": {},
   "outputs": [
    {
     "name": "stdout",
     "output_type": "stream",
     "text": [
      "No key as 'Roll'\n"
     ]
    }
   ],
   "source": [
    "# KeyError\n",
    "try:\n",
    "    data = {\"name\":\"Amaan\",\"Subject\":\"Python\"}\n",
    "    print(data[\"Roll\"])\n",
    "\n",
    "except Exception as e:\n",
    "    print(f\"No key as {e}\")"
   ]
  },
  {
   "cell_type": "code",
   "execution_count": 35,
   "id": "f91a0f92-a42f-4afb-9828-3d06db188eba",
   "metadata": {},
   "outputs": [
    {
     "name": "stdout",
     "output_type": "stream",
     "text": [
      "IndexError list index out of range\n"
     ]
    }
   ],
   "source": [
    "# IndexError\n",
    "try:\n",
    "    numbers = [1,2,3,4,5,6]\n",
    "    print(numbers[8])\n",
    "except Exception as e:\n",
    "    print(f\"IndexError {e}\")"
   ]
  },
  {
   "cell_type": "code",
   "execution_count": 39,
   "id": "64b7b75e-c30a-4b36-a378-a4303a8291c5",
   "metadata": {},
   "outputs": [
    {
     "name": "stdout",
     "output_type": "stream",
     "text": [
      "File not found Eroor [Errno 2] No such file or directory: 'Not_Existent_file.txt'\n"
     ]
    }
   ],
   "source": [
    "# File not found error\n",
    "\n",
    "try:\n",
    "    with open(\"Not_Existent_file.txt\") as file:\n",
    "        content = file.read()\n",
    "except Exception as e:\n",
    "    print(f\"File not found Eroor {e}\")"
   ]
  }
 ],
 "metadata": {
  "kernelspec": {
   "display_name": "Python [conda env:base] *",
   "language": "python",
   "name": "conda-base-py"
  },
  "language_info": {
   "codemirror_mode": {
    "name": "ipython",
    "version": 3
   },
   "file_extension": ".py",
   "mimetype": "text/x-python",
   "name": "python",
   "nbconvert_exporter": "python",
   "pygments_lexer": "ipython3",
   "version": "3.12.7"
  }
 },
 "nbformat": 4,
 "nbformat_minor": 5
}
