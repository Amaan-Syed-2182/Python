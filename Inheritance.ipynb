{
 "cells": [
  {
   "cell_type": "markdown",
   "id": "43cbb767-dbfc-48b6-bbe3-2ec7bf7bf143",
   "metadata": {},
   "source": [
    "## Inheritance"
   ]
  },
  {
   "cell_type": "code",
   "execution_count": null,
   "id": "4996700b-27c7-4daf-8f38-8f623ec6af8e",
   "metadata": {},
   "outputs": [],
   "source": [
    "# Inheritamce enables a new child class to inherit attributs and methods of parent or super class\n"
   ]
  },
  {
   "cell_type": "code",
   "execution_count": 54,
   "id": "a7892262-e828-49ec-b495-24a76f861828",
   "metadata": {},
   "outputs": [
    {
     "name": "stdout",
     "output_type": "stream",
     "text": [
      "Vehicle Class\n",
      "2100000\n",
      "Maruti\n"
     ]
    }
   ],
   "source": [
    "class vehicle:\n",
    "    company = 'Maruti'\n",
    "    def info(self):\n",
    "        print(\"Vehicle Class\")\n",
    "    \n",
    "\n",
    "class marutiev(vehicle):\n",
    "    price = 2100000\n",
    "    def __init__(self):\n",
    "        super().info()\n",
    "\n",
    "me1 = marutiev()\n",
    "print(me1.price)\n",
    "print(me1.company)"
   ]
  },
  {
   "cell_type": "code",
   "execution_count": 56,
   "id": "a96375c2-1600-490d-8f34-d3c061dfaa6f",
   "metadata": {},
   "outputs": [
    {
     "name": "stdout",
     "output_type": "stream",
     "text": [
      "This is Child class\n"
     ]
    }
   ],
   "source": [
    "class A:\n",
    "    def same(self):\n",
    "        print(\"This is Parent Class\")\n",
    "\n",
    "class B(A):\n",
    "    def same(self):\n",
    "        print(\"This is Child class\")\n",
    "\n",
    "a = B()\n",
    "a.same()"
   ]
  },
  {
   "cell_type": "code",
   "execution_count": 74,
   "id": "0493bdc5-83c9-4023-aee7-58f931b6fc10",
   "metadata": {},
   "outputs": [
    {
     "name": "stdout",
     "output_type": "stream",
     "text": [
      "Model Number is 1001 and Model name is HArrier\n",
      "Model Number is 1002 and Model name is Curv.ev\n"
     ]
    }
   ],
   "source": [
    "class tata:\n",
    "    company = \"TATA Motors\"\n",
    "    def __init__(self,mid,name):\n",
    "        self.mid=mid\n",
    "        self.name=name\n",
    "\n",
    "    def info(self):\n",
    "        print(f\"Model Number is {self.mid} and Model name is {self.name}\")\n",
    "\n",
    "class tataev(tata):\n",
    "    def __init__(self,mid,name):\n",
    "        super().__init__(mid,name)\n",
    "\n",
    "ev1 = tataev(1001,\"HArrier\")\n",
    "ev1.info()\n",
    "ev2 = tataev(1002,\"Curv.ev\")\n",
    "ev2.info()\n"
   ]
  },
  {
   "cell_type": "code",
   "execution_count": null,
   "id": "1e7d79de-354b-47d7-b1d2-fee6989bbc05",
   "metadata": {},
   "outputs": [],
   "source": []
  }
 ],
 "metadata": {
  "kernelspec": {
   "display_name": "Python [conda env:base] *",
   "language": "python",
   "name": "conda-base-py"
  },
  "language_info": {
   "codemirror_mode": {
    "name": "ipython",
    "version": 3
   },
   "file_extension": ".py",
   "mimetype": "text/x-python",
   "name": "python",
   "nbconvert_exporter": "python",
   "pygments_lexer": "ipython3",
   "version": "3.12.7"
  }
 },
 "nbformat": 4,
 "nbformat_minor": 5
}
