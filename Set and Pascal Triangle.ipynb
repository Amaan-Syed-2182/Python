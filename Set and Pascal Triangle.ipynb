{
 "cells": [
  {
   "cell_type": "code",
   "execution_count": 110,
   "id": "412ad42d-b832-4ba5-96af-b153c19ede3c",
   "metadata": {},
   "outputs": [
    {
     "name": "stdout",
     "output_type": "stream",
     "text": [
      "     1  \n",
      "    1 1  \n",
      "   1 2 1  \n",
      "  1 3 3 1  \n",
      " 1 4 6 4 1  \n"
     ]
    }
   ],
   "source": [
    "x = []\n",
    "num = 5\n",
    "for i in range(0,num):\n",
    "    temp = []\n",
    "    for j in range(i,num):\n",
    "        print(\" \",end=\"\")\n",
    "    for k in range(0,i+1):\n",
    "        if(k==0 or i==k):\n",
    "            print(1,end=\" \")\n",
    "            temp.append(1)\n",
    "        else:\n",
    "            tp = x[i-1][k-1] + x[i-1][k]\n",
    "            print(tp,end=\" \")\n",
    "            temp.append(tp)\n",
    "    x.append(temp)\n",
    "    print(\" \")\n",
    "            "
   ]
  },
  {
   "cell_type": "code",
   "execution_count": 112,
   "id": "888a6e3e-88b7-47b0-b49f-eac96feb8f24",
   "metadata": {},
   "outputs": [
    {
     "name": "stdout",
     "output_type": "stream",
     "text": [
      "{32, 1, 2, 3, 4, 5, 34, 42, 21, 23, 222}\n",
      "{32, 1, 2, 3, 4, 5, 34, 42, 211, 21, 23, 222}\n",
      "{32, 1, 2, 3, 4, 5, 34, 42, 211, 21, 23}\n",
      "{32, 1, 2, 3, 4, 5, 34, 65, 42, 12, 211, 21, 55, 23}\n"
     ]
    }
   ],
   "source": [
    "# Set\n",
    "x = {1,2,3,4,5,3,2,3,4,2,1,23,42,4,4,21,2,32,34,3,42,222}\n",
    "print(x)\n",
    "x.add(211)\n",
    "print(x)\n",
    "x.discard(222)\n",
    "print(x)\n",
    "x.update([65,55,32,12])\n",
    "print(x)"
   ]
  },
  {
   "cell_type": "code",
   "execution_count": 114,
   "id": "b9c34913-0903-4632-800e-e80c7c874062",
   "metadata": {},
   "outputs": [
    {
     "name": "stdout",
     "output_type": "stream",
     "text": [
      "{1, 2, 3, 4, 5, 6, 7, 8}\n",
      "{1, 2, 3, 4, 5, 6, 7, 8}\n"
     ]
    }
   ],
   "source": [
    "# Union method can done | or union()\n",
    "a = {1,2,3,4}\n",
    "b = {5,6,7,8}\n",
    "print(a|b)\n",
    "print(b.union(a))"
   ]
  },
  {
   "cell_type": "code",
   "execution_count": 122,
   "id": "0f32d2c7-23dc-44f6-8478-95c649a36bce",
   "metadata": {},
   "outputs": [
    {
     "name": "stdin",
     "output_type": "stream",
     "text": [
      "Enter a String amaaN2182\n"
     ]
    },
    {
     "name": "stdout",
     "output_type": "stream",
     "text": [
      "Valid String\n"
     ]
    }
   ],
   "source": [
    "# take a string from user\n",
    "# and check acoording:\n",
    "# 1. the string should have one capital\n",
    "# 2. 1 small letter\n",
    "# 3. one number\n",
    "# 4. minimun len of 6\n",
    "# if yes valid string\n",
    "# else not a valid string\n",
    "\n",
    "s = input(\"Enter a String\")\n",
    "\n",
    "first = False\n",
    "second = False\n",
    "third = False\n",
    "fourth = False\n",
    "\n",
    "if(len(s)>=6):\n",
    "    first = True\n",
    "    \n",
    "for i in s:\n",
    "    if(95<=ord(i)<=122):\n",
    "        second = True\n",
    "    if(48<=ord(i)<=57):\n",
    "        third = True\n",
    "    if(65<=ord(i)<=90):\n",
    "        fourth = True\n",
    "\n",
    "if(first and second and third and fourth):\n",
    "    print(\"Valid String\")\n",
    "else:\n",
    "    print(\"Invalid string\")"
   ]
  },
  {
   "cell_type": "code",
   "execution_count": 136,
   "id": "116add5d-dfea-46ae-b157-1e74273b2cef",
   "metadata": {},
   "outputs": [
    {
     "name": "stdin",
     "output_type": "stream",
     "text": [
      "Enter The String:  hello user Amaan\n"
     ]
    },
    {
     "name": "stdout",
     "output_type": "stream",
     "text": [
      "naamA resu olleh"
     ]
    }
   ],
   "source": [
    "s = input(\"Enter The String: \")\n",
    "i = len(s)-1\n",
    "while(i>=0):\n",
    "    print(s[i],end=\"\")\n",
    "    i-=1"
   ]
  },
  {
   "cell_type": "code",
   "execution_count": 158,
   "id": "10b62a2b-27d8-44a7-82ef-d31855acf642",
   "metadata": {},
   "outputs": [
    {
     "name": "stdin",
     "output_type": "stream",
     "text": [
      "Enter the string:  Hello user Amaan\n"
     ]
    },
    {
     "name": "stdout",
     "output_type": "stream",
     "text": [
      "Amaan user Hello "
     ]
    }
   ],
   "source": [
    "s = input(\"Enter the string: \")\n",
    "s = s + \" \" \n",
    "\n",
    "words = []\n",
    "word = \"\"\n",
    "\n",
    "for char in s:\n",
    "    if char != \" \":\n",
    "        word += char\n",
    "    else:\n",
    "        if word != \"\":\n",
    "            words.append(word)\n",
    "            word = \"\"\n",
    "\n",
    "i = len(words) - 1\n",
    "while i >= 0:\n",
    "    print(words[i], end=\" \")\n",
    "    i -= 1\n"
   ]
  },
  {
   "cell_type": "code",
   "execution_count": null,
   "id": "9d16a690-ada3-41c0-8fb9-702428e473dc",
   "metadata": {},
   "outputs": [],
   "source": []
  },
  {
   "cell_type": "code",
   "execution_count": null,
   "id": "292571dc-babc-4800-b1b6-7a5c542ed36a",
   "metadata": {},
   "outputs": [],
   "source": []
  },
  {
   "cell_type": "code",
   "execution_count": null,
   "id": "a981bd95-2eea-4aa1-a26d-abb39fee24ea",
   "metadata": {},
   "outputs": [],
   "source": []
  },
  {
   "cell_type": "code",
   "execution_count": null,
   "id": "3537dc92-3535-47ac-ba47-4ec082de2d91",
   "metadata": {},
   "outputs": [],
   "source": []
  }
 ],
 "metadata": {
  "kernelspec": {
   "display_name": "Python [conda env:base] *",
   "language": "python",
   "name": "conda-base-py"
  },
  "language_info": {
   "codemirror_mode": {
    "name": "ipython",
    "version": 3
   },
   "file_extension": ".py",
   "mimetype": "text/x-python",
   "name": "python",
   "nbconvert_exporter": "python",
   "pygments_lexer": "ipython3",
   "version": "3.12.7"
  }
 },
 "nbformat": 4,
 "nbformat_minor": 5
}
