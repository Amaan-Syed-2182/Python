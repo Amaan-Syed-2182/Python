{
 "cells": [
  {
   "cell_type": "markdown",
   "id": "bcc8f84c-ace0-4a4d-ab31-8a65587c2bfc",
   "metadata": {},
   "source": [
    "## List Questions"
   ]
  },
  {
   "cell_type": "markdown",
   "id": "585ecd58-adcc-42c5-92fe-8aadc929da1f",
   "metadata": {},
   "source": [
    "### Beginner"
   ]
  },
  {
   "cell_type": "code",
   "execution_count": 34,
   "id": "17c02adc-1e0b-4eff-b901-e05390757eb4",
   "metadata": {},
   "outputs": [
    {
     "name": "stdout",
     "output_type": "stream",
     "text": [
      "Maximum Value is: 50\n"
     ]
    }
   ],
   "source": [
    "# 1. Finding Max value in list\n",
    "\n",
    "x = [10,20,30,40,50,32,12]\n",
    "max = x[0]\n",
    "\n",
    "for i in range(len(x)):\n",
    "    if(x[i] > max):\n",
    "        max = x[i]\n",
    "\n",
    "print(f\"Maximum Value is: {max}\")"
   ]
  },
  {
   "cell_type": "code",
   "execution_count": 35,
   "id": "bf9e6ef9-adce-4c05-af93-2357eeb8c7fb",
   "metadata": {},
   "outputs": [
    {
     "name": "stdout",
     "output_type": "stream",
     "text": [
      "Sum of all values is: 194\n"
     ]
    }
   ],
   "source": [
    "# 2. Write a Python program to sum all the elements in a list of numbers.\n",
    "\n",
    "x = [10,20,30,40,50,32,12]\n",
    "sum = 0\n",
    "for i in range(len(x)):\n",
    "    sum += x[i]\n",
    "\n",
    "print(f\"Sum of all values is: {sum}\")\n",
    "\n"
   ]
  },
  {
   "cell_type": "code",
   "execution_count": 11,
   "id": "625d6cef-d936-415c-b2b9-d222b40fe3e8",
   "metadata": {},
   "outputs": [
    {
     "name": "stdout",
     "output_type": "stream",
     "text": [
      "Reversed List is: [12, 32, 50, 40, 30, 20, 10]\n"
     ]
    }
   ],
   "source": [
    "# 3. Write a Python program to reverse a list without reverse or slicing operator\n",
    "\n",
    "x = [10,20,30,40,50,32,12]\n",
    "\n",
    "i = 0\n",
    "end = len(x)-1\n",
    "\n",
    "while(i<end):\n",
    "    x[i],x[end] = x[end],x[i]\n",
    "    i+=1\n",
    "    end -= 1\n",
    "\n",
    "print(f\"Reversed List is: {x}\")\n"
   ]
  },
  {
   "cell_type": "code",
   "execution_count": 36,
   "id": "92da2c7b-ce09-4372-867b-d996691d6447",
   "metadata": {},
   "outputs": [
    {
     "name": "stdout",
     "output_type": "stream",
     "text": [
      "Lsit After Ascending sort: [4, 5, 12, 18, 23, 32, 41, 43, 56, 89]\n"
     ]
    }
   ],
   "source": [
    "# 4. Write a Python program to sort a list in ascending order without sort functions\n",
    "\n",
    "x = [43,23,12,4,89,5,32,41,56,18]\n",
    "i = 0\n",
    "for i in range(0,len(x)-1):\n",
    "    for j in range(i+1,len(x)):\n",
    "        if(x[i] > x[j]):\n",
    "            x[i],x[j] = x[j],x[i]\n",
    "\n",
    "print(f\"Lsit After Ascending sort: {x}\")"
   ]
  },
  {
   "cell_type": "code",
   "execution_count": 55,
   "id": "fd4002da-f9c6-4f70-ad9e-4a78b11b1010",
   "metadata": {},
   "outputs": [
    {
     "name": "stdout",
     "output_type": "stream",
     "text": [
      "List after Duplicate Removal: [43, 23, 12, 4, 89, 5, 32, 41, 56, 18]\n",
      "Duplicates were: [43, 23, 12, 4, 5, 32, 18]\n",
      "Length of original list was 17\n",
      "Number of duplicates are: 7\n",
      "Elements in updated list: 10\n"
     ]
    }
   ],
   "source": [
    "# 5. Write a Python program to remove duplicates from a list while maintaining the order\n",
    "# of elements.\n",
    "\n",
    "\n",
    "x = [43,23,12,4,89,5,4,43,32,41,56,18,18,23,12,5,32]\n",
    "length = len(x)\n",
    "\n",
    "new = []\n",
    "i = 0\n",
    "\n",
    "while(i<len(x)):\n",
    "    j = i+1\n",
    "    \n",
    "    while(j<len(x)):\n",
    "        if(x[i] == x[j]):\n",
    "            new.append(x.pop(j))\n",
    "        else:\n",
    "            j+=1\n",
    "    i+=1\n",
    "    \n",
    "print(f\"List after Duplicate Removal: {x}\")\n",
    "print(f\"Duplicates were: {new}\")\n",
    "print(f\"Length of original list was {length}\")\n",
    "print(f\"Number of duplicates are: {len(new)}\")\n",
    "print(f\"Elements in updated list: {len(x)}\")\n",
    "            \n",
    "\n"
   ]
  },
  {
   "cell_type": "code",
   "execution_count": 79,
   "id": "6edff95b-c172-436f-8955-bdf9d2382899",
   "metadata": {},
   "outputs": [
    {
     "name": "stdout",
     "output_type": "stream",
     "text": [
      "[[1, 5], [2, 4], [3, 3]]\n"
     ]
    }
   ],
   "source": [
    "# 6.Write a Python program to find all pairs of numbers in a list that add up to a specific\n",
    "# target sum.\n",
    "\n",
    "x = [1,2,3,4,3,5,6]\n",
    "target = 6\n",
    "new = []\n",
    "i = 0\n",
    "\n",
    "while(i < len(x)):\n",
    "    next = i+1    \n",
    "    while(next<len(x)):\n",
    "        if(x[i] + x[next] == target):\n",
    "            pair = [x[i],x[next]]\n",
    "            new.append(pair)\n",
    "        \n",
    "        next += 1\n",
    "    i+=1\n",
    "\n",
    "print(new)"
   ]
  },
  {
   "cell_type": "code",
   "execution_count": 40,
   "id": "4307de1c-2e96-4716-ba8d-ba6a2e1ebd4c",
   "metadata": {},
   "outputs": [
    {
     "name": "stdout",
     "output_type": "stream",
     "text": [
      "[1, 2, 3, 4, [5, 6], 7, 8]\n"
     ]
    }
   ],
   "source": [
    "# 7.Write a Python program to flatten a nested list (list within lists) into a single list.\n",
    "x = [1, [2, 3], [4, [5, 6], 7], 8]\n",
    "new = []\n",
    "for i in x:\n",
    "    if(type(i) == list):\n",
    "        flat.extend(i)\n",
    "    else:\n",
    "        flatten.append(i)\n",
    "\n",
    "print(flatten)"
   ]
  },
  {
   "cell_type": "code",
   "execution_count": null,
   "id": "b418bf26-a96d-482e-91ac-71b70d74c2d4",
   "metadata": {},
   "outputs": [],
   "source": [
    "# 8.Write a Python program to find the sum of the elements in a list, excluding the largest\n",
    "# and smallest element. Don’t use max or min functions\n",
    "x = [1,2,3,4,5]\n",
    "max = x[0]\n",
    "min = x[0]\n",
    "sum = 0\n",
    "for i in range(len(x)):\n",
    "    if(max<x[i]):\n",
    "        max=x[i]\n",
    "    if(min>x[i]):\n",
    "        min = x[i]\n",
    "\n",
    "for i in range(len(x)):\n",
    "    if(x[i] == max or x[i]==min):\n",
    "        continue\n",
    "    else:\n",
    "        sum += x[i]\n",
    "print(f\"Addition of values is: {sum}\")"
   ]
  },
  {
   "cell_type": "markdown",
   "id": "1c141d41-eaea-45f2-a9d9-4a01d1e73076",
   "metadata": {},
   "source": [
    "### Intermediate"
   ]
  },
  {
   "cell_type": "code",
   "execution_count": 39,
   "id": "871689c8-d894-4169-a998-7fdddae5e90e",
   "metadata": {},
   "outputs": [
    {
     "name": "stdout",
     "output_type": "stream",
     "text": [
      "List is Palindrome\n"
     ]
    }
   ],
   "source": [
    "\n",
    "# 9.Write a Python program to check if a list is a palindrome (reads the same backward\n",
    "# as forward) using two pointer approach\n",
    "\n",
    "x = [1,2,3,2,1]\n",
    "i = 0\n",
    "end= len(x)-1\n",
    "out = 0\n",
    "while(i<=end):\n",
    "    if(x[i] == x[end]):\n",
    "        i+=1\n",
    "        end-=1\n",
    "    else:\n",
    "        out+=1\n",
    "        break\n",
    "\n",
    "if(out==0):\n",
    "    print(\"List is Palindrome\")\n",
    "else:\n",
    "    print(\"List is Not a Palindrome\")\n"
   ]
  },
  {
   "cell_type": "code",
   "execution_count": 62,
   "id": "8c228e3a-89d4-4a8d-b738-aa463e554629",
   "metadata": {},
   "outputs": [
    {
     "name": "stdout",
     "output_type": "stream",
     "text": [
      "List without duplicate values: [1, 2, 3, 4, 5, 6]\n",
      "Duplicate values were: [2, 1]\n"
     ]
    }
   ],
   "source": [
    "# 10. Write a function to remove duplicate elements from a list.\n",
    "x = [1, 2, 3, 2, 4, 5, 1, 6]\n",
    "dupli = []\n",
    "new=[]\n",
    "for i in range(len(x)):\n",
    "    if(x[i] not in new):\n",
    "        new.append(x[i])\n",
    "    else:\n",
    "        dupli.append(x[i])\n",
    "\n",
    "print(f\"List without duplicate values: {new}\")\n",
    "print(f\"Duplicate values were: {dupli}\")"
   ]
  },
  {
   "cell_type": "code",
   "execution_count": 68,
   "id": "adefa32a-34a2-43fd-b226-65c5b5c9cb85",
   "metadata": {},
   "outputs": [
    {
     "name": "stdout",
     "output_type": "stream",
     "text": [
      "Common elements are: [3, 4, 5]\n"
     ]
    }
   ],
   "source": [
    "# 11.Find Common Elements in Two Lists\n",
    "list1 = [1, 2, 3, 4, 5]\n",
    "list2 = [3, 4, 5, 6, 7]\n",
    "common = []\n",
    "for i in range(len(list1)):\n",
    "    for j in range(len(list2)):\n",
    "        if(list1[i] == list2[j]):\n",
    "            common.append(list1[i])\n",
    "\n",
    "print(f\"Common elements are: {common}\")"
   ]
  },
  {
   "cell_type": "code",
   "execution_count": 85,
   "id": "4a72ca11-b4a9-49df-93dd-144dc6b6f65b",
   "metadata": {},
   "outputs": [
    {
     "name": "stdout",
     "output_type": "stream",
     "text": [
      "Longest word is: strawberry\n"
     ]
    }
   ],
   "source": [
    "# 12.Find the Longest Word in a List\n",
    "words = [\"apple\", \"banana\", \"strawberry\", \"kiwi\"]\n",
    "max =\"\"\n",
    "for i in words:\n",
    "    if(len(i)>len(max)):\n",
    "        max = i\n",
    "print(f\"Longest word is: {max}\")"
   ]
  },
  {
   "cell_type": "markdown",
   "id": "42ffa7b2-4cea-4f79-aaa7-2898e407a6df",
   "metadata": {},
   "source": [
    "### Advance"
   ]
  },
  {
   "cell_type": "code",
   "execution_count": 33,
   "id": "29689f18-f0e3-496f-8531-48abaec93dc0",
   "metadata": {},
   "outputs": [
    {
     "name": "stdout",
     "output_type": "stream",
     "text": [
      "Missing values are: [3]\n"
     ]
    }
   ],
   "source": [
    "# 14.Find Missing Number in a List\n",
    "# You are given a list of n-1 numbers in the range 1 to n. One number is missing\n",
    "# from the sequence. Find the missing number.\n",
    "\n",
    "x = [1,2,4,5,6]\n",
    "difference = x[-1] - x[-2]\n",
    "i = 0\n",
    "next = i+1\n",
    "missing = []\n",
    "\n",
    "while(next<len(x)):\n",
    "    current_difference = x[next] - x[i]\n",
    "    if(current_difference != difference):\n",
    "        missing.append(x[i]+difference)\n",
    "    i+=1\n",
    "    next+=1\n",
    "\n",
    "print(f\"Missing values are: {missing}\")\n",
    "    "
   ]
  },
  {
   "cell_type": "code",
   "execution_count": 75,
   "id": "91cb15f7-7bf5-44df-a37d-8d9201b5ba38",
   "metadata": {},
   "outputs": [
    {
     "name": "stdout",
     "output_type": "stream",
     "text": [
      "[4, 5, 1, 2, 0, 4, 5, 2]\n",
      "[4, 5, 1, 2, 0, 4, 5, 2]\n",
      "Non-Repeating Element is: 1\n"
     ]
    }
   ],
   "source": [
    "# 15.Find the First Non-Repeating Element\n",
    "# Given a list of integers, find the first element that appears only once.\n",
    "\n",
    "x = [4, 5, 1, 2, 0, 4, 5, 2]\n",
    "count_list = []\n",
    "new = []\n",
    "for i in range(len(x)):\n",
    "    count = 0\n",
    "    for j in range(i+1,len(x)):\n",
    "        if(x[i] == x[j]):\n",
    "            count += 1\n",
    "            \n",
    "        elif(x[i] in new):\n",
    "            count+=1\n",
    "        \n",
    "        else:\n",
    "            count += 0\n",
    "    count_list.append(count)\n",
    "    new.append(x[i])\n",
    "\n",
    "print(x)\n",
    "print(new)\n",
    "for i in range(len(count_list)): \n",
    "    if(count_list[i]==0):\n",
    "        print(f\"Non-Repeating Element is: {x[i]}\")\n",
    "        break\n",
    "        \n",
    "\n",
    "\n"
   ]
  },
  {
   "cell_type": "code",
   "execution_count": 2,
   "id": "feec2501-6e0a-4d63-88b9-f7c115a08fd2",
   "metadata": {},
   "outputs": [
    {
     "name": "stdout",
     "output_type": "stream",
     "text": [
      "[1, 3, 12, 0, 0]\n"
     ]
    }
   ],
   "source": [
    "# 16.Move All Zeros to the End\n",
    "# Given a list of integers, move all zeros to the end while maintaining the relative order\n",
    "# of non-zero elements. Don’t use any inbuilt functions\n",
    "x =[0, 1, 0, 3, 12]\n",
    "for i in range(len(x)):\n",
    "    if(x[i] == 0):\n",
    "        zero = x.pop(i)\n",
    "        x.append(zero)\n",
    "\n",
    "print(x)"
   ]
  },
  {
   "cell_type": "code",
   "execution_count": 22,
   "id": "c411ba05-b124-4372-9e5e-13c4f1e69afe",
   "metadata": {},
   "outputs": [
    {
     "name": "stdout",
     "output_type": "stream",
     "text": [
      "Greater values are: [3, 6, 8]\n"
     ]
    }
   ],
   "source": [
    "# 17. Find Elements Greater Than Their Left Neighbor\n",
    "\n",
    "x = [1, 3, 2, 6, 5, 8, 7]\n",
    "greater = []\n",
    "next = i+1\n",
    "i=0\n",
    "\n",
    "while(next<len(x)):\n",
    "    \n",
    "    if(x[i]>x[next]):\n",
    "        greater.append(x[i])\n",
    "    else:\n",
    "        greater.append(x[next])\n",
    "    i+=2\n",
    "    next += 2\n",
    "    \n",
    "\n",
    "print(f\"Greater values are: {greater}\")\n",
    "        "
   ]
  },
  {
   "cell_type": "code",
   "execution_count": 33,
   "id": "cfcbe276-bc0c-428b-818f-f01f96d69143",
   "metadata": {},
   "outputs": [
    {
     "name": "stdout",
     "output_type": "stream",
     "text": [
      "Unique triplets are: [[-1, 0, 1], [-1, -1, 2]]\n"
     ]
    }
   ],
   "source": [
    "# 18. Find Triplets That Sum to Zero\n",
    "# Given a list of numbers, find all unique triplets (a, b, c) such that a + b + c = 0.\n",
    "x = [-1, 0, 1, 2, -1, -4]\n",
    "triplets = []\n",
    "unique = []\n",
    "for i in range(len(x)):\n",
    "    \n",
    "    \n",
    "    for j in range(i+1,len(x)):\n",
    "       \n",
    "        for k in range(j+1,len(x)):\n",
    "            \n",
    "            if(x[i]+x[j]+x[k] == 0):\n",
    "                \n",
    "                triplet = sorted([x[i],x[j],x[k]])\n",
    "                \n",
    "                if(triplet not in triplets):\n",
    "                    triplets.append(triplet)\n",
    "\n",
    "print(f\"Unique triplets are: {triplets}\")\n"
   ]
  },
  {
   "cell_type": "code",
   "execution_count": null,
   "id": "da0e8bc9-5516-4936-901a-50bdfef044ca",
   "metadata": {},
   "outputs": [],
   "source": []
  }
 ],
 "metadata": {
  "kernelspec": {
   "display_name": "Python [conda env:base] *",
   "language": "python",
   "name": "conda-base-py"
  },
  "language_info": {
   "codemirror_mode": {
    "name": "ipython",
    "version": 3
   },
   "file_extension": ".py",
   "mimetype": "text/x-python",
   "name": "python",
   "nbconvert_exporter": "python",
   "pygments_lexer": "ipython3",
   "version": "3.12.7"
  }
 },
 "nbformat": 4,
 "nbformat_minor": 5
}
