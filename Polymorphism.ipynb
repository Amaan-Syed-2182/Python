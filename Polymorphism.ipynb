{
 "cells": [
  {
   "cell_type": "markdown",
   "id": "a8aa87d3-3004-4ef6-8401-1ffdaa32136b",
   "metadata": {},
   "source": [
    "# Polymorphism\n",
    "\n",
    "### What is Polymorphism ?\n",
    "### "
   ]
  },
  {
   "cell_type": "code",
   "execution_count": 8,
   "id": "e6ee28e6-089d-4723-93d3-f63b0c64fd14",
   "metadata": {},
   "outputs": [
    {
     "name": "stdout",
     "output_type": "stream",
     "text": [
      "This is Child class....\n"
     ]
    }
   ],
   "source": [
    "class employee:\n",
    "    \n",
    "    def info(self):\n",
    "        print(\"This is Employee Class...\")\n",
    "\n",
    "class employee_habit(employee):\n",
    "    def info(self):\n",
    "        print(\"This is Child class....\")\n",
    "e1 = employee_habit()\n",
    "e1.info()"
   ]
  },
  {
   "cell_type": "code",
   "execution_count": 10,
   "id": "32207bf1-814e-44e9-9fb6-bdc5cc089be2",
   "metadata": {},
   "outputs": [],
   "source": [
    "# Method Overloading is a Mechanism to achieve polymorphism where a function is overladed by changing the frunction parameters...\n",
    "# Method overridding is a mechanism to acieve polymorpism whrer a function in child class have same name \n",
    "# and number or signature of parametrs as in parent class..."
   ]
  },
  {
   "cell_type": "code",
   "execution_count": 34,
   "id": "10df8930-344b-4b93-a014-179c9854b5fa",
   "metadata": {},
   "outputs": [
    {
     "name": "stdout",
     "output_type": "stream",
     "text": [
      "Customer class has 101 and Amaan\n"
     ]
    }
   ],
   "source": [
    "class aplication_owner:\n",
    "    def __init__(self,owner_id,owner_name,owner_email):\n",
    "        self.owner_id = owner_id\n",
    "        self.owner_name = owner_name\n",
    "        self.owner_email = owner_email\n",
    "    def info(self):\n",
    "        print(f\"Owner Class has {self.owner_id} and {self.owner_name}\")\n",
    "\n",
    "\n",
    "class aplication_customer(aplication_owner):\n",
    "    def __init__(self,customer_id,customer_name,customer_email):\n",
    "        super().__init__(customer_id,customer_name,customer_email)\n",
    "    def info(self):\n",
    "        print(f\"Customer class has {self.owner_id} and {self.owner_name}\")\n",
    "\n",
    "a1 = aplication_customer(101,'Amaan','123@email')\n",
    "a1.info()"
   ]
  },
  {
   "cell_type": "code",
   "execution_count": 64,
   "id": "bd326fa8-98ef-4698-b770-4ef378187547",
   "metadata": {},
   "outputs": [
    {
     "name": "stdout",
     "output_type": "stream",
     "text": [
      "2 5\n",
      "<__main__.add_numbers object at 0x00000166E70B36E0>\n",
      "calling + for a1 and a2\n"
     ]
    }
   ],
   "source": [
    "class add_numbers:\n",
    "    def __init__(self,num1,num2):\n",
    "        self.num1 = num1\n",
    "        self.num2 = num2\n",
    "    def __add__(self,x):\n",
    "        print(f'calling + for a1 and a2')\n",
    "\n",
    "ob1 = add_numbers(2,4)\n",
    "ob2 = add_numbers(3,5)\n",
    "print(ob1.num1,ob2.num2)\n",
    "print(ob1)\n",
    "ob1 + ob2"
   ]
  }
 ],
 "metadata": {
  "kernelspec": {
   "display_name": "Python [conda env:base] *",
   "language": "python",
   "name": "conda-base-py"
  },
  "language_info": {
   "codemirror_mode": {
    "name": "ipython",
    "version": 3
   },
   "file_extension": ".py",
   "mimetype": "text/x-python",
   "name": "python",
   "nbconvert_exporter": "python",
   "pygments_lexer": "ipython3",
   "version": "3.12.7"
  }
 },
 "nbformat": 4,
 "nbformat_minor": 5
}
