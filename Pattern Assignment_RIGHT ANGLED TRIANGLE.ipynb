{
 "cells": [
  {
   "cell_type": "markdown",
   "id": "da87db2c-7f1e-4ba3-a8ed-41c9fa3ba9f1",
   "metadata": {},
   "source": [
    "## Pattern Assignment\n",
    "### by saiyed Amaan"
   ]
  },
  {
   "cell_type": "code",
   "execution_count": 27,
   "id": "a274cb19-c028-40c5-acce-1c85bd0b18ee",
   "metadata": {},
   "outputs": [
    {
     "name": "stdout",
     "output_type": "stream",
     "text": [
      "* * * * \n",
      "  * * * * \n",
      "    * * * * \n",
      "      * * * * \n"
     ]
    }
   ],
   "source": [
    "# 1.\n",
    "for i in range(1,5):\n",
    "    for j in range(1,i):\n",
    "        print(\" \",end=\" \")\n",
    "    for k in range(1,5):\n",
    "        print(\"*\",end=\" \")\n",
    "    print()"
   ]
  },
  {
   "cell_type": "code",
   "execution_count": 69,
   "id": "734a9781-c07b-4d18-be1e-7760e3807d20",
   "metadata": {},
   "outputs": [
    {
     "name": "stdin",
     "output_type": "stream",
     "text": [
      "Enter a Rows:  4\n",
      "Enter the cols:  6\n"
     ]
    },
    {
     "name": "stdout",
     "output_type": "stream",
     "text": [
      "* * * * * * \n",
      "*         * \n",
      "*         * \n",
      "* * * * * * \n"
     ]
    }
   ],
   "source": [
    "# 2.\n",
    "rows = int(input(\"Enter a Rows: \"))\n",
    "cols = int(input(\"Enter the cols: \"))\n",
    "for i in range(0,rows):\n",
    "    for j in range(0,cols):\n",
    "        if(i==0 or i==rows-1 or j==0 or j==cols-1):\n",
    "            print(\"*\",end=\" \")\n",
    "        else:\n",
    "            print(\" \",end=\" \")\n",
    "    print()"
   ]
  },
  {
   "cell_type": "code",
   "execution_count": 81,
   "id": "5a65f7b3-3005-4356-8dd2-fbca4ba7ffc0",
   "metadata": {},
   "outputs": [
    {
     "name": "stdout",
     "output_type": "stream",
     "text": [
      "A \n",
      "A B \n",
      "A B C \n",
      "A B C D \n",
      "A B C D E \n"
     ]
    }
   ],
   "source": [
    "# 3.\n",
    "for i in range(1,6):\n",
    "    x = 65\n",
    "    for j in range(1,i+1):\n",
    "        print(chr(x),end=\" \")\n",
    "        x += 1\n",
    "    print()"
   ]
  },
  {
   "cell_type": "code",
   "execution_count": 83,
   "id": "8fae0b58-0acb-40ed-b5cb-8108f4be5d29",
   "metadata": {},
   "outputs": [
    {
     "name": "stdout",
     "output_type": "stream",
     "text": [
      "A \n",
      "B B \n",
      "C C C \n",
      "D D D D \n",
      "E E E E E \n"
     ]
    }
   ],
   "source": [
    "# 4.\n",
    "x = 65\n",
    "for i in range(1,6):\n",
    "    for j in range(1,i+1):\n",
    "        print(chr(x),end=\" \")\n",
    "    x+=1\n",
    "    print()"
   ]
  },
  {
   "cell_type": "code",
   "execution_count": 8,
   "id": "523a8b59-8a84-49a3-add1-3cbe7ef62153",
   "metadata": {},
   "outputs": [
    {
     "name": "stdout",
     "output_type": "stream",
     "text": [
      "E \n",
      "D E \n",
      "C D E \n",
      "B C D E \n",
      "A B C D E \n"
     ]
    }
   ],
   "source": [
    "# 5.\n",
    "for i in range(1,6):\n",
    "    x = 70-i\n",
    "    for j in range(1,i+1):\n",
    "        print(chr(x),end=\" \")\n",
    "        x += 1\n",
    "    print()"
   ]
  },
  {
   "cell_type": "code",
   "execution_count": 22,
   "id": "530bb3ae-a31b-47f5-a60b-c2af4869e3b1",
   "metadata": {},
   "outputs": [
    {
     "name": "stdout",
     "output_type": "stream",
     "text": [
      "- - - - * \n",
      "- - - * * \n",
      "- - * * * \n",
      "- * * * * \n",
      "* * * * * \n"
     ]
    }
   ],
   "source": [
    "# 6.A\n",
    "for i in range(1,6):\n",
    "    for j in range(1,6-i):\n",
    "        print(\"-\",end=\" \")\n",
    "    for k in range(1,i+1):\n",
    "        print(\"*\",end=\" \")\n",
    "    print()"
   ]
  },
  {
   "cell_type": "code",
   "execution_count": 10,
   "id": "3a9e3363-e374-4ffe-b051-a361ad86a2dd",
   "metadata": {},
   "outputs": [
    {
     "name": "stdout",
     "output_type": "stream",
     "text": [
      "        1 \n",
      "      1 2 \n",
      "    1 2 3 \n",
      "  1 2 3 4 \n",
      "1 2 3 4 5 \n"
     ]
    }
   ],
   "source": [
    "# 6.B\n",
    "for i in range(1,6):\n",
    "\n",
    "    for j in range(1,6-i):\n",
    "        print(\" \",end=\" \")\n",
    "    for k in range(1,i+1):\n",
    "        print(k,end=\" \")\n",
    "    print()"
   ]
  },
  {
   "cell_type": "code",
   "execution_count": 3,
   "id": "73b3c4ea-85da-4b4b-9a4e-9e81fb457909",
   "metadata": {},
   "outputs": [
    {
     "name": "stdout",
     "output_type": "stream",
     "text": [
      "1 2 3 4 5 \n",
      "  1 2 3 4 \n",
      "    1 2 3 \n",
      "      1 2 \n",
      "        1 \n"
     ]
    }
   ],
   "source": [
    "# 7.A\n",
    "for i in range(5,0,-1):\n",
    "    for j in range(5,i,-1):\n",
    "        print(\" \",end=\" \")\n",
    "    x = 1\n",
    "    for k in range(1,i+1):\n",
    "        print(x,end=\" \")\n",
    "        x+=1\n",
    "    print()"
   ]
  },
  {
   "cell_type": "code",
   "execution_count": 5,
   "id": "cfe05de9-9c13-4e34-976f-659576442b6a",
   "metadata": {},
   "outputs": [
    {
     "name": "stdout",
     "output_type": "stream",
     "text": [
      "A B C D E \n",
      "  A B C D \n",
      "    A B C \n",
      "      A B \n",
      "        A \n"
     ]
    }
   ],
   "source": [
    "# 7.B\n",
    "for i in range(5,0,-1):\n",
    "    for j in range(5,i,-1):\n",
    "        print(\" \",end=\" \")\n",
    "    x = 65\n",
    "    for k in range(1,i+1):\n",
    "        print(chr(x),end=\" \")\n",
    "        x+=1\n",
    "    print()"
   ]
  },
  {
   "cell_type": "code",
   "execution_count": 11,
   "id": "c22c919c-41fa-4606-83d5-a156db7c7d1c",
   "metadata": {},
   "outputs": [
    {
     "name": "stdout",
     "output_type": "stream",
     "text": [
      "          * * * * * \n",
      "        * * * * * \n",
      "      * * * * * \n",
      "    * * * * * \n",
      "  * * * * * \n"
     ]
    }
   ],
   "source": [
    "# 8.A\n",
    "for i in range(1,6):\n",
    "    \n",
    "    for j in range(6,i,-1):\n",
    "        print(\" \",end=\" \")\n",
    "    \n",
    "    for k in range(1,6):\n",
    "        print(\"*\",end=\" \")\n",
    "    print()"
   ]
  },
  {
   "cell_type": "code",
   "execution_count": 13,
   "id": "f83c6bcd-e358-428c-85e3-beb4a1bb19bc",
   "metadata": {},
   "outputs": [
    {
     "name": "stdout",
     "output_type": "stream",
     "text": [
      "          1 2 3 4 5 \n",
      "        1 2 3 4 5 \n",
      "      1 2 3 4 5 \n",
      "    1 2 3 4 5 \n",
      "  1 2 3 4 5 \n"
     ]
    }
   ],
   "source": [
    "# 8.B\n",
    "for i in range(1,6):\n",
    "    \n",
    "    for j in range(6,i,-1):\n",
    "        print(\" \",end=\" \")\n",
    "    x = 1\n",
    "    for k in range(1,6):\n",
    "        print(x,end=\" \")\n",
    "        x+=1\n",
    "    print()"
   ]
  },
  {
   "cell_type": "code",
   "execution_count": 15,
   "id": "631a859c-132a-4892-9d6a-2dd996503846",
   "metadata": {},
   "outputs": [
    {
     "name": "stdout",
     "output_type": "stream",
     "text": [
      "          A B C D E \n",
      "        A B C D E \n",
      "      A B C D E \n",
      "    A B C D E \n",
      "  A B C D E \n"
     ]
    }
   ],
   "source": [
    "# 8.C\n",
    "for i in range(1,6):\n",
    "    \n",
    "    for j in range(6,i,-1):\n",
    "        print(\" \",end=\" \")\n",
    "    x = 65\n",
    "    for k in range(1,6):\n",
    "        print(chr(x),end=\" \")\n",
    "        x+=1\n",
    "    print()"
   ]
  },
  {
   "cell_type": "code",
   "execution_count": 21,
   "id": "fdd77f96-084d-4c75-b8c6-66adc1c7f85b",
   "metadata": {},
   "outputs": [
    {
     "name": "stdout",
     "output_type": "stream",
     "text": [
      "1 \n",
      "1 2 \n",
      "1 2 3 \n",
      "1 2 3 4 \n",
      "1 2 3 4 5 \n"
     ]
    }
   ],
   "source": [
    "#Half Pyramid\n",
    "for i in range(1,6):\n",
    "    x = 1\n",
    "    for j in range(1,i+1):\n",
    "        print(x,end=\" \")\n",
    "        x+=1\n",
    "    print()\n",
    "        "
   ]
  },
  {
   "cell_type": "code",
   "execution_count": 23,
   "id": "0575e0b3-69ea-47c4-a544-8c13b20d5ba9",
   "metadata": {},
   "outputs": [
    {
     "name": "stdout",
     "output_type": "stream",
     "text": [
      "1 2 3 4 5 \n",
      "1 2 3 4 \n",
      "1 2 3 \n",
      "1 2 \n",
      "1 \n"
     ]
    }
   ],
   "source": [
    "#Inverted Half Pyramid\n",
    "for i in range(5,0,-1):\n",
    "    x = 1\n",
    "    for j in range(1,i+1):\n",
    "        print(x,end=\" \")\n",
    "        x+=1\n",
    "    print()\n",
    "        "
   ]
  },
  {
   "cell_type": "code",
   "execution_count": 41,
   "id": "451f5963-a4e9-446b-b808-20485c220403",
   "metadata": {},
   "outputs": [
    {
     "name": "stdout",
     "output_type": "stream",
     "text": [
      "1 \n",
      "1 2 \n",
      "1   3 \n",
      "1     4 \n",
      "1 2 3 4 5 \n"
     ]
    }
   ],
   "source": [
    "# Hollow Right-Angled triangled\n",
    "for i in range(1,6):\n",
    "    x=1\n",
    "    for j in range(1,i+1):\n",
    "        if(i==5 or j==1 or j==i ):\n",
    "            print(x,end=\" \")\n",
    "        else:\n",
    "            print(\" \",end=\" \")\n",
    "        x+=1\n",
    "    print()"
   ]
  },
  {
   "cell_type": "code",
   "execution_count": 43,
   "id": "3742c2a1-b71c-46af-86d7-3b4328de992a",
   "metadata": {},
   "outputs": [
    {
     "name": "stdout",
     "output_type": "stream",
     "text": [
      "1 2 3 4 5 \n",
      "1     4 \n",
      "1   3 \n",
      "1 2 \n",
      "1 \n"
     ]
    }
   ],
   "source": [
    "# Inverted Hollow Right-Angled triangled\n",
    "for i in range(5,0,-1):\n",
    "    x=1\n",
    "    for j in range(1,i+1):\n",
    "        if(i==5 or j==1 or j==i):\n",
    "            print(x,end=\" \")\n",
    "        else:\n",
    "            print(\" \",end=\" \")\n",
    "        x+=1\n",
    "    print()"
   ]
  },
  {
   "cell_type": "code",
   "execution_count": null,
   "id": "80ae3a5b-0898-4d26-b5f8-480015b02cb4",
   "metadata": {},
   "outputs": [],
   "source": []
  }
 ],
 "metadata": {
  "kernelspec": {
   "display_name": "Python [conda env:base] *",
   "language": "python",
   "name": "conda-base-py"
  },
  "language_info": {
   "codemirror_mode": {
    "name": "ipython",
    "version": 3
   },
   "file_extension": ".py",
   "mimetype": "text/x-python",
   "name": "python",
   "nbconvert_exporter": "python",
   "pygments_lexer": "ipython3",
   "version": "3.12.7"
  }
 },
 "nbformat": 4,
 "nbformat_minor": 5
}
