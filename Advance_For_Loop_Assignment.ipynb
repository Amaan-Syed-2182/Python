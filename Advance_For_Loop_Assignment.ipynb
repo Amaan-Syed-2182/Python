{
 "cells": [
  {
   "cell_type": "markdown",
   "id": "518f78eb-c529-41d1-a47e-6f0abea3b420",
   "metadata": {},
   "source": [
    "## For Loop Assignment\n",
    "### By Saiyed Amaan"
   ]
  },
  {
   "cell_type": "code",
   "execution_count": 14,
   "id": "2105c962-28a2-4a7b-b215-759fcfe76778",
   "metadata": {},
   "outputs": [
    {
     "name": "stdin",
     "output_type": "stream",
     "text": [
      "Enter the Number:  23\n"
     ]
    },
    {
     "name": "stdout",
     "output_type": "stream",
     "text": [
      "1 2 3 4 5 6 7 8 9 10 11 12 13 14 15 16 17 18 19 20 21 22 23 "
     ]
    }
   ],
   "source": [
    "# 1.\n",
    "num = int(input(\"Enter the Number: \"))\n",
    "\n",
    "for i in range(1,num+1):\n",
    "    print(i,end=\" \")"
   ]
  },
  {
   "cell_type": "code",
   "execution_count": 16,
   "id": "8b8c6960-7883-43a1-ad24-69d4dd57f6e6",
   "metadata": {},
   "outputs": [
    {
     "name": "stdin",
     "output_type": "stream",
     "text": [
      "Enter the Number:  23\n"
     ]
    },
    {
     "name": "stdout",
     "output_type": "stream",
     "text": [
      "23 22 21 20 19 18 17 16 15 14 13 12 11 10 9 8 7 6 5 4 3 2 1 "
     ]
    }
   ],
   "source": [
    "# 2.\n",
    "num = int(input(\"Enter the Number: \"))\n",
    "\n",
    "for i in range(num,0,-1):\n",
    "    print(i,end=\" \")"
   ]
  },
  {
   "cell_type": "code",
   "execution_count": 8,
   "id": "5f4d2bb8-1cd4-4a59-90ab-29fbc9a60f29",
   "metadata": {},
   "outputs": [
    {
     "name": "stdout",
     "output_type": "stream",
     "text": [
      "97 122\n",
      "a b c d e f g h i j k l m n o p q r s t u v w x y "
     ]
    }
   ],
   "source": [
    "# 3.\n",
    "# ord() prints the ascii of a charatcer\n",
    "# chr() prints the Character value of a Number\n",
    "print(ord(\"a\"),ord(\"z\"))\n",
    "for i in range(97,122):\n",
    "    print(chr(i),end=\" \")"
   ]
  },
  {
   "cell_type": "code",
   "execution_count": 26,
   "id": "44be37ce-b1ea-4d49-bedb-3f5c52590b92",
   "metadata": {},
   "outputs": [
    {
     "name": "stdout",
     "output_type": "stream",
     "text": [
      "2 4 6 8 10 12 14 16 18 20 22 24 26 28 30 32 34 36 38 40 42 44 46 48 50 52 54 56 58 60 62 64 66 68 70 72 74 76 78 80 82 84 86 88 90 92 94 96 98 100 "
     ]
    }
   ],
   "source": [
    "# 4.\n",
    "for i in range(1,101):\n",
    "    if(i%2==0):\n",
    "        print(i,end=\" \")"
   ]
  },
  {
   "cell_type": "code",
   "execution_count": 30,
   "id": "97d86bab-3dd9-4bce-b567-e972518fb840",
   "metadata": {},
   "outputs": [
    {
     "name": "stdin",
     "output_type": "stream",
     "text": [
      "Enter a Number:  10\n"
     ]
    },
    {
     "name": "stdout",
     "output_type": "stream",
     "text": [
      "Sum is: 5\n"
     ]
    }
   ],
   "source": [
    "# 5.\n",
    "num =  int(input(\"Enter a Number: \"))\n",
    "odd_sum = 0\n",
    "\n",
    "for i in range(1,num+1):\n",
    "    if(i%2==1):\n",
    "        odd_sum += 1\n",
    "\n",
    "print(f\"Sum is: {odd_sum}\")\n"
   ]
  },
  {
   "cell_type": "code",
   "execution_count": 34,
   "id": "d846fe07-d1c9-4e5a-92ea-dd4e40289a7c",
   "metadata": {},
   "outputs": [
    {
     "name": "stdin",
     "output_type": "stream",
     "text": [
      "Enter a Number:  1234\n"
     ]
    },
    {
     "name": "stdout",
     "output_type": "stream",
     "text": [
      "Number of Digits are: 4\n"
     ]
    }
   ],
   "source": [
    "# 6.\n",
    "num = int(input(\"Enter a Number: \"))\n",
    "count = 0\n",
    "\n",
    "for i in str(num):\n",
    "    count += 1\n",
    "\n",
    "print(f\"Number of Digits are: {count}\")\n"
   ]
  },
  {
   "cell_type": "code",
   "execution_count": 36,
   "id": "f686f383-8412-433c-b0b3-da16496a8910",
   "metadata": {},
   "outputs": [
    {
     "name": "stdin",
     "output_type": "stream",
     "text": [
      "Enter a Number:  123\n"
     ]
    },
    {
     "name": "stdout",
     "output_type": "stream",
     "text": [
      "Sum of Digits is: 6\n"
     ]
    }
   ],
   "source": [
    "# 7.\n",
    "num = int(input(\"Enter a Number: \"))\n",
    "sum_digit = 0\n",
    "digit = 0\n",
    "\n",
    "for i in str(num):\n",
    "    digit = int(i)\n",
    "    sum_digit += digit\n",
    "\n",
    "print(f\"Sum of Digits is: {sum_digit}\")\n"
   ]
  },
  {
   "cell_type": "code",
   "execution_count": 50,
   "id": "4365602d-1637-4a9e-a019-7b080a231200",
   "metadata": {},
   "outputs": [
    {
     "name": "stdin",
     "output_type": "stream",
     "text": [
      "Enter a number:  1234\n"
     ]
    },
    {
     "name": "stdout",
     "output_type": "stream",
     "text": [
      "First Letter is: 1\n",
      "Last Letter is: 4\n"
     ]
    }
   ],
   "source": [
    "# 8.\n",
    "num = input(\"Enter a number: \")\n",
    "\n",
    "first = num[0]\n",
    "last = 0\n",
    "\n",
    "for i in num:\n",
    "    if(int(i)<10):\n",
    "        last = int(i)\n",
    "\n",
    "print(f\"First Letter is: {first}\")\n",
    "print(f\"Last Letter is: {last}\")\n",
    "    "
   ]
  },
  {
   "cell_type": "code",
   "execution_count": 58,
   "id": "a6a2063d-971c-4840-a30f-8793ef28bb11",
   "metadata": {},
   "outputs": [
    {
     "name": "stdin",
     "output_type": "stream",
     "text": [
      "Enter a number:  1234\n"
     ]
    },
    {
     "name": "stdout",
     "output_type": "stream",
     "text": [
      "Sum of 1 and 4 is: 5\n"
     ]
    }
   ],
   "source": [
    "# 9.\n",
    "num = input(\"Enter a number: \")\n",
    "\n",
    "first = num[0]\n",
    "last = 0\n",
    "\n",
    "for i in num:\n",
    "    if(int(i)<10):\n",
    "        last = int(i)\n",
    "sum_digit = int(first) + int(last)\n",
    "print(f\"Sum of {first} and {last} is: {sum_digit}\")"
   ]
  },
  {
   "cell_type": "code",
   "execution_count": 60,
   "id": "6df15e96-4f96-43e2-a45e-0b9f5b852abd",
   "metadata": {},
   "outputs": [
    {
     "name": "stdin",
     "output_type": "stream",
     "text": [
      "Enter a Number:  1234\n"
     ]
    },
    {
     "name": "stdout",
     "output_type": "stream",
     "text": [
      "Reversed number is: 4321\n"
     ]
    }
   ],
   "source": [
    "# 10\n",
    "num = input(\"Enter a Number: \")\n",
    "reversed_num = \"\"\n",
    "\n",
    "for char in num:\n",
    "    reversed_num = char + reversed_num\n",
    "\n",
    "print(f\"Reversed number is: {reversed_num}\")\n",
    "    \n",
    "    "
   ]
  },
  {
   "cell_type": "code",
   "execution_count": 9,
   "id": "a272b707-130a-430c-a293-c330807cbd4c",
   "metadata": {},
   "outputs": [
    {
     "name": "stdin",
     "output_type": "stream",
     "text": [
      "Enter Base:  2\n",
      "Enter Power:  3\n"
     ]
    },
    {
     "name": "stdout",
     "output_type": "stream",
     "text": [
      "The Result is: 8\n"
     ]
    }
   ],
   "source": [
    "# 11.\n",
    "base = int(input(\"Enter Base: \"))\n",
    "power = int(input(\"Enter Power: \"))\n",
    "result = 1\n",
    "for i in range(1,power+1):\n",
    "    result *= base\n",
    "\n",
    "print(f\"The Result is: {result}\")\n",
    "    "
   ]
  },
  {
   "cell_type": "code",
   "execution_count": 23,
   "id": "a00d0470-09a8-4627-b3eb-bdd9adfccef7",
   "metadata": {},
   "outputs": [
    {
     "name": "stdin",
     "output_type": "stream",
     "text": [
      "Enter the Number:  100\n"
     ]
    },
    {
     "name": "stdout",
     "output_type": "stream",
     "text": [
      "Factors of 100 are:  1 2 4 5 10 20 25 50 100 "
     ]
    }
   ],
   "source": [
    "# 13.\n",
    "num = int(input(\"Enter the Number: \"))\n",
    "print(f\"Factors of {num} are: \",end=\" \")\n",
    "for i in range(1,num+1):\n",
    "    if(num%i==0):\n",
    "        print(i,end=\" \")\n",
    "    \n",
    "    "
   ]
  },
  {
   "cell_type": "code",
   "execution_count": 19,
   "id": "e6b6bf51-692e-4dee-8483-02d43f380d3c",
   "metadata": {},
   "outputs": [
    {
     "name": "stdin",
     "output_type": "stream",
     "text": [
      "Enter the first value:  5\n",
      "Enter the second Value:  8\n"
     ]
    },
    {
     "name": "stdout",
     "output_type": "stream",
     "text": [
      "LCM is: 40\n"
     ]
    }
   ],
   "source": [
    "# 14.\n",
    "num1 = int(input(\"Enter the first value: \"))\n",
    "num2 = int(input(\"Enter the second Value: \"))\n",
    "greater = 0\n",
    "LCM = 0\n",
    "if(num1>num2):\n",
    "    greater = num1\n",
    "else:\n",
    "    greater = num2\n",
    "\n",
    "for i in range(greater,(num1*num2)+1):\n",
    "    if(i%num1==0 and i%num2==0):\n",
    "        LCM += i\n",
    "        break\n",
    "\n",
    "print(f\"LCM is: {LCM}\")\n"
   ]
  },
  {
   "cell_type": "code",
   "execution_count": 31,
   "id": "2adedd2a-bec9-40d8-ba05-5208ad83514e",
   "metadata": {},
   "outputs": [
    {
     "name": "stdin",
     "output_type": "stream",
     "text": [
      "Enter a Number:  78\n"
     ]
    },
    {
     "name": "stdout",
     "output_type": "stream",
     "text": [
      "78 is Not Prime.\n"
     ]
    }
   ],
   "source": [
    "# 15.\n",
    "num = int(input(\"Enter a Number: \"))\n",
    "count = 0\n",
    "for i in range(2,num):\n",
    "    if(num%i==0):\n",
    "        count+=1\n",
    "        break\n",
    "if(count != 0):\n",
    "    print(f\"{num} is Not Prime.\")\n",
    "else:\n",
    "    print(f\"{num} is Prime.\")\n"
   ]
  },
  {
   "cell_type": "code",
   "execution_count": 53,
   "id": "987365e2-200f-424e-8c44-aa9e8996bd99",
   "metadata": {},
   "outputs": [
    {
     "name": "stdin",
     "output_type": "stream",
     "text": [
      "Enter a Number:  100\n"
     ]
    },
    {
     "name": "stdout",
     "output_type": "stream",
     "text": [
      "Prime numbers are: 2 3 5 7 11 13 17 19 23 29 31 37 41 43 47 53 59 61 67 71 73 79 83 89 97 \n",
      "Total Prime numbers are: 25\n",
      "Iterations are: 1059\n"
     ]
    }
   ],
   "source": [
    "# 16.\n",
    "num = int(input(\"Enter a Number: \"))\n",
    "prime_count = 0\n",
    "iteration = 0\n",
    "print(f\"Prime numbers are:\",end=\" \")\n",
    "for i in range(2,num):\n",
    "    count = 0\n",
    "    for j in range(2,i):\n",
    "        if(i%j == 0):\n",
    "            count +=1\n",
    "            break\n",
    "        iteration +=1\n",
    "    if(count == 0):\n",
    "        print(i,end=\" \")\n",
    "        prime_count +=1\n",
    "        \n",
    "        \n",
    "print()\n",
    "print(f\"Total Prime numbers are: {prime_count}\")\n",
    "print(f\"Iterations are: {iteration}\")\n",
    "    "
   ]
  },
  {
   "cell_type": "code",
   "execution_count": 65,
   "id": "4bff110d-7198-4108-9739-303f58144a30",
   "metadata": {},
   "outputs": [
    {
     "name": "stdin",
     "output_type": "stream",
     "text": [
      "Enter a Number:  5040\n"
     ]
    },
    {
     "name": "stdout",
     "output_type": "stream",
     "text": [
      "Prime factors are:  2 3 5 7 "
     ]
    }
   ],
   "source": [
    "# 17.\n",
    "num = int(input(\"Enter a Number: \"))\n",
    "print(f\"Prime factors are: \",end=\" \")\n",
    "for i in range(2,num+1):\n",
    "    if(num%i==0):\n",
    "        count = 0\n",
    "        for j in range(2,i):\n",
    "            if(i%j==0):\n",
    "                count+=1\n",
    "                break\n",
    "        if(count==0):\n",
    "            print(i,end=\" \")"
   ]
  },
  {
   "cell_type": "code",
   "execution_count": null,
   "id": "923f1076-a721-4b5f-b82c-126104ab293e",
   "metadata": {},
   "outputs": [
    {
     "name": "stdout",
     "output_type": "stream",
     "text": [
      "153\n",
      "370\n",
      "371\n",
      "407\n",
      "1634\n",
      "8208\n",
      "9474\n",
      "54748\n",
      "92727\n",
      "93084\n",
      "548834\n",
      "1741725\n",
      "4210818\n",
      "9800817\n",
      "9926315\n",
      "24678050\n",
      "24678051\n"
     ]
    }
   ],
   "source": [
    "# 18.\n",
    "for num in range(150,999999999):\n",
    "    num_str = str(num)\n",
    "    power = len(num_str)\n",
    "    total = 0\n",
    "    \n",
    "    for digit in num_str:\n",
    "        power_digit = int(digit)**power\n",
    "        total += power_digit\n",
    "    if(total == num):\n",
    "        print(num)\n"
   ]
  },
  {
   "cell_type": "code",
   "execution_count": 5,
   "id": "29f4f76f-6a0a-4ca9-b4d3-87b67eafa483",
   "metadata": {},
   "outputs": [
    {
     "name": "stdout",
     "output_type": "stream",
     "text": [
      "6\n",
      "28\n"
     ]
    }
   ],
   "source": [
    "# 19.\n",
    "num = int(input(\"Enter the Number: \"))\n",
    "str_num = str(num)\n",
    "\n",
    "    \n"
   ]
  },
  {
   "cell_type": "code",
   "execution_count": 3,
   "id": "0ba4ae03-6818-45a1-986b-17e6acd75a06",
   "metadata": {},
   "outputs": [
    {
     "name": "stdout",
     "output_type": "stream",
     "text": [
      "6 28 496 8128 "
     ]
    }
   ],
   "source": [
    "# 20\n",
    "# num = int(input(\"Enter the Number: \")\n",
    "for num in range(1,10000):\n",
    "    summ = 0\n",
    "    for i in range(1,num):\n",
    "        if(num%i==0):\n",
    "            summ += i\n",
    "    if(summ == num):\n",
    "         print(num,end=\" \")"
   ]
  },
  {
   "cell_type": "code",
   "execution_count": 9,
   "id": "65cadd7a-05de-46f8-9247-b30bea077905",
   "metadata": {},
   "outputs": [
    {
     "name": "stdin",
     "output_type": "stream",
     "text": [
      "Enter a Number:  10\n"
     ]
    },
    {
     "name": "stdout",
     "output_type": "stream",
     "text": [
      "0 1 1 2 3 5 8 13 21 34 "
     ]
    }
   ],
   "source": [
    "# 21.\n",
    "num = int(input(\"Enter a Number: \"))\n",
    "a = 0\n",
    "b = 1\n",
    "for i in range(1,num+1):\n",
    "    print(a,end=\" \")\n",
    "    temp = a\n",
    "    a = b\n",
    "    b = temp+a\n",
    "    "
   ]
  },
  {
   "cell_type": "code",
   "execution_count": 15,
   "id": "22ae2ff8-3240-4006-9e19-a235da428c2a",
   "metadata": {},
   "outputs": [
    {
     "name": "stdin",
     "output_type": "stream",
     "text": [
      "Enter the Binary Value 1011\n"
     ]
    },
    {
     "name": "stdout",
     "output_type": "stream",
     "text": [
      "Complement is: 0100\n"
     ]
    }
   ],
   "source": [
    "# 22.\n",
    "binary = input(\"Enter the Binary Value\")\n",
    "complement = \"\"\n",
    "for digit in binary:\n",
    "    if(digit ==\"0\"):\n",
    "        digit = \"1\"\n",
    "        complement += digit\n",
    "    elif(digit == \"1\"):\n",
    "        digit = \"0\"\n",
    "        complement += digit\n",
    "    else:\n",
    "        print(\"Invalid value Entered\")\n",
    "print(f\"Complement is: {complement}\")\n",
    "        "
   ]
  }
 ],
 "metadata": {
  "kernelspec": {
   "display_name": "Python [conda env:base] *",
   "language": "python",
   "name": "conda-base-py"
  },
  "language_info": {
   "codemirror_mode": {
    "name": "ipython",
    "version": 3
   },
   "file_extension": ".py",
   "mimetype": "text/x-python",
   "name": "python",
   "nbconvert_exporter": "python",
   "pygments_lexer": "ipython3",
   "version": "3.12.7"
  }
 },
 "nbformat": 4,
 "nbformat_minor": 5
}
