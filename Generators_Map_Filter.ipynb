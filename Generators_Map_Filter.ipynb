{
 "cells": [
  {
   "cell_type": "markdown",
   "id": "9dd37919-cc28-4349-bed4-be63a81730a9",
   "metadata": {},
   "source": [
    "# Generator\n",
    "\n",
    "### A generator is a special type of function in Python that:\n",
    "\n",
    "Returns values one at a time using yield (not return)\n",
    "\n",
    "Saves its state between calls\n",
    "\n",
    "Is memory-efficient — great for large datasets or streams\n",
    "\n",
    "You call a generator function to get a generator object, which you can loop through or control using methods.\n",
    "\n",
    "### next()\n",
    "\n",
    " __next__() or next(generator)\n",
    "Moves to the next yield\n",
    "\n",
    "Returns the next value\n",
    "\n",
    "Raises StopIteration when done\n",
    "\n",
    "### send()\n",
    "Sends a value into the generator to be received at the yield point\n",
    "\n",
    "Starts the generator using send(None) or next() first"
   ]
  },
  {
   "cell_type": "code",
   "execution_count": 18,
   "id": "3cd8b12f-6e22-4a7c-a564-438fe6147cba",
   "metadata": {},
   "outputs": [],
   "source": [
    "def func(num):\n",
    "    print(\"First line\")\n",
    "    yield num+10\n",
    "    print(\"After first yeild\")\n",
    "    yield 1\n",
    "\n",
    "x=func(12)"
   ]
  },
  {
   "cell_type": "code",
   "execution_count": 20,
   "id": "c91cf7d9-630d-454f-8fd5-1712079c35b4",
   "metadata": {},
   "outputs": [
    {
     "name": "stdout",
     "output_type": "stream",
     "text": [
      "First line\n",
      "22\n"
     ]
    }
   ],
   "source": [
    "print(next(x))"
   ]
  },
  {
   "cell_type": "code",
   "execution_count": 22,
   "id": "7b375290-db0a-4b55-a753-68edc52a7f88",
   "metadata": {},
   "outputs": [
    {
     "name": "stdout",
     "output_type": "stream",
     "text": [
      "After first yeild\n",
      "1\n"
     ]
    }
   ],
   "source": [
    "print(next(x))"
   ]
  },
  {
   "cell_type": "code",
   "execution_count": null,
   "id": "eccaab11-6b5f-4651-b73c-d3984e052c98",
   "metadata": {},
   "outputs": [],
   "source": [
    "a = [10,20,30,40]\n",
    "print()"
   ]
  },
  {
   "cell_type": "code",
   "execution_count": 35,
   "id": "b6b78c62-cef5-4ffd-8f92-d2944d647edf",
   "metadata": {},
   "outputs": [
    {
     "name": "stdout",
     "output_type": "stream",
     "text": [
      "Fabonacci series is: 0 1 1 2 3 5 8 13 21 34 "
     ]
    }
   ],
   "source": [
    "def fabonacci(num):\n",
    "    a=0\n",
    "    b=1\n",
    "    i=1\n",
    "    print(\"Fabonacci series is:\",end=\" \")\n",
    "    while(i<=num):\n",
    "        yield a\n",
    "        temp = a\n",
    "        a = b\n",
    "        b = temp+a\n",
    "        i+=1\n",
    "\n",
    "result = fabonacci(10)\n",
    "result = list(result)\n",
    "\n",
    "for i in result:\n",
    "    print(i,end=\" \")"
   ]
  },
  {
   "cell_type": "code",
   "execution_count": 45,
   "id": "e9c8d34e-4b5f-4d03-bcc7-1746dbeac708",
   "metadata": {},
   "outputs": [
    {
     "name": "stdout",
     "output_type": "stream",
     "text": [
      "Hey 0\n",
      "ABC\n",
      "Hey 1\n",
      "ABC\n",
      "Hey 2\n",
      "ABC\n",
      "Hey 3\n",
      "ABC\n",
      "Hey 4\n",
      "ABC\n"
     ]
    }
   ],
   "source": [
    "def func():\n",
    "    i = 0\n",
    "    while(i<5):\n",
    "        print(\"Hey\",i)\n",
    "        i+=1\n",
    "        yield \"ABC\"\n",
    "gen = func()\n",
    "for i in gen:\n",
    "    print(i)"
   ]
  },
  {
   "cell_type": "markdown",
   "id": "8bc211ea-9966-46b3-84b7-9af1f591fb46",
   "metadata": {},
   "source": [
    "## Map() and Filter()"
   ]
  },
  {
   "cell_type": "markdown",
   "id": "eeb566be-77cf-494d-85af-eebcc547318b",
   "metadata": {},
   "source": [
    "## syntax: map(function,iterable)"
   ]
  },
  {
   "cell_type": "code",
   "execution_count": 67,
   "id": "bec06a81-295a-4ee0-a79d-d8461d24f9c3",
   "metadata": {},
   "outputs": [
    {
     "name": "stdout",
     "output_type": "stream",
     "text": [
      "25 36 49 64 81 100 [25, 36, 49, 64, 81, 100]\n"
     ]
    }
   ],
   "source": [
    "y = map(lambda x:x**2,[5,6,7,8,9,10])\n",
    "square = []\n",
    "for i in y:\n",
    "    print(i,end=\" \")\n",
    "    square.append(i)\n",
    "print(square)\n"
   ]
  },
  {
   "cell_type": "code",
   "execution_count": 75,
   "id": "b76a0be5-dc8b-40d0-a8e8-cc76424e8377",
   "metadata": {},
   "outputs": [
    {
     "name": "stdout",
     "output_type": "stream",
     "text": [
      "[True, False, True, True, False, True, False, False, True, True]\n"
     ]
    }
   ],
   "source": [
    "y = map(lambda x:x%2==0,[2,3,4,6,7,8,9,11,12,14])\n",
    "print(list(y))"
   ]
  },
  {
   "cell_type": "code",
   "execution_count": 61,
   "id": "4fd901b8-0a99-4297-95aa-5f47f633246b",
   "metadata": {},
   "outputs": [
    {
     "name": "stdout",
     "output_type": "stream",
     "text": [
      "2\n",
      "4\n",
      "6\n",
      "8\n",
      "12\n",
      "14\n"
     ]
    }
   ],
   "source": [
    "z = filter(lambda x:x%2==0,[2,3,4,6,7,8,9,11,12,14])\n",
    "for i in z:\n",
    "    print(i)"
   ]
  },
  {
   "cell_type": "code",
   "execution_count": 65,
   "id": "2d18ea4a-de27-4b0f-8524-0a1ac7c9dc37",
   "metadata": {},
   "outputs": [
    {
     "data": {
      "text/plain": [
       "[]"
      ]
     },
     "execution_count": 65,
     "metadata": {},
     "output_type": "execute_result"
    }
   ],
   "source": [
    "z = filter(lambda x:x%2==0,[2,3,4,6,7,8,9,11,12,14])\n",
    "list(y)"
   ]
  }
 ],
 "metadata": {
  "kernelspec": {
   "display_name": "Python [conda env:base] *",
   "language": "python",
   "name": "conda-base-py"
  },
  "language_info": {
   "codemirror_mode": {
    "name": "ipython",
    "version": 3
   },
   "file_extension": ".py",
   "mimetype": "text/x-python",
   "name": "python",
   "nbconvert_exporter": "python",
   "pygments_lexer": "ipython3",
   "version": "3.12.7"
  }
 },
 "nbformat": 4,
 "nbformat_minor": 5
}
