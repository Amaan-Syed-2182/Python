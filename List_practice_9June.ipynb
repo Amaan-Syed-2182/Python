{
 "cells": [
  {
   "cell_type": "code",
   "execution_count": 65,
   "id": "485d7d9a-5dca-472a-9cbf-6453b61a3142",
   "metadata": {},
   "outputs": [
    {
     "name": "stdout",
     "output_type": "stream",
     "text": [
      "[140, 130, 120, 110, 100, 90, 80, 70, 60, 40, 30, 20, 10]\n"
     ]
    }
   ],
   "source": [
    "# Swapping elements fron start to end\n",
    "mylist = [10,20,30,40,60,70,80,90,100,110,120,130,140]\n",
    "start = 0\n",
    "end=len(mylist)-1\n",
    "while(start<end):\n",
    "    mylist[start],mylist[end]=mylist[end],mylist[start]\n",
    "    start+=1\n",
    "    end-=1\n",
    "print(mylist)"
   ]
  },
  {
   "cell_type": "code",
   "execution_count": 67,
   "id": "ec210c6c-d922-4a9f-a13b-7508650a4c71",
   "metadata": {},
   "outputs": [
    {
     "name": "stdout",
     "output_type": "stream",
     "text": [
      "[50, 40, 30, 20, 10]\n"
     ]
    }
   ],
   "source": [
    "# swapping Elements\n",
    "mylist = [10,20,30,40,50]\n",
    "end=len(mylist)-1\n",
    "for start in range(len(mylist)):\n",
    "    if(start<end):\n",
    "        temp = mylist[start]\n",
    "        mylist[start] = mylist[end]\n",
    "        mylist[end] = temp\n",
    "        end-=1\n",
    "print(mylist)"
   ]
  },
  {
   "cell_type": "code",
   "execution_count": 83,
   "id": "1f52ceef-c48e-40aa-8949-311b66e82a06",
   "metadata": {},
   "outputs": [
    {
     "name": "stdout",
     "output_type": "stream",
     "text": [
      "[3, 5, 10, 20, 30, 40, 50]\n"
     ]
    }
   ],
   "source": [
    "# Sorting the list in ascending order\n",
    "mylist = [10,3,20,5,30,40,50]\n",
    "for i in range(len(mylist)):\n",
    "    for j in range(i+1,len(mylist)):\n",
    "        if(mylist[i]>mylist[j]):\n",
    "            mylist[i],mylist[j] = mylist[j],mylist[i]\n",
    "        \n",
    "print(mylist)"
   ]
  },
  {
   "cell_type": "code",
   "execution_count": 89,
   "id": "56b5afec-5958-476f-8663-4a730325bcdd",
   "metadata": {},
   "outputs": [
    {
     "name": "stdout",
     "output_type": "stream",
     "text": [
      "[50, 40, 30, 20, 10, 5, 3]\n"
     ]
    }
   ],
   "source": [
    "# Sorting the list in Descending order\n",
    "mylist = [10,3,20,5,30,40,50]\n",
    "for i in range(len(mylist)):\n",
    "    for j in range(i+1,len(mylist)):\n",
    "        if(mylist[i]<mylist[j]):\n",
    "            mylist[i],mylist[j] = mylist[j],mylist[i]\n",
    "print(mylist)"
   ]
  },
  {
   "cell_type": "code",
   "execution_count": 11,
   "id": "495f0878-00db-484a-915a-8be9ccb54983",
   "metadata": {},
   "outputs": [
    {
     "name": "stdout",
     "output_type": "stream",
     "text": [
      "[3, 4, 5, 7, 10, 12, 32, 45, 67]\n"
     ]
    }
   ],
   "source": [
    "# Sorting with only one Loop\n",
    "mylist = [10,3,5,7,4,12,45,67,32]\n",
    "start = 0\n",
    "next = start+1\n",
    "while(start<len(mylist)-1):\n",
    "    if(next<len(mylist)):\n",
    "        if(mylist[start]>mylist[next]):\n",
    "            mylist[start],mylist[next] = mylist[next],mylist[start]\n",
    "        next += 1\n",
    "    else:\n",
    "        start+=1\n",
    "        next = start+1\n",
    "\n",
    "print(mylist)\n",
    "        \n",
    "            "
   ]
  }
 ],
 "metadata": {
  "kernelspec": {
   "display_name": "Python [conda env:base] *",
   "language": "python",
   "name": "conda-base-py"
  },
  "language_info": {
   "codemirror_mode": {
    "name": "ipython",
    "version": 3
   },
   "file_extension": ".py",
   "mimetype": "text/x-python",
   "name": "python",
   "nbconvert_exporter": "python",
   "pygments_lexer": "ipython3",
   "version": "3.12.7"
  }
 },
 "nbformat": 4,
 "nbformat_minor": 5
}
