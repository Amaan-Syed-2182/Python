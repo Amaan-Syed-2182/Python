{
 "cells": [
  {
   "cell_type": "markdown",
   "id": "6c5b00e4-81a7-448a-b007-2ce6b44cd67c",
   "metadata": {},
   "source": [
    "## Class Method"
   ]
  },
  {
   "cell_type": "code",
   "execution_count": 114,
   "id": "2a63c582-3bc2-49f2-a336-8d6a9a9b7cea",
   "metadata": {},
   "outputs": [
    {
     "name": "stdout",
     "output_type": "stream",
     "text": [
      "Instance method 23, Marketing\n"
     ]
    },
    {
     "data": {
      "text/plain": [
       "'HR'"
      ]
     },
     "execution_count": 114,
     "metadata": {},
     "output_type": "execute_result"
    }
   ],
   "source": [
    "class a :\n",
    "    dept = \"HR\" # Class Vairiab;e\n",
    "    \n",
    "    def __init__(self,age):\n",
    "        self.age = age  # Instance vairiable\n",
    "\n",
    "    def userinfo(self): # Any function with parameter self is a instance method\n",
    "        self.age = 23\n",
    "        self.dept = \"Marketing\" # Can change class vairiable for this particular Instance only\n",
    "        print(f\"Instance method {self.age}, {self.dept}\")\n",
    "\n",
    "a1 = a(22)\n",
    "a1.userinfo()\n",
    "a2 = a(23)\n",
    "a2.dept"
   ]
  },
  {
   "cell_type": "code",
   "execution_count": 134,
   "id": "2eab3a7a-4c7e-457f-99be-e83926a02a03",
   "metadata": {},
   "outputs": [
    {
     "name": "stdout",
     "output_type": "stream",
     "text": [
      "Instance method 23, Marketing\n",
      "100000 + 10000 = 110000\n"
     ]
    }
   ],
   "source": [
    "class a :\n",
    "    dept = \"HR\" # Class Vairiab;e\n",
    "    \n",
    "    def __init__(self,age):\n",
    "        self.age = age  # Instance vairiable\n",
    "\n",
    "    def userinfo(self): # Any function with parameter self is a instance method\n",
    "        self.age = 23\n",
    "        self.dept = \"Marketing\" # Can change class vairiable for this particular Instance only\n",
    "        print(f\"Instance method {self.age}, {self.dept}\")\n",
    "\n",
    "    @staticmethod        # Staticmethod decorator is used to make a method static\n",
    "    def add_data(salary):\n",
    "        print(f'{salary} + {int(salary*.1)} = {int(salary * 1.1)}')\n",
    "    def total\n",
    "        \n",
    "\n",
    "a1 = a(22)\n",
    "a1.userinfo()\n",
    "a2 = a(23)\n",
    "a2.dept\n",
    "a1.add_data(100000)"
   ]
  },
  {
   "cell_type": "code",
   "execution_count": 146,
   "id": "e6d457ca-84e0-4a08-889b-34c08f116ae3",
   "metadata": {},
   "outputs": [],
   "source": [
    "class dollar:\n",
    "    symbol = \"$\"\n",
    "    def __init__(self,amount):\n",
    "        self.amount = amount\n",
    "\n",
    "    @classmethod\n",
    "    def total_amount(cls):\n",
    "        print(f\"{cls} Symbol of this is {cls.symbol}\")\n",
    "\n",
    "class euro(dollar):\n",
    "    symbol = \"$$$\"\n",
    "    def __init__(self,x):\n",
    "        super().__init__(x)        "
   ]
  },
  {
   "cell_type": "code",
   "execution_count": 148,
   "id": "9d58a03b-988c-4600-9eb6-6b969ba1d9f7",
   "metadata": {},
   "outputs": [
    {
     "name": "stdout",
     "output_type": "stream",
     "text": [
      "<class '__main__.euro'> Symbol of this is $$$\n"
     ]
    }
   ],
   "source": [
    "a1 = euro(100)\n",
    "a1.total_amount()"
   ]
  },
  {
   "cell_type": "code",
   "execution_count": 150,
   "id": "373bda5b-f714-4983-95c2-ce3434bbe5aa",
   "metadata": {},
   "outputs": [
    {
     "name": "stdout",
     "output_type": "stream",
     "text": [
      "Amaan\n",
      "Ravi\n"
     ]
    }
   ],
   "source": [
    "class Student:\n",
    "    def __init__(self, name):\n",
    "        self._name = name  # private variable\n",
    "\n",
    "    @property\n",
    "    def name(self):\n",
    "        # Getter method\n",
    "        return self._name\n",
    "\n",
    "    @name.setter\n",
    "    def name(self, new_name):\n",
    "        # Setter method\n",
    "        if isinstance(new_name, str) and new_name.strip():\n",
    "            self._name = new_name\n",
    "        else:\n",
    "            raise ValueError(\"Name must be a non-empty string\")\n",
    "\n",
    "# Usage\n",
    "s = Student(\"Amaan\")\n",
    "print(s.name)        # Accessing private variable using @property\n",
    "\n",
    "s.name = \"Ravi\"      # Modifying private variable using @name.setter\n",
    "print(s.name)\n",
    "\n",
    "# s.name = \"\"  # This will raise a ValueError\n"
   ]
  },
  {
   "cell_type": "code",
   "execution_count": null,
   "id": "f9b766e2-187c-4792-af7f-e39be905bd05",
   "metadata": {},
   "outputs": [],
   "source": []
  }
 ],
 "metadata": {
  "kernelspec": {
   "display_name": "Python [conda env:base] *",
   "language": "python",
   "name": "conda-base-py"
  },
  "language_info": {
   "codemirror_mode": {
    "name": "ipython",
    "version": 3
   },
   "file_extension": ".py",
   "mimetype": "text/x-python",
   "name": "python",
   "nbconvert_exporter": "python",
   "pygments_lexer": "ipython3",
   "version": "3.12.7"
  }
 },
 "nbformat": 4,
 "nbformat_minor": 5
}
