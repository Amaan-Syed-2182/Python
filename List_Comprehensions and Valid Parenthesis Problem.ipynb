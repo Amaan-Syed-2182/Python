{
 "cells": [
  {
   "cell_type": "code",
   "execution_count": 2,
   "id": "7d8b6d37-f119-4aea-85c9-90282290d4fc",
   "metadata": {},
   "outputs": [
    {
     "data": {
      "text/plain": [
       "[(1, 5),\n",
       " (1, 6),\n",
       " (1, 7),\n",
       " (2, 5),\n",
       " (2, 6),\n",
       " (2, 7),\n",
       " (3, 5),\n",
       " (3, 6),\n",
       " (3, 7),\n",
       " (4, 5),\n",
       " (4, 6),\n",
       " (4, 7)]"
      ]
     },
     "execution_count": 2,
     "metadata": {},
     "output_type": "execute_result"
    }
   ],
   "source": [
    "# List Comprehension\n",
    "[(i,j) for i in range(1,5) for j in range(5,8)]"
   ]
  },
  {
   "cell_type": "code",
   "execution_count": 4,
   "id": "905afcfe-874a-4204-9913-9470c18ff1ba",
   "metadata": {},
   "outputs": [
    {
     "name": "stdout",
     "output_type": "stream",
     "text": [
      "1 11\n"
     ]
    }
   ],
   "source": [
    "# [-1,0,1,2,11,16] Find Two elements that sum to target value Using a Single value\n",
    "\n",
    "target = 12\n",
    "x = [-1,0,1,2,11,16]\n",
    "start = 0\n",
    "next = 1\n",
    "while(start<len(x)-1):\n",
    "    if(next<len(x)):\n",
    "        if(x[start] + x[next] == target):\n",
    "            print(x[start],x[next])\n",
    "        next += 1\n",
    "    else:\n",
    "        start += 1\n",
    "        next = start +1 \n"
   ]
  },
  {
   "cell_type": "code",
   "execution_count": 24,
   "id": "eabae2d7-6ac7-4df1-90a0-cda03037d175",
   "metadata": {},
   "outputs": [
    {
     "name": "stdin",
     "output_type": "stream",
     "text": [
      "Enter Parenthesis:  (())\n"
     ]
    },
    {
     "name": "stdout",
     "output_type": "stream",
     "text": [
      "Valid Parenthesis\n"
     ]
    }
   ],
   "source": [
    "p = input(\"Enter Parenthesis: \")\n",
    "l = []\n",
    "d = {\"}\":\"{\",\"]\":\"[\",\")\":\"(\"}\n",
    "valid = True\n",
    "for char in p:\n",
    "    if char in \"({[\":\n",
    "        l.append(char)\n",
    "    elif(char in \")}]\"):\n",
    "        if l and l[-1] == d[char]:\n",
    "            l.pop()\n",
    "        else:\n",
    "            valid = False\n",
    "            break\n",
    "    else:\n",
    "        valid = False\n",
    "        break\n",
    "if(valid and len(l) == 0):\n",
    "    print(\"Valid Parenthesis\")\n",
    "else:\n",
    "    print(\"Invalid Parenthesis\")"
   ]
  },
  {
   "cell_type": "code",
   "execution_count": null,
   "id": "da766daf-0826-41d4-9e86-38f4d71273f5",
   "metadata": {},
   "outputs": [],
   "source": []
  }
 ],
 "metadata": {
  "kernelspec": {
   "display_name": "Python [conda env:base] *",
   "language": "python",
   "name": "conda-base-py"
  },
  "language_info": {
   "codemirror_mode": {
    "name": "ipython",
    "version": 3
   },
   "file_extension": ".py",
   "mimetype": "text/x-python",
   "name": "python",
   "nbconvert_exporter": "python",
   "pygments_lexer": "ipython3",
   "version": "3.12.7"
  }
 },
 "nbformat": 4,
 "nbformat_minor": 5
}
