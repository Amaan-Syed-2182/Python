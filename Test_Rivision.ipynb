{
 "cells": [
  {
   "cell_type": "markdown",
   "id": "dff68ef4-2749-46b6-925e-2e6ea0e9f18c",
   "metadata": {},
   "source": [
    "## Revision for Test:-"
   ]
  },
  {
   "cell_type": "markdown",
   "id": "dd1a03f8-ee38-4ebc-a089-3a0af459f7f9",
   "metadata": {},
   "source": [
    "### 1. If else"
   ]
  },
  {
   "cell_type": "code",
   "execution_count": 12,
   "id": "803c9919-ebb7-4d82-b8fc-475d1098c5ba",
   "metadata": {},
   "outputs": [
    {
     "name": "stdin",
     "output_type": "stream",
     "text": [
      "Enter first side:  23\n",
      "Enter second side:  45\n",
      "Enter third side:  677\n"
     ]
    },
    {
     "name": "stdout",
     "output_type": "stream",
     "text": [
      "Sides are Invalid\n"
     ]
    }
   ],
   "source": [
    "# Check sides of a Triangle\n",
    "\n",
    "side1 = int(input(\"Enter first side: \"))\n",
    "\n",
    "side2 = int(input(\"Enter second side: \"))\n",
    "\n",
    "side3 = int(input(\"Enter third side: \"))\n",
    "\n",
    "if(side1+side2 > side3 and side2+side3 > side1 and side3+side1 > side2):\n",
    "    print(\"Sides are valid...\")\n",
    "else:\n",
    "    print(\"Sides are Invalid\")"
   ]
  },
  {
   "cell_type": "code",
   "execution_count": 22,
   "id": "e478e4dd-0e72-4c11-9336-14f420274dea",
   "metadata": {},
   "outputs": [
    {
     "name": "stdin",
     "output_type": "stream",
     "text": [
      "Enter the Price:  550\n"
     ]
    },
    {
     "name": "stdout",
     "output_type": "stream",
     "text": [
      "Final Price is: 522.5\n"
     ]
    }
   ],
   "source": [
    "# Discount_price\n",
    "price = int(input(\"Enter the Price: \"))\n",
    "\n",
    "if(price > 1000):\n",
    "    print(f\"Final price is: {price-(price*10/100)}\")\n",
    "elif(500 <= price <= 1000):\n",
    "    print(f\"Final Price is: {price-(price*5/100)}\")\n",
    "else:\n",
    "    print(f\"Final price is: {price}\")"
   ]
  },
  {
   "cell_type": "markdown",
   "id": "c0ef68af-6df3-4c8a-b03c-7eedba516286",
   "metadata": {},
   "source": [
    "### 2. for and while loop"
   ]
  },
  {
   "cell_type": "code",
   "execution_count": 36,
   "id": "758d9239-3f6a-4e8e-9f38-64bb6280e298",
   "metadata": {},
   "outputs": [
    {
     "name": "stdin",
     "output_type": "stream",
     "text": [
      "Enter a number:  123\n"
     ]
    },
    {
     "name": "stdout",
     "output_type": "stream",
     "text": [
      "Reverse is: 321\n"
     ]
    }
   ],
   "source": [
    "# Reverse a number\n",
    "num = int(input(\"Enter a number: \"))\n",
    "new_num = 0\n",
    "\n",
    "while(num>0):\n",
    "    digit = num%10\n",
    "    new_num = new_num * 10 + digit\n",
    "    num //= 10\n",
    "\n",
    "print(f\"Reverse is: {new_num}\")"
   ]
  },
  {
   "cell_type": "code",
   "execution_count": 42,
   "id": "e5c5c91e-a554-457a-9584-e92ab97cd69e",
   "metadata": {},
   "outputs": [
    {
     "name": "stdin",
     "output_type": "stream",
     "text": [
      "Enter base:  5\n",
      "Enter Power:  3\n"
     ]
    },
    {
     "name": "stdout",
     "output_type": "stream",
     "text": [
      "Result is:  125\n"
     ]
    }
   ],
   "source": [
    "# Power of a number\n",
    "base = int(input(\"Enter base: \"))\n",
    "power = int(input(\"Enter Power: \"))\n",
    "result = 1\n",
    "for i in range(power,0,-1):\n",
    "    result *= base\n",
    "\n",
    "print(f\"Result is:  {result}\")"
   ]
  },
  {
   "cell_type": "code",
   "execution_count": 44,
   "id": "4a3e2a3d-9d11-4534-9e75-06901fb0ead1",
   "metadata": {},
   "outputs": [
    {
     "name": "stdin",
     "output_type": "stream",
     "text": [
      "Enter the Number:  34\n"
     ]
    },
    {
     "name": "stdout",
     "output_type": "stream",
     "text": [
      "All Factors of 34 are: \n",
      "1 2 17 34 "
     ]
    }
   ],
   "source": [
    "num = int(input(\"Enter the Number: \"))\n",
    "print(f\"All Factors of {num} are: \")\n",
    "for i in range(1,num+1):\n",
    "    if(num%i==0):\n",
    "        print(i,end=\" \")"
   ]
  },
  {
   "cell_type": "code",
   "execution_count": 46,
   "id": "aa18d9b5-0cf9-49bb-81b2-92054d0f9f49",
   "metadata": {},
   "outputs": [
    {
     "name": "stdin",
     "output_type": "stream",
     "text": [
      "Enter the Number:  5\n"
     ]
    },
    {
     "name": "stdout",
     "output_type": "stream",
     "text": [
      "120\n"
     ]
    }
   ],
   "source": [
    "num = int(input(\"Enter the Number: \"))\n",
    "fact = 1\n",
    "for i in range(1,num+1):\n",
    "    fact *= i\n",
    "\n",
    "print(fact)"
   ]
  },
  {
   "cell_type": "code",
   "execution_count": 50,
   "id": "f011a08f-788c-4634-ace0-643520271740",
   "metadata": {},
   "outputs": [
    {
     "name": "stdin",
     "output_type": "stream",
     "text": [
      "Enter first number:  5\n",
      "Enter second number:  8\n"
     ]
    },
    {
     "name": "stdout",
     "output_type": "stream",
     "text": [
      "LCM is:  40\n"
     ]
    }
   ],
   "source": [
    "num1 = int(input(\"Enter first number: \"))\n",
    "num2 = int(input(\"Enter second number: \"))\n",
    "lcm = 0\n",
    "greater = 0\n",
    "\n",
    "if(num1>num2):\n",
    "    greater = num1\n",
    "else:\n",
    "    greater = num2\n",
    "\n",
    "for i in range(1,(num1*num2)+1):\n",
    "    if(i%num1 == 0 and i%num2 == 0):\n",
    "        lcm = i\n",
    "        break\n",
    "\n",
    "print(\"LCM is: \",lcm)"
   ]
  },
  {
   "cell_type": "code",
   "execution_count": 64,
   "id": "eab06259-de81-4ac2-a953-9684458bed38",
   "metadata": {},
   "outputs": [
    {
     "name": "stdin",
     "output_type": "stream",
     "text": [
      "Enter a number:  71\n"
     ]
    },
    {
     "name": "stdout",
     "output_type": "stream",
     "text": [
      "Prime\n"
     ]
    }
   ],
   "source": [
    "# Prime number\n",
    "num = int(input(\"Enter a number: \"))\n",
    "count = 0\n",
    "for i in range(2,num//2):\n",
    "    if(num%i==0):\n",
    "        count+=1\n",
    "        break\n",
    "\n",
    "if(count==0):\n",
    "    print(\"Prime\")\n",
    "else:\n",
    "    print(\"Not Prime\")"
   ]
  },
  {
   "cell_type": "code",
   "execution_count": 68,
   "id": "a70503e7-dd08-4a57-ba3b-07b7006f4d92",
   "metadata": {},
   "outputs": [
    {
     "name": "stdin",
     "output_type": "stream",
     "text": [
      "Enter the Number:  101\n"
     ]
    },
    {
     "name": "stdout",
     "output_type": "stream",
     "text": [
      "Prime numbers are:  1 2 3 5 7 11 13 17 19 23 29 31 37 41 43 47 53 59 61 67 71 73 79 83 89 97 101 "
     ]
    }
   ],
   "source": [
    "# Series of Prime\n",
    "\n",
    "num = int(input(\"Enter the Number: \"))\n",
    "print(\"Prime numbers are: \",end=\" \")\n",
    "for i in range(1,num+1):\n",
    "    count = 0\n",
    "    for j in range(2,i):\n",
    "        if(i%j==0):\n",
    "            count += 1\n",
    "            break\n",
    "    if(count == 0):\n",
    "        print(i,end=\" \")"
   ]
  },
  {
   "cell_type": "code",
   "execution_count": 72,
   "id": "7a29de00-55de-492c-9dac-8c652c5f2956",
   "metadata": {},
   "outputs": [
    {
     "name": "stdout",
     "output_type": "stream",
     "text": [
      "Palindrome\n"
     ]
    }
   ],
   "source": [
    "# Palindrome\n",
    "\n",
    "data = \"saras\"\n",
    "out = 0\n",
    "end = len(data)-1\n",
    "for i in range(len(data)-1):\n",
    "    if(data[i] != data[end]):\n",
    "        out += 1\n",
    "        break\n",
    "    end -= 1\n",
    "\n",
    "if(out==0):\n",
    "    print(\"Palindrome\")\n",
    "else:\n",
    "    print(\"Not Pakindrome\")"
   ]
  },
  {
   "cell_type": "code",
   "execution_count": 74,
   "id": "d1f86204-048f-4921-b32b-d22bd7cc8781",
   "metadata": {},
   "outputs": [
    {
     "name": "stdin",
     "output_type": "stream",
     "text": [
      "Enter a number:  66\n"
     ]
    },
    {
     "name": "stdout",
     "output_type": "stream",
     "text": [
      "Prime Factors are:  1 2 3 11 "
     ]
    }
   ],
   "source": [
    "# All Prime factors\n",
    "num = int(input(\"Enter a number: \"))\n",
    "print(f\"Prime Factors are: \",end=\" \")\n",
    "for i in range(1,num+1):\n",
    "    count = 0\n",
    "    if(num%i==0):\n",
    "        for j in range(2,i):\n",
    "            if(i%j==0):\n",
    "                count+=1\n",
    "                break\n",
    "        if(count==0):\n",
    "            print(i,end=\" \")\n",
    "            \n",
    "    "
   ]
  },
  {
   "cell_type": "code",
   "execution_count": 78,
   "id": "31295785-b289-4e52-9865-fe51ab940610",
   "metadata": {},
   "outputs": [
    {
     "name": "stdin",
     "output_type": "stream",
     "text": [
      "Enter the Number:  371\n"
     ]
    },
    {
     "name": "stdout",
     "output_type": "stream",
     "text": [
      "Armstrong\n"
     ]
    }
   ],
   "source": [
    "# Armstrong Number\n",
    "num = int(input(\"Enter the Number: \"))\n",
    "original = num\n",
    "sum = 0\n",
    "length = len(str(num))\n",
    "while(num > 0):\n",
    "    digit = num%10\n",
    "    sum += digit ** length\n",
    "    num //= 10\n",
    "\n",
    "if(sum == original):\n",
    "    print(\"Armstrong\")\n",
    "else:\n",
    "    print(\"Not Armstrong\")"
   ]
  },
  {
   "cell_type": "code",
   "execution_count": 82,
   "id": "9586c219-2e44-4f78-8fa6-4312ae66c3f4",
   "metadata": {},
   "outputs": [
    {
     "name": "stdin",
     "output_type": "stream",
     "text": [
      "Enter the Number:  132\n"
     ]
    },
    {
     "name": "stdout",
     "output_type": "stream",
     "text": [
      "Not Strong\n"
     ]
    }
   ],
   "source": [
    "# Strong number\n",
    "num = int(input(\"Enter the Number: \"))\n",
    "original = num\n",
    "sum = 0\n",
    "\n",
    "while(num > 0):\n",
    "    digit = num % 10\n",
    "    fact = 1\n",
    "    for i in range(1,digit+1):\n",
    "        fact *= i\n",
    "    sum += fact\n",
    "    num //= 10\n",
    "\n",
    "if(sum==original):\n",
    "    print(\"Strong\")\n",
    "else:\n",
    "    print(\"Not Strong\")\n",
    "    "
   ]
  },
  {
   "cell_type": "code",
   "execution_count": 92,
   "id": "dbab98c6-b1db-4b09-b34e-83ffdbe94443",
   "metadata": {},
   "outputs": [
    {
     "name": "stdin",
     "output_type": "stream",
     "text": [
      "Enter the Number:  28\n"
     ]
    },
    {
     "name": "stdout",
     "output_type": "stream",
     "text": [
      "Perfect\n"
     ]
    }
   ],
   "source": [
    "# Perfect number\n",
    "num = int(input(\"Enter the Number: \"))\n",
    "sum = 0\n",
    "\n",
    "for i in range(1,num):\n",
    "    if(num%i==0):\n",
    "        sum+=i\n",
    "\n",
    "if(sum == num):\n",
    "    print(\"Perfect\")\n",
    "else:\n",
    "    print(\"Not Perfect\")"
   ]
  },
  {
   "cell_type": "code",
   "execution_count": 94,
   "id": "12e98b42-5508-4b3a-b5a1-a4809c56fd1d",
   "metadata": {},
   "outputs": [
    {
     "name": "stdin",
     "output_type": "stream",
     "text": [
      "Enter number:  10\n"
     ]
    },
    {
     "name": "stdout",
     "output_type": "stream",
     "text": [
      "Fabonacci series is:  0 1 1 2 3 5 8 13 21 34 "
     ]
    }
   ],
   "source": [
    "# Fabonacci series\n",
    "\n",
    "num = int(input(\"Enter number: \"))\n",
    "a = 0\n",
    "b = 1\n",
    "print(\"Fabonacci series is: \",end=\" \")\n",
    "for i in range(1,num+1):\n",
    "    print(a,end=\" \")\n",
    "    temp = a\n",
    "    a = b\n",
    "    b = temp+a"
   ]
  },
  {
   "cell_type": "markdown",
   "id": "0a65ce25-e529-4fb0-8574-5a7908e34f14",
   "metadata": {},
   "source": [
    "### Patterns"
   ]
  },
  {
   "cell_type": "code",
   "execution_count": 97,
   "id": "c74e6172-18cb-48b9-b93a-4bd719594018",
   "metadata": {},
   "outputs": [
    {
     "name": "stdout",
     "output_type": "stream",
     "text": [
      "* * * * \n",
      "* * * * \n",
      "* * * * \n",
      "* * * * \n"
     ]
    }
   ],
   "source": [
    "# 1. star square\n",
    "for i in range(1,5):\n",
    "    for j in range(1,5):\n",
    "        print(\"*\",end=\" \")\n",
    "    print()"
   ]
  },
  {
   "cell_type": "code",
   "execution_count": 101,
   "id": "4761e1b8-4271-4b9e-940d-3a84ceb6333f",
   "metadata": {},
   "outputs": [
    {
     "name": "stdout",
     "output_type": "stream",
     "text": [
      "* * * * \n",
      "  * * * * \n",
      "    * * * * \n",
      "      * * * * \n"
     ]
    }
   ],
   "source": [
    "# 2.ladder star square\n",
    "for i in range(1,5):\n",
    "    for j in range(1,i):\n",
    "        print(\" \",end=\" \")\n",
    "    for k in range(1,5):\n",
    "        print(\"*\",end=\" \")\n",
    "    print()"
   ]
  },
  {
   "cell_type": "code",
   "execution_count": 103,
   "id": "a8f55f63-3902-481c-92a9-0ca0bc75f8b7",
   "metadata": {},
   "outputs": [
    {
     "name": "stdout",
     "output_type": "stream",
     "text": [
      "* * * * \n",
      "*     * \n",
      "*     * \n",
      "* * * * \n"
     ]
    }
   ],
   "source": [
    "# 3. Hollow star square\n",
    "for i in range(1,5):\n",
    "    for j in range(1,5):\n",
    "        if(i==1 or j==1 or i==4 or j == 4):\n",
    "            print(\"*\",end=\" \")\n",
    "        else:\n",
    "            print(\" \",end=\" \")\n",
    "    print()"
   ]
  },
  {
   "cell_type": "code",
   "execution_count": 105,
   "id": "169b905d-bd16-4ab6-b716-b588e47432e0",
   "metadata": {},
   "outputs": [
    {
     "name": "stdout",
     "output_type": "stream",
     "text": [
      "A \n",
      "A B \n",
      "A B C \n",
      "A B C D \n",
      "A B C D E \n"
     ]
    }
   ],
   "source": [
    "for i in range(1,6):\n",
    "    x = 65\n",
    "    for j in range(1,i+1):\n",
    "        print(chr(x),end=\" \")\n",
    "        x+=1\n",
    "    print()"
   ]
  },
  {
   "cell_type": "code",
   "execution_count": 107,
   "id": "f3f1cbb3-30dd-4400-8069-b1adab37049b",
   "metadata": {},
   "outputs": [
    {
     "name": "stdout",
     "output_type": "stream",
     "text": [
      "A \n",
      "B A \n",
      "C B A \n",
      "D C B A \n",
      "E D C B A \n"
     ]
    }
   ],
   "source": [
    "for i in range(1,6):\n",
    "    x = 64+i\n",
    "    for j in range(1,i+1):\n",
    "        print(chr(x),end=\" \")\n",
    "        x -= 1\n",
    "    print()\n",
    "        "
   ]
  },
  {
   "cell_type": "code",
   "execution_count": 109,
   "id": "83e1d820-b738-48bc-9f7f-cba2d51603ad",
   "metadata": {},
   "outputs": [
    {
     "name": "stdout",
     "output_type": "stream",
     "text": [
      "A \n",
      "B B \n",
      "C C C \n",
      "D D D D \n",
      "E E E E E \n"
     ]
    }
   ],
   "source": [
    "x = 65\n",
    "for i in range(1,6):\n",
    "    for j in range(1,i+1):\n",
    "        print(chr(x),end =\" \")\n",
    "    print()\n",
    "    x+=1"
   ]
  },
  {
   "cell_type": "code",
   "execution_count": 113,
   "id": "cc94d502-bca8-4b2b-9a30-a2c8d42f053a",
   "metadata": {},
   "outputs": [
    {
     "name": "stdout",
     "output_type": "stream",
     "text": [
      "        * \n",
      "      * * \n",
      "    * * * \n",
      "  * * * * \n",
      "* * * * * \n"
     ]
    }
   ],
   "source": [
    "for i in range(1,6):\n",
    "    \n",
    "    for j in range(5,i,-1):\n",
    "        print(\" \",end=\" \")\n",
    "    \n",
    "    for k in range(1,i+1):\n",
    "        print(\"*\",end=\" \")\n",
    "    print()"
   ]
  },
  {
   "cell_type": "code",
   "execution_count": 123,
   "id": "5b0475a5-e7c5-44da-8d11-98c3bf6f9713",
   "metadata": {},
   "outputs": [
    {
     "name": "stdout",
     "output_type": "stream",
     "text": [
      "        1 \n",
      "      1 2 \n",
      "    1 2 3 \n",
      "  1 2 3 4 \n",
      "1 2 3 4 5 \n"
     ]
    }
   ],
   "source": [
    "for i in range(1,6):\n",
    "    x = 1\n",
    "    for j in range(5,i,-1):\n",
    "        print(\" \",end=\" \")\n",
    "\n",
    "    for k in range(1,i+1):\n",
    "        print(x,end=\" \")\n",
    "        x+=1\n",
    "    print()\n",
    "    "
   ]
  },
  {
   "cell_type": "code",
   "execution_count": 127,
   "id": "399b71fe-e064-4a3b-99ce-67b5dfe54f27",
   "metadata": {},
   "outputs": [
    {
     "name": "stdout",
     "output_type": "stream",
     "text": [
      "1 2 3 4 5 \n",
      "  1 2 3 4 \n",
      "    1 2 3 \n",
      "      1 2 \n",
      "        1 \n"
     ]
    }
   ],
   "source": [
    "for i in range(5,0,-1):\n",
    "    for j in range(5,i,-1):\n",
    "        print(\" \",end=\" \")\n",
    "    x=1\n",
    "    for i in range(1,i+1):\n",
    "        print(x,end=\" \")\n",
    "        x+=1\n",
    "    print()"
   ]
  },
  {
   "cell_type": "code",
   "execution_count": 165,
   "id": "49470c4b-7ec4-42a9-9234-54f4ba3adf18",
   "metadata": {},
   "outputs": [
    {
     "name": "stdout",
     "output_type": "stream",
     "text": [
      "        * \n",
      "      * * \n",
      "    *   * \n",
      "  *     * \n",
      "* * * * * \n"
     ]
    }
   ],
   "source": [
    "for i in range(1,6):\n",
    "    for j in range(5,i,-1):\n",
    "        print(\" \",end=\" \")\n",
    "    for k in range(1,i+1):\n",
    "        if(k==i or i==5 or k==1):\n",
    "            print(\"*\",end=\" \")\n",
    "        else:\n",
    "            print(\" \",end=\" \")\n",
    "    print()"
   ]
  },
  {
   "cell_type": "code",
   "execution_count": 169,
   "id": "7e979a51-83db-4e65-a4c8-1667705651ff",
   "metadata": {},
   "outputs": [
    {
     "name": "stdout",
     "output_type": "stream",
     "text": [
      "    * \n",
      "   * * \n",
      "  * * * \n",
      " * * * * \n",
      "* * * * * \n"
     ]
    }
   ],
   "source": [
    "for i in range(1,6):\n",
    "    for j in range(5,i,-1):\n",
    "        print(\" \",end=\"\")\n",
    "    for k in range(1,i+1):\n",
    "        print(\"* \",end=\"\")\n",
    "    print()"
   ]
  },
  {
   "cell_type": "code",
   "execution_count": 177,
   "id": "290e7333-61e9-4ca6-ac9e-53b30c4cdea4",
   "metadata": {},
   "outputs": [
    {
     "name": "stdout",
     "output_type": "stream",
     "text": [
      "    *\n",
      "   ***\n",
      "  *****\n",
      " *******\n",
      "*********\n"
     ]
    }
   ],
   "source": [
    "for i in range(1,6):\n",
    "    for j in range(5,i,-1):\n",
    "        print(\" \",end=\"\")\n",
    "    for k in range(1,i*2):\n",
    "        print(\"*\",end=\"\")\n",
    "    print()"
   ]
  },
  {
   "cell_type": "code",
   "execution_count": null,
   "id": "98969ce1-08ec-4e06-bdbd-04a99c3b7a29",
   "metadata": {},
   "outputs": [],
   "source": []
  }
 ],
 "metadata": {
  "kernelspec": {
   "display_name": "Python [conda env:base] *",
   "language": "python",
   "name": "conda-base-py"
  },
  "language_info": {
   "codemirror_mode": {
    "name": "ipython",
    "version": 3
   },
   "file_extension": ".py",
   "mimetype": "text/x-python",
   "name": "python",
   "nbconvert_exporter": "python",
   "pygments_lexer": "ipython3",
   "version": "3.12.7"
  }
 },
 "nbformat": 4,
 "nbformat_minor": 5
}
