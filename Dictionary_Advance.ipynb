{
 "cells": [
  {
   "cell_type": "code",
   "execution_count": 8,
   "id": "4685c09d-2ddd-4b51-87c9-e4cadb2eb961",
   "metadata": {},
   "outputs": [
    {
     "name": "stdout",
     "output_type": "stream",
     "text": [
      "{10: 2, 20: 1, 30: 1, 40: 2, 50: 1}\n"
     ]
    }
   ],
   "source": [
    "x = [10,20,10,30,40,50,40]\n",
    "d = {}\n",
    "for i in x:\n",
    "    if(i not in d):\n",
    "        d[i] = 1\n",
    "    else:\n",
    "        d[i]+=1\n",
    "print(d)\n",
    "    \n"
   ]
  },
  {
   "cell_type": "code",
   "execution_count": 40,
   "id": "34f7a1ba-d9ad-434a-a87e-b7eb8f3f61bc",
   "metadata": {},
   "outputs": [
    {
     "name": "stdout",
     "output_type": "stream",
     "text": [
      "{'a': 1, 'ab': 1, 'abc': 1}\n"
     ]
    }
   ],
   "source": [
    "s = 'abc'\n",
    "d = {}\n",
    "for i in range(0,4):\n",
    "    \n",
    "    data =\"\"\n",
    "    \n",
    "    for j in range(0,i):\n",
    "        \n",
    "        data += s[j]\n",
    "    if(data == ''):\n",
    "        continue\n",
    "        \n",
    "    if(data not in d):\n",
    "        d[data] = 1\n",
    "    \n",
    "print(d)"
   ]
  },
  {
   "cell_type": "code",
   "execution_count": 75,
   "id": "b9af6ae9-ed4d-48f9-a71c-754140c03753",
   "metadata": {},
   "outputs": [
    {
     "name": "stdout",
     "output_type": "stream",
     "text": [
      "{'b': 1, 'bc': 1, 'c': 1}\n"
     ]
    }
   ],
   "source": [
    "x1 = \"abc\"\n",
    "d1 = {}\n",
    "for i in range(1,4):\n",
    "    data = \"\"\n",
    "    for j in range(1,i):\n",
    "        data+=s[j]\n",
    "    if(data == ''):\n",
    "        continue\n",
    "    if(data not in d):\n",
    "        d1[data] = 1\n",
    "    if(i==3):\n",
    "        data1=data[-1]\n",
    "        d1[data1]=1\n",
    "print(d1)"
   ]
  },
  {
   "cell_type": "code",
   "execution_count": 101,
   "id": "f3b3c177-4ece-4359-89f9-bca32db48d44",
   "metadata": {},
   "outputs": [
    {
     "name": "stdin",
     "output_type": "stream",
     "text": [
      "Enter the Alphabet:  z\n"
     ]
    },
    {
     "name": "stdout",
     "output_type": "stream",
     "text": [
      "A\n"
     ]
    }
   ],
   "source": [
    "s = input(\"Enter the Alphabet: \")\n",
    "s = s.upper()\n",
    "d2 = {}\n",
    "j=90\n",
    "for i in range(65,91):\n",
    "    d2[chr(i)]=chr(j)\n",
    "    j-=1\n",
    "print(d2[s])\n",
    "\n",
    "    "
   ]
  },
  {
   "cell_type": "code",
   "execution_count": 112,
   "id": "01c30221-301c-417e-84f2-a83cc8cf7403",
   "metadata": {},
   "outputs": [
    {
     "name": "stdout",
     "output_type": "stream",
     "text": [
      "Element: 2 Index: 2\n",
      "Element: 7 Index: 4\n"
     ]
    }
   ],
   "source": [
    "l1 = [0,1,2,4,7,11,14,15]\n",
    "target = 9\n",
    "d3 = {}\n",
    "for index,data in enumerate(l1):\n",
    "    d3[data] = index\n",
    "\n",
    "for i in l1:\n",
    "    if(target - i in d3):\n",
    "        print('Element:',i,'Index:',d3[i])\n",
    "    "
   ]
  },
  {
   "cell_type": "code",
   "execution_count": 146,
   "id": "7a5ce3b2-29a3-4302-a6c2-705ee5bc8507",
   "metadata": {},
   "outputs": [
    {
     "name": "stdin",
     "output_type": "stream",
     "text": [
      "Enter a Number (1-3999):  112\n"
     ]
    },
    {
     "name": "stdout",
     "output_type": "stream",
     "text": [
      "Roman numeral: CXII\n"
     ]
    }
   ],
   "source": [
    "n = int(input(\"Enter a Number (1-3999): \"))\n",
    "\n",
    "roman_map = {\n",
    "    1000: \"M\", 900: \"CM\",\n",
    "    500: \"D\", 400: \"CD\",\n",
    "    100: \"C\", 90: \"XC\",\n",
    "    50: \"L\", 40: \"XL\",\n",
    "    10: \"X\", 9: \"IX\",\n",
    "    5: \"V\", 4: \"IV\",\n",
    "    1: \"I\"\n",
    "}\n",
    "\n",
    "roman = \"\"\n",
    "\n",
    "for value in sorted(roman_map.keys(), reverse=True):\n",
    "    while n >= value:\n",
    "        roman += roman_map[value]\n",
    "        n -= value\n",
    "\n",
    "print(\"Roman numeral:\", roman)\n"
   ]
  },
  {
   "cell_type": "code",
   "execution_count": null,
   "id": "d49983d6-8ccf-4e59-84da-ea562f3283aa",
   "metadata": {},
   "outputs": [],
   "source": []
  }
 ],
 "metadata": {
  "kernelspec": {
   "display_name": "Python [conda env:base] *",
   "language": "python",
   "name": "conda-base-py"
  },
  "language_info": {
   "codemirror_mode": {
    "name": "ipython",
    "version": 3
   },
   "file_extension": ".py",
   "mimetype": "text/x-python",
   "name": "python",
   "nbconvert_exporter": "python",
   "pygments_lexer": "ipython3",
   "version": "3.12.7"
  }
 },
 "nbformat": 4,
 "nbformat_minor": 5
}
