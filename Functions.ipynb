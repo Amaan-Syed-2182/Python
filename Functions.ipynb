{
 "cells": [
  {
   "cell_type": "code",
   "execution_count": 1,
   "id": "3cfd9557-8de5-4db2-bf3c-f1c20f7cd98c",
   "metadata": {},
   "outputs": [
    {
     "name": "stdout",
     "output_type": "stream",
     "text": [
      "Total is: 14\n"
     ]
    }
   ],
   "source": [
    "def my_squ():\n",
    "    i=1\n",
    "    n=3\n",
    "    sum = 0\n",
    "    while(i<=n):\n",
    "        sum += i**2\n",
    "        i+=1\n",
    "    print(f\"Total is: {sum}\")\n",
    "\n",
    "my_squ()"
   ]
  },
  {
   "cell_type": "code",
   "execution_count": 5,
   "id": "8600145a-91c8-4cee-b36c-bfd49d652eb2",
   "metadata": {},
   "outputs": [
    {
     "name": "stdout",
     "output_type": "stream",
     "text": [
      "10\n"
     ]
    }
   ],
   "source": [
    "n=1234\n",
    "sum=0\n",
    "while(n>0):\n",
    "    digit = n%10\n",
    "    sum += digit\n",
    "    n=n//10\n",
    "print(sum)"
   ]
  },
  {
   "cell_type": "code",
   "execution_count": 7,
   "id": "7ad3a9ee-05b2-4699-bc35-b10380f6626f",
   "metadata": {},
   "outputs": [
    {
     "name": "stdout",
     "output_type": "stream",
     "text": [
      "Total is: 10\n"
     ]
    }
   ],
   "source": [
    "def my_digit_add():\n",
    "    n = 1234\n",
    "    sum = 0\n",
    "    while(n>0):\n",
    "        digit = n%10\n",
    "        sum += digit\n",
    "        n//=10\n",
    "    print(f\"Total is: {sum}\")\n",
    "\n",
    "my_digit_add()"
   ]
  },
  {
   "cell_type": "code",
   "execution_count": 9,
   "id": "d66f395a-0d60-4bfd-98ef-64aff33ec782",
   "metadata": {},
   "outputs": [
    {
     "name": "stdin",
     "output_type": "stream",
     "text": [
      "Enter a Number:  23\n"
     ]
    },
    {
     "name": "stdout",
     "output_type": "stream",
     "text": [
      "Odd\n"
     ]
    }
   ],
   "source": [
    "def odd_or_even():\n",
    "    n = int(input(\"Enter a Number: \"))\n",
    "    if(n%2==0):\n",
    "        print(\"Even\")\n",
    "    else:\n",
    "        print(\"Odd\")\n",
    "\n",
    "odd_or_even()"
   ]
  },
  {
   "cell_type": "code",
   "execution_count": 13,
   "id": "b7a72ec7-2cef-4d8e-bcfa-6f82ba32b51d",
   "metadata": {},
   "outputs": [
    {
     "name": "stdin",
     "output_type": "stream",
     "text": [
      "Enter the Number:  43\n"
     ]
    },
    {
     "name": "stdout",
     "output_type": "stream",
     "text": [
      "Odd\n"
     ]
    }
   ],
   "source": [
    "def odd_or_even(n):\n",
    "    if(n%2==0):\n",
    "        print(\"Even\")\n",
    "    else:\n",
    "        print(\"Odd\")\n",
    "n = int(input(\"Enter the Number: \"))\n",
    "odd_or_even(n)"
   ]
  },
  {
   "cell_type": "code",
   "execution_count": null,
   "id": "7f91b47e-8313-4a80-af6d-0dea9416245c",
   "metadata": {},
   "outputs": [],
   "source": []
  }
 ],
 "metadata": {
  "kernelspec": {
   "display_name": "Python [conda env:base] *",
   "language": "python",
   "name": "conda-base-py"
  },
  "language_info": {
   "codemirror_mode": {
    "name": "ipython",
    "version": 3
   },
   "file_extension": ".py",
   "mimetype": "text/x-python",
   "name": "python",
   "nbconvert_exporter": "python",
   "pygments_lexer": "ipython3",
   "version": "3.12.7"
  }
 },
 "nbformat": 4,
 "nbformat_minor": 5
}
