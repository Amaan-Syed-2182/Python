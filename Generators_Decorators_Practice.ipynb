{
 "cells": [
  {
   "cell_type": "code",
   "execution_count": 15,
   "id": "96ad26bb-98c0-43e0-9b16-2b594f0883c0",
   "metadata": {},
   "outputs": [
    {
     "name": "stdout",
     "output_type": "stream",
     "text": [
      "Hello!!\n",
      "My name is Amaan...\n",
      "Goodbye!!\n"
     ]
    }
   ],
   "source": [
    "# Decorator For Function without arguments\n",
    "def greet_decorator(func):\n",
    "    def wrapper():\n",
    "        print(\"Hello!!\")\n",
    "        func()\n",
    "        print(\"Goodbye!!\")\n",
    "    return wrapper\n",
    "\n",
    "@greet_decorator\n",
    "def greet():\n",
    "    print(f\"My name is Amaan...\")\n",
    "\n",
    "greet()"
   ]
  },
  {
   "cell_type": "code",
   "execution_count": 31,
   "id": "bbf23d41-eb41-407c-9072-93401f4c8f1c",
   "metadata": {},
   "outputs": [
    {
     "name": "stdout",
     "output_type": "stream",
     "text": [
      "add Function called with Arguments (10, 5) {}\n",
      "15\n"
     ]
    }
   ],
   "source": [
    "# Decorators for Function with Arguments\n",
    "def add_decorator(func):\n",
    "    def wrapper(*args,**kwargs):\n",
    "        print(f\"{func.__name__} Function called with Arguments {args} {kwargs}\")\n",
    "        return func(*args,**kwargs)\n",
    "        print(\"Goodbye\")\n",
    "    return wrapper\n",
    "\n",
    "@add_decorator\n",
    "def add(a,b):\n",
    "    return a+b\n",
    "\n",
    "print(add(10,5))"
   ]
  },
  {
   "cell_type": "code",
   "execution_count": 47,
   "id": "c51f9424-c5e4-44c4-b34a-413392e81bd0",
   "metadata": {},
   "outputs": [
    {
     "name": "stdout",
     "output_type": "stream",
     "text": [
      "My name is Amaan, My age is 23 and I am from Udaipur.\n",
      "My name is Amaan, My age is 23 and I am from Udaipur.\n",
      "My name is Amaan, My age is 23 and I am from Udaipur.\n"
     ]
    }
   ],
   "source": [
    "def repeat(n):\n",
    "    def Intro_decorator(func):\n",
    "        def wrapper(*args, **kwargs):\n",
    "            for _ in range(n):\n",
    "                func(*args,**kwargs)\n",
    "        return wrapper\n",
    "    return Intro_decorator\n",
    "\n",
    "@repeat(3)\n",
    "def intro(name,age,city):\n",
    "    print(f\"My name is {name}, My age is {age} and I am from {city}.\")\n",
    "\n",
    "intro(\"Amaan\",23,\"Udaipur\")"
   ]
  },
  {
   "cell_type": "code",
   "execution_count": 49,
   "id": "20a56925-e28d-4183-bb09-07debdc2dd34",
   "metadata": {},
   "outputs": [
    {
     "name": "stdout",
     "output_type": "stream",
     "text": [
      "multiply was called with arguments (10, 2) {}\n",
      "Returned 20\n"
     ]
    },
    {
     "data": {
      "text/plain": [
       "20"
      ]
     },
     "execution_count": 49,
     "metadata": {},
     "output_type": "execute_result"
    }
   ],
   "source": [
    "def multiply_decorator(func):\n",
    "    def wrapper(*args,**kwargs):\n",
    "        print(f\"{func.__name__} was called with arguments {args} {kwargs}\")\n",
    "        result = func(*args,**kwargs)\n",
    "        print(f\"Returned {result}\")\n",
    "        return result\n",
    "    return wrapper\n",
    "\n",
    "@multiply_decorator\n",
    "def multiply(a,b):\n",
    "    return a*b\n",
    "\n",
    "multiply(10,2)\n",
    "    "
   ]
  },
  {
   "cell_type": "code",
   "execution_count": 61,
   "id": "f3fb8eaf-707f-408d-9794-fbf02c497f4c",
   "metadata": {},
   "outputs": [
    {
     "name": "stdout",
     "output_type": "stream",
     "text": [
      "welcome was called with Arguments ('Amaan', 'Udaipur') {}\n",
      "Welcome Amaan from Udaipur\n",
      "Acess Denied for Delhi city.\n"
     ]
    }
   ],
   "source": [
    "def welcome_decorator(func):\n",
    "    def wrapper(*args,**kwargs):\n",
    "        city = None\n",
    "        if len(args)>1:\n",
    "            city = args[1]\n",
    "        elif 'city' in kwargs:\n",
    "            city = kwargs['city']\n",
    "        \n",
    "        if city and (city=='delhi' or city == \"Delhi\"):\n",
    "            print(f\"Acess Denied for {city} city.\")\n",
    "            \n",
    "        else:\n",
    "            print(f\"{func.__name__} was called with Arguments {args} {kwargs}\")\n",
    "            func(*args,**kwargs)\n",
    "    return wrapper\n",
    "\n",
    "@welcome_decorator\n",
    "def welcome(name,city):\n",
    "    print(f\"Welcome {name} from {city}\")\n",
    "\n",
    "welcome(\"Amaan\",\"Udaipur\")\n",
    "        \n",
    "welcome(\"Shabaul\",city=\"Delhi\")"
   ]
  },
  {
   "cell_type": "code",
   "execution_count": 81,
   "id": "d0903c9f-d9f7-49d6-bfd7-65a296294f2f",
   "metadata": {},
   "outputs": [
    {
     "name": "stdout",
     "output_type": "stream",
     "text": [
      "Acess Denied for Mumbai city.\n",
      "Welcome Shabaul from Delhi\n"
     ]
    }
   ],
   "source": [
    "def block_city(city_name):\n",
    "    def welcome_decorator(func):\n",
    "        def wrapper(*args,**kwargs):\n",
    "            city = None\n",
    "            if len(args)>1:\n",
    "                city = args[1]\n",
    "            elif 'city' in kwargs:\n",
    "                city = kwargs['city']\n",
    "            \n",
    "            if city and city.lower() == city_name.lower():\n",
    "                print(f\"Access Denied for {city} city.\")\n",
    "                \n",
    "            else:\n",
    "                func(*args,**kwargs)\n",
    "        return wrapper\n",
    "    return welcome_decorator\n",
    "@block_city(\"Mumbai\")\n",
    "def welcome(name,city):\n",
    "    print(f\"Welcome {name} from {city}\")\n",
    "\n",
    "welcome(\"Amaan\",\"Mumbai\")\n",
    "        \n",
    "welcome(\"Shabaul\",city=\"Delhi\")"
   ]
  },
  {
   "cell_type": "code",
   "execution_count": 94,
   "id": "a0cf9a0e-9caa-45f3-8740-51f8addfee71",
   "metadata": {},
   "outputs": [
    {
     "name": "stdout",
     "output_type": "stream",
     "text": [
      "1\n",
      "2\n",
      "3\n",
      "4\n",
      "5\n",
      "[]\n"
     ]
    }
   ],
   "source": [
    "# Generators\n",
    "def num_count(n):\n",
    "    for i in range(1,n+1):\n",
    "        yield i\n",
    "\n",
    "gen = num_count(5)\n",
    "\n",
    "for num in gen:\n",
    "    print(num)\n",
    "\n",
    "\n"
   ]
  },
  {
   "cell_type": "code",
   "execution_count": 98,
   "id": "d9ce2f46-6dfe-455d-8de6-9bfb7b38a3f3",
   "metadata": {},
   "outputs": [
    {
     "name": "stdout",
     "output_type": "stream",
     "text": [
      "[7, 14, 21, 28, 35, 42, 49, 56, 63, 70, 77, 84, 91, 98]\n"
     ]
    }
   ],
   "source": [
    "def seven_multiple(num, rangee):\n",
    "    for i in range(num,rangee+1,num):\n",
    "        if(i%num==0):\n",
    "            yield i\n",
    "\n",
    "seven = seven_multiple(7,100)\n",
    "print(list(seven))"
   ]
  },
  {
   "cell_type": "code",
   "execution_count": null,
   "id": "1bb11092-d4f8-402c-a382-4654a7f39953",
   "metadata": {},
   "outputs": [],
   "source": []
  }
 ],
 "metadata": {
  "kernelspec": {
   "display_name": "Python [conda env:base] *",
   "language": "python",
   "name": "conda-base-py"
  },
  "language_info": {
   "codemirror_mode": {
    "name": "ipython",
    "version": 3
   },
   "file_extension": ".py",
   "mimetype": "text/x-python",
   "name": "python",
   "nbconvert_exporter": "python",
   "pygments_lexer": "ipython3",
   "version": "3.12.7"
  }
 },
 "nbformat": 4,
 "nbformat_minor": 5
}
