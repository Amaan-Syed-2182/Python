{
 "cells": [
  {
   "cell_type": "markdown",
   "id": "d72ae24f-debb-4be7-aab1-c2f629d4281a",
   "metadata": {},
   "source": [
    "## Lists in Python"
   ]
  },
  {
   "cell_type": "code",
   "execution_count": 16,
   "id": "e5457169-cbb6-4f3d-8bd8-094be4e16d07",
   "metadata": {},
   "outputs": [
    {
     "name": "stdout",
     "output_type": "stream",
     "text": [
      "Memory adress of Age: 140710544354008\n",
      "Memory adress of X: 140710544354008\n",
      "New Memory adress of X: 140710544354328\n",
      "Memory adress of Age: 140710544354008\n"
     ]
    }
   ],
   "source": [
    "age = 10\n",
    "print(f\"Memory adress of Age: {id(age)}\")\n",
    "x = age\n",
    "print(f\"Memory adress of X: {id(x)}\")\n",
    "x = 20\n",
    "print(f\"New Memory adress of X: {id(x)}\")\n",
    "# No Chnages on Age Memory Block\n",
    "print(f\"Memory adress of Age: {id(age)}\")"
   ]
  },
  {
   "cell_type": "code",
   "execution_count": 23,
   "id": "2f0e9998-5c42-47c0-8c25-4d75a98c7658",
   "metadata": {},
   "outputs": [
    {
     "name": "stdout",
     "output_type": "stream",
     "text": [
      "5\n",
      "[1, 4, 5, 'qbc', 7]\n"
     ]
    }
   ],
   "source": [
    "x = [1,4,5,'qbc']\n",
    "print(x[2])\n",
    "x.append(7)\n",
    "print(x)"
   ]
  },
  {
   "cell_type": "code",
   "execution_count": 27,
   "id": "40163be2-c9ff-4d05-98aa-cadb25495b26",
   "metadata": {},
   "outputs": [
    {
     "name": "stdout",
     "output_type": "stream",
     "text": [
      "[1, 4, 'Amaan', 'Amaan', 5, 'qbc', 7]\n"
     ]
    }
   ],
   "source": [
    "x.insert(2,\"Amaan\")\n",
    "print(x)"
   ]
  },
  {
   "cell_type": "code",
   "execution_count": 29,
   "id": "9411a382-5573-4d85-b6bc-4ce250ff6fb1",
   "metadata": {},
   "outputs": [
    {
     "name": "stdout",
     "output_type": "stream",
     "text": [
      "[1, 4, 'Amaan', 'Amaan', 5, 'qbc']\n"
     ]
    }
   ],
   "source": [
    "x.pop()\n",
    "print(x)"
   ]
  },
  {
   "cell_type": "code",
   "execution_count": 31,
   "id": "1c790129-ad88-40f0-b30d-03ac83636f9c",
   "metadata": {},
   "outputs": [
    {
     "name": "stdout",
     "output_type": "stream",
     "text": [
      "1\n",
      "4\n",
      "Amaan\n",
      "Amaan\n",
      "5\n",
      "qbc\n"
     ]
    }
   ],
   "source": [
    "for i in x:\n",
    "    print(i)"
   ]
  },
  {
   "cell_type": "code",
   "execution_count": 37,
   "id": "45703d3b-791e-4ba7-af9b-a0bbd23aa547",
   "metadata": {},
   "outputs": [
    {
     "name": "stdout",
     "output_type": "stream",
     "text": [
      "21\n",
      "34\n",
      "57\n",
      "76\n"
     ]
    }
   ],
   "source": [
    "x = [1,5,7,21,34,57,76]\n",
    "for i in range(len(x)):\n",
    "    if(x[i]>20):\n",
    "        print(x[i])"
   ]
  },
  {
   "cell_type": "code",
   "execution_count": 39,
   "id": "3a91cde4-3493-4598-96cd-4639f066e219",
   "metadata": {},
   "outputs": [
    {
     "name": "stdout",
     "output_type": "stream",
     "text": [
      "[1, 5, 7, 21, 57]\n"
     ]
    }
   ],
   "source": [
    "new_list = []\n",
    "for i in range(len(x)):\n",
    "    if(x[i]%2 != 0):\n",
    "        new_list.append(x[i])\n",
    "\n",
    "print(new_list)"
   ]
  },
  {
   "cell_type": "code",
   "execution_count": 43,
   "id": "b9ea4685-8103-417e-8aa6-99fd37543f3c",
   "metadata": {},
   "outputs": [
    {
     "name": "stdout",
     "output_type": "stream",
     "text": [
      "1\n"
     ]
    }
   ],
   "source": [
    "min = x[0]\n",
    "for i in range(len(x)):\n",
    "    if(min>x[i]):\n",
    "        min = x[i]\n",
    "\n",
    "print(min)"
   ]
  },
  {
   "cell_type": "code",
   "execution_count": 45,
   "id": "f81c2e18-7b44-48b5-9c60-150ea386c09f",
   "metadata": {},
   "outputs": [
    {
     "name": "stdout",
     "output_type": "stream",
     "text": [
      "76\n"
     ]
    }
   ],
   "source": [
    "max = x[0]\n",
    "for i in range(len(x)):\n",
    "    if(max<x[i]):\n",
    "        max = x[i]\n",
    "\n",
    "print(max)"
   ]
  },
  {
   "cell_type": "code",
   "execution_count": null,
   "id": "f55361eb-91b3-41bf-9b02-33b7278f8394",
   "metadata": {},
   "outputs": [],
   "source": []
  }
 ],
 "metadata": {
  "kernelspec": {
   "display_name": "Python [conda env:base] *",
   "language": "python",
   "name": "conda-base-py"
  },
  "language_info": {
   "codemirror_mode": {
    "name": "ipython",
    "version": 3
   },
   "file_extension": ".py",
   "mimetype": "text/x-python",
   "name": "python",
   "nbconvert_exporter": "python",
   "pygments_lexer": "ipython3",
   "version": "3.12.7"
  }
 },
 "nbformat": 4,
 "nbformat_minor": 5
}
