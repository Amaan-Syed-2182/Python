{
 "cells": [
  {
   "cell_type": "code",
   "execution_count": 13,
   "id": "65f495b5-68a7-4ef7-8980-c0fce59277ab",
   "metadata": {},
   "outputs": [
    {
     "name": "stdin",
     "output_type": "stream",
     "text": [
      "Enter car Brand:  skoda\n",
      "Enter car Model:  kaura\n",
      "Enter car Year:  2010\n"
     ]
    },
    {
     "name": "stdout",
     "output_type": "stream",
     "text": [
      "Brand of car is skoda, Model is kaura and year is 2010\n",
      "Car is Old\n"
     ]
    }
   ],
   "source": [
    "# Create a class Car with attributes brand, model, and year. Add a method display_info() to print all details.\n",
    "from datetime import datetime\n",
    "\n",
    "class Car:\n",
    "    def __init__(self,brand,model,year):\n",
    "        self.brand = brand\n",
    "        self.model = model\n",
    "        self.year = year\n",
    "    def display_info(self):\n",
    "        print(f\"Brand of car is {self.brand}, Model is {self.model} and year is {self.year}\")\n",
    "    \n",
    "    def is_old(self):\n",
    "        current_year = datetime.now().year\n",
    "        return current_year-self.year > 10\n",
    "\n",
    "car_brand = input(\"Enter car Brand: \")\n",
    "car_model = input(\"Enter car Model: \")\n",
    "car_year = int(input(\"Enter car Year: \"))\n",
    "\n",
    "c1 = Car(car_brand, car_model,car_year)\n",
    "c1.display_info()\n",
    "if c1.is_old():\n",
    "    print(\"Car is Old\")\n",
    "else:\n",
    "    print(\"Car is New\")"
   ]
  },
  {
   "cell_type": "code",
   "execution_count": 17,
   "id": "98e24b4b-bbbe-4365-b44b-9d870b7b2863",
   "metadata": {},
   "outputs": [
    {
     "name": "stdout",
     "output_type": "stream",
     "text": [
      "Gggggggrrrrrrrrrr\n",
      "BBaarrKK!!!\n"
     ]
    }
   ],
   "source": [
    "class animal:\n",
    "    def __init__(self,name,species):\n",
    "        self.name = name\n",
    "        self.species = species\n",
    "\n",
    "    def make_sound(self):\n",
    "        print(\"Gggggggrrrrrrrrrr\")\n",
    "\n",
    "class dog(animal):\n",
    "    def __init__(self,name,species,breed):\n",
    "        super().__init__(name,species)\n",
    "        self.breed = breed\n",
    "\n",
    "    def make_sound(self):\n",
    "        print(\"BBaarrKK!!!\")\n",
    "\n",
    "a1 = animal(\"Giraffe\",\"Mammal\")\n",
    "d1 = dog(\"Mongu\",\"Dog\",\"Pitbull\")\n",
    "a1.make_sound()\n",
    "d1.make_sound()"
   ]
  },
  {
   "cell_type": "code",
   "execution_count": 35,
   "id": "e74becb2-d87b-4690-90b7-c967a60a0741",
   "metadata": {},
   "outputs": [
    {
     "name": "stdout",
     "output_type": "stream",
     "text": [
      "Deposited Amount is 500 Updated Amount is: 1500\n",
      "Amount Withdrawn is 1000 Remaining amount is 500\n",
      "500\n"
     ]
    }
   ],
   "source": [
    "    class Bank_Account:\n",
    "        def __init__(self,name,age,balance):\n",
    "            self.name = name\n",
    "            self.age = age\n",
    "            self.__balance = balance\n",
    "    \n",
    "        def deposit(self,amount):\n",
    "            if(amount>0):\n",
    "                self.__balance += amount\n",
    "                print(f\"Deposited Amount is {amount} Updated Amount is: {self.__balance}\")\n",
    "            elif(amount == 0):\n",
    "                print(\"Deposit Amount can't be Zero....\")\n",
    "            elif(amount<0):\n",
    "                print(\"Deposit amount can't be Negative....\")\n",
    "            else:\n",
    "                print(\"Invalid input...\")\n",
    "    \n",
    "        def withdraw(self,withdraw_amount):\n",
    "            if(withdraw_amount<= self.__balance):\n",
    "                self.__balance -= withdraw_amount\n",
    "                print(f\"Amount Withdrawn is {withdraw_amount} Remaining amount is {self.__balance}\")\n",
    "            elif(withdraw_amount<=0):\n",
    "                print(\"Enter Positive Amount...\")\n",
    "            else:\n",
    "                print(\"Insufficient Balance...\")\n",
    "    \n",
    "        def get_balance(self):\n",
    "            return self.__balance\n",
    "    \n",
    "    b1 = Bank_Account(\"Amaan\",22,1000)\n",
    "    b1.deposit(500)\n",
    "    b1.withdraw(1000)\n",
    "    print(b1.get_balance())\n",
    "            \n",
    "            \n",
    "            \n",
    "            "
   ]
  },
  {
   "cell_type": "code",
   "execution_count": 7,
   "id": "b0221991-d0b4-4188-9d4c-787052e9fe8a",
   "metadata": {},
   "outputs": [
    {
     "name": "stdout",
     "output_type": "stream",
     "text": [
      "Giraffe Makes a Sound!!!\n",
      "Mongu Trumpets!!!\n",
      "Simba Roars!!!\n",
      "Giraffe Makes a Sound!!!\n",
      "Simba Roars!!!\n",
      "Mongu Trumpets!!!\n"
     ]
    }
   ],
   "source": [
    "class animal:\n",
    "    def __init__(self,name,species):\n",
    "        self.name = name\n",
    "        self.species = species\n",
    "\n",
    "    def make_sound(self):\n",
    "        print(f\"{self.name} Makes a Sound!!!\")\n",
    "\n",
    "class Lion(animal):\n",
    "    def __init__(self,name,species):\n",
    "        super().__init__(name,species)\n",
    "        \n",
    "\n",
    "    def make_sound(self):\n",
    "        print(f\"{self.name} Roars!!!\")\n",
    "\n",
    "\n",
    "class Elephant(animal):\n",
    "    def __init__(self,name,species):\n",
    "        super().__init__(name,species)\n",
    "        \n",
    "\n",
    "    def make_sound(self):\n",
    "        print(f\"{self.name} Trumpets!!!\")\n",
    "\n",
    "a1 = animal(\"Giraffe\",\"Mammal\")\n",
    "e1 = Elephant(\"Mongu\",\"Elephant\")\n",
    "l1 = Lion(\"Simba\",\"Lion\")\n",
    "\n",
    "a1.make_sound()\n",
    "e1.make_sound()\n",
    "l1.make_sound()\n",
    "\n",
    "zoo = [a1,l1,e1]\n",
    "for i in zoo:\n",
    "    i.make_sound()"
   ]
  },
  {
   "cell_type": "code",
   "execution_count": 19,
   "id": "f1b94909-a953-41ad-a46d-1dedc5ba875a",
   "metadata": {},
   "outputs": [
    {
     "name": "stdout",
     "output_type": "stream",
     "text": [
      "Area is: 96\n",
      "Area is: 153.86\n",
      "Perimeter is: 40\n",
      "Perimeter is: 43.96\n"
     ]
    }
   ],
   "source": [
    "from abc import ABC,abstractmethod\n",
    "\n",
    "class shape(ABC):\n",
    "    \n",
    "    @abstractmethod\n",
    "    def area(self):\n",
    "        pass\n",
    "\n",
    "    @abstractmethod\n",
    "    def perimeter(self):\n",
    "        pass\n",
    "\n",
    "class Rectangle(shape):\n",
    "\n",
    "    def __init__(self,length,breadth):\n",
    "        self.length = length\n",
    "        self.breadth = breadth\n",
    "\n",
    "    def area(self):\n",
    "        return (self.length * self.breadth) \n",
    "\n",
    "    def perimeter(self):\n",
    "        return 2*(self.length + self.breadth)\n",
    "\n",
    "class Circle(shape):\n",
    "\n",
    "    def __init__(self,radius):\n",
    "        self.radius = radius\n",
    "\n",
    "    def area(self):\n",
    "        return 3.14 * (self.radius*self.radius)\n",
    "\n",
    "    def perimeter(self):\n",
    "        return 2*(3.14*self.radius)\n",
    "\n",
    "C1 = Circle(7)\n",
    "R1 = Rectangle(12,8)\n",
    "shapes = [R1,C1]\n",
    "\n",
    "for i in shapes:\n",
    "    print(f\"Area is: {i.area()}\")\n",
    "\n",
    "for i in shapes:\n",
    "    print(f\"Perimeter is: {i.perimeter()}\")\n"
   ]
  },
  {
   "cell_type": "code",
   "execution_count": 60,
   "id": "9b36d800-5350-4350-a257-8133ab446b44",
   "metadata": {},
   "outputs": [
    {
     "name": "stdout",
     "output_type": "stream",
     "text": [
      "Amaan's Salary is: 250000.0\n",
      "Ayan's Salary is: 6000\n",
      "Name: Amaan\n",
      "ID: 2182\n",
      "Roll: Full-Time\n",
      "Basic Salary: 200000\n",
      "Bonus: 25 %\n",
      "Final Salary: 250000.0\n",
      "Name: Ayan\n",
      "ID: 2183\n",
      "Roll: Part-Time\n",
      "Basic Salary: 300\n",
      "Hours Worked: 20\n",
      "Final Salary: 6000\n"
     ]
    }
   ],
   "source": [
    "from abc import ABC, abstractmethod \n",
    "class Employee(ABC):\n",
    "    \n",
    "    def __init__(self,name,emp_id):\n",
    "        self.name = name\n",
    "        self.emp_id = emp_id\n",
    "\n",
    "    @abstractmethod\n",
    "    def calculate_salary(self):\n",
    "        pass\n",
    "\n",
    "    @abstractmethod\n",
    "    def display_details(self):\n",
    "        pass\n",
    "\n",
    "class Full_time_Employee(Employee):\n",
    "\n",
    "    def __init__(self,name,emp_id,salary,bonus):\n",
    "        super().__init__(name,emp_id)\n",
    "        self.__salary = salary\n",
    "        self.bonus = bonus\n",
    "\n",
    "    def calculate_salary(self):\n",
    "        \n",
    "        final = self.__salary*(self.bonus/100)\n",
    "        return self.__salary + final\n",
    "\n",
    "    def display_details(self):\n",
    "        print(f\"Name: {self.name}\")\n",
    "        print(f\"ID: {self.emp_id}\")\n",
    "        print(f\"Roll: Full-Time\")\n",
    "        print(f\"Basic Salary: {self.__salary}\")\n",
    "        print(f\"Bonus: {self.bonus} %\")\n",
    "        final = self.__salary*(self.bonus/100)\n",
    "        print(\"Final Salary:\",self.__salary + final)\n",
    "\n",
    "class Part_time_Employee(Employee):\n",
    "\n",
    "    def __init__(self,name,emp_id,salary,hours):\n",
    "        super().__init__(name,emp_id)\n",
    "        self.__salary = salary\n",
    "        self.hours = hours\n",
    "    \n",
    "    def calculate_salary(self):\n",
    "        final = self.__salary*self.hours\n",
    "        return final\n",
    "\n",
    "    def display_details(self):\n",
    "        print(f\"Name: {self.name}\")\n",
    "        print(f\"ID: {self.emp_id}\")\n",
    "        print(f\"Roll: Part-Time\")\n",
    "        print(f\"Basic Salary: {self.__salary}\")\n",
    "        print(f\"Hours Worked: {self.hours}\")\n",
    "        final = self.__salary*self.hours\n",
    "        print(\"Final Salary:\",final)\n",
    "\n",
    "F1 = Full_time_Employee(\"Amaan\",2182,200000,25)\n",
    "P1 = Part_time_Employee(\"Ayan\",2183,300,20)\n",
    "s1 = F1.calculate_salary()\n",
    "s2 = P1.calculate_salary()\n",
    "print(f\"{F1.name}'s Salary is: {s1}\")\n",
    "print(f\"{P1.name}'s Salary is: {s2}\")\n",
    "\n",
    "F1.display_details()\n",
    "P1.display_details()\n",
    "        \n",
    "        "
   ]
  },
  {
   "cell_type": "code",
   "execution_count": null,
   "id": "77fe42e3-b78d-4f44-84c3-e14b28c2a3f5",
   "metadata": {},
   "outputs": [],
   "source": []
  }
 ],
 "metadata": {
  "kernelspec": {
   "display_name": "Python [conda env:base] *",
   "language": "python",
   "name": "conda-base-py"
  },
  "language_info": {
   "codemirror_mode": {
    "name": "ipython",
    "version": 3
   },
   "file_extension": ".py",
   "mimetype": "text/x-python",
   "name": "python",
   "nbconvert_exporter": "python",
   "pygments_lexer": "ipython3",
   "version": "3.12.7"
  }
 },
 "nbformat": 4,
 "nbformat_minor": 5
}
