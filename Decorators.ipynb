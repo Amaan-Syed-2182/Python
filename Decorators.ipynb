{
 "cells": [
  {
   "cell_type": "markdown",
   "id": "0ca9ec5b-70a8-461a-b271-96eeb3768e2f",
   "metadata": {},
   "source": [
    "## Decorator\n",
    "### it is a design through which we can modify or enhance a functions behavior without \n",
    "### changing the functions source code"
   ]
  },
  {
   "cell_type": "code",
   "execution_count": 21,
   "id": "453a37b6-61b4-453f-acad-642f7fa50620",
   "metadata": {},
   "outputs": [
    {
     "name": "stdout",
     "output_type": "stream",
     "text": [
      "Outer Function => 100\n",
      "<function outerfunc.<locals>.innerfunc at 0x000002544A8C45E0>\n",
      "Inner function 100\n"
     ]
    }
   ],
   "source": [
    "def outerfunc(num):\n",
    "    print(\"Outer Function =>\",num)\n",
    "    def innerfunc():\n",
    "        # No num was declared in inner but can be accessed called as closure\n",
    "        print(\"Inner function\",num) \n",
    "    return innerfunc\n",
    "\n",
    "x = outerfunc(100)\n",
    "print(x)\n",
    "x()"
   ]
  },
  {
   "cell_type": "code",
   "execution_count": 35,
   "id": "23fab4c2-658a-42a9-ab6f-ce8bcacf987d",
   "metadata": {},
   "outputs": [
    {
     "name": "stdout",
     "output_type": "stream",
     "text": [
      "Hey inner function <function test at 0x000002544A8C7C40>\n",
      "TEST FUNCTION IS HERE\n"
     ]
    }
   ],
   "source": [
    "# Old syntax and logix for decorator\n",
    "\n",
    "def outerfunc(num):\n",
    "    def innerfunc():\n",
    "        print(\"Hey inner function\",num)\n",
    "        test_r = num()\n",
    "        print(test_r.upper())\n",
    "    return innerfunc\n",
    "\n",
    "def test():\n",
    "    return (\"Test function is here\")\n",
    "\n",
    "# Above test() will be overridden\n",
    "test = outerfunc(test)\n",
    "test() # Chnaged the Functionality or modified it in simple language"
   ]
  },
  {
   "cell_type": "code",
   "execution_count": 41,
   "id": "afbce038-0a99-45f1-b2f8-eb335463d823",
   "metadata": {},
   "outputs": [
    {
     "name": "stdout",
     "output_type": "stream",
     "text": [
      "Hey inner function <function test at 0x000002544A8C6660>\n",
      "TEST FUNCTION IS HERE\n"
     ]
    }
   ],
   "source": [
    "# New syntax and logix for decorator\n",
    "\n",
    "# Function to convert text in Upper case\n",
    "def outerfunc(num):\n",
    "    def innerfunc():\n",
    "        print(\"Hey inner function\",num)\n",
    "        test_r = num()\n",
    "        print(test_r.upper())\n",
    "    return innerfunc\n",
    "\n",
    "# Use outerfunc as decorator\n",
    "@outerfunc\n",
    "def test():\n",
    "    return (\"Test function is here\")\n",
    "\n",
    "# Calling test()\n",
    "test()\n",
    "\n"
   ]
  },
  {
   "cell_type": "code",
   "execution_count": 52,
   "id": "0d9acd63-812f-4b58-b18f-9f7b8bcf5f5c",
   "metadata": {},
   "outputs": [
    {
     "name": "stdout",
     "output_type": "stream",
     "text": [
      "Hello!\n",
      "Hello!\n",
      "Hello!\n",
      "Hello!\n"
     ]
    }
   ],
   "source": [
    "def repeat(n):  # This is the argument to the decorator\n",
    "    def decorator(func):\n",
    "        def wrapper(*args, **kwargs):\n",
    "            for _ in range(n):\n",
    "                func(*args, **kwargs)\n",
    "        return wrapper\n",
    "    return decorator\n",
    "\n",
    "@repeat(4)\n",
    "def say_hello():\n",
    "    print(\"Hello!\")\n",
    "\n",
    "say_hello()\n"
   ]
  }
 ],
 "metadata": {
  "kernelspec": {
   "display_name": "Python [conda env:base] *",
   "language": "python",
   "name": "conda-base-py"
  },
  "language_info": {
   "codemirror_mode": {
    "name": "ipython",
    "version": 3
   },
   "file_extension": ".py",
   "mimetype": "text/x-python",
   "name": "python",
   "nbconvert_exporter": "python",
   "pygments_lexer": "ipython3",
   "version": "3.12.7"
  }
 },
 "nbformat": 4,
 "nbformat_minor": 5
}
