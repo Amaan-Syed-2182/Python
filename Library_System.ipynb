{
 "cells": [
  {
   "cell_type": "markdown",
   "id": "bd7ff122-c11e-4d19-b057-5c2c55ae48fa",
   "metadata": {},
   "source": [
    "# Library system using OOPS"
   ]
  },
  {
   "cell_type": "code",
   "execution_count": 30,
   "id": "f87c2617-c00e-4e95-8cf5-ba8618944904",
   "metadata": {},
   "outputs": [
    {
     "name": "stdout",
     "output_type": "stream",
     "text": [
      "ID of BOOK is 2018, Title of the book is Red Dead Redemption, Written by Rockstar and has 606 Pages.\n",
      "ID of BOOK is 2018, Title of the book is Red Dead Redemption 2, Written by Rockstar and Issue Number is 1065432.\n"
     ]
    }
   ],
   "source": [
    "from abc import ABC, abstractmethod\n",
    "\n",
    "class LibraryItem(ABC):\n",
    "    def __init__(self, title, author, item_id):\n",
    "        self.title = title\n",
    "        self.author = author\n",
    "        self.item_id = item_id\n",
    "\n",
    "    @abstractmethod\n",
    "    def info_display(self):\n",
    "        pass\n",
    "\n",
    "class BookItem(LibraryItem):\n",
    "    def __init__(self, title, author, item_id, pages):\n",
    "        super().__init__(title, author, item_id)\n",
    "        self.pages = pages\n",
    "\n",
    "    def info_display(self):\n",
    "        print(f\"ID of BOOK is {self.item_id}, Title of the book is {self.title}, Written by {self.author} and has {self.pages} Pages.\")\n",
    "\n",
    "class MagazineItem(LibraryItem):\n",
    "    def __init__(self, title, author, item_id, issueNum):\n",
    "        super().__init__(title, author, item_id)\n",
    "        self.issueNum = issueNum\n",
    "\n",
    "    def info_display(self):\n",
    "        print(f\"ID of BOOK is {self.item_id}, Title of the book is {self.title}, Written by {self.author} and Issue Number is {self.issueNum}.\")\n",
    "\n",
    "class Library:\n",
    "    def __init__(self):\n",
    "        self.items = []\n",
    "\n",
    "    def add_item(self, item):\n",
    "        if isinstance(item, LibraryItem):\n",
    "            self.items.append(item)\n",
    "        else:\n",
    "            print(\"Only LibraryItem objects can be added.\")\n",
    "\n",
    "    def display_item(self):\n",
    "        if not self.items:\n",
    "            print(\"No items are present.\")\n",
    "        else:\n",
    "            for item in self.items:\n",
    "                item.info_display()\n",
    "\n",
    "\n",
    "# Sample usage\n",
    "b1 = BookItem(\"Red Dead Redemption\", \"Rockstar\", 2018, 606)\n",
    "m1 = MagazineItem(\"Red Dead Redemption 2\", \"Rockstar\", 2018, 1065432)\n",
    "\n",
    "lib = Library()\n",
    "lib.add_item(b1)\n",
    "lib.add_item(m1)\n",
    "lib.display_item()\n"
   ]
  }
 ],
 "metadata": {
  "kernelspec": {
   "display_name": "Python 3 (ipykernel)",
   "language": "python",
   "name": "python3"
  },
  "language_info": {
   "codemirror_mode": {
    "name": "ipython",
    "version": 3
   },
   "file_extension": ".py",
   "mimetype": "text/x-python",
   "name": "python",
   "nbconvert_exporter": "python",
   "pygments_lexer": "ipython3",
   "version": "3.12.7"
  }
 },
 "nbformat": 4,
 "nbformat_minor": 5
}
