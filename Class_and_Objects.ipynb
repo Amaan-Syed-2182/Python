{
 "cells": [
  {
   "cell_type": "code",
   "execution_count": 5,
   "id": "b0d987c1-0cf2-426d-8789-7cfc62ec5c66",
   "metadata": {},
   "outputs": [
    {
     "name": "stdout",
     "output_type": "stream",
     "text": [
      "Yellow\n",
      "Splendor\n",
      "17 BHP\n",
      "13 NM\n"
     ]
    }
   ],
   "source": [
    "class Bike_Template():\n",
    "    name = 'Splendor'\n",
    "    color = \"Yellow\"\n",
    "    power = \"17 BHP\"\n",
    "    torque = \"13 NM\"\n",
    "\n",
    "b1 = Bike_Template()\n",
    "print(b1.color)\n",
    "print(b1.name)\n",
    "print(b1.power)\n",
    "print(b1.torque)"
   ]
  },
  {
   "cell_type": "code",
   "execution_count": 9,
   "id": "aadc63ee-8c7a-4fae-9b99-4c68d69685bb",
   "metadata": {},
   "outputs": [
    {
     "name": "stdout",
     "output_type": "stream",
     "text": [
      "Red\n"
     ]
    }
   ],
   "source": [
    "b2 = Bike_Template()\n",
    "b2.color = \"Red\" # Chaging the color for this particular object only\n",
    "print(b2.color)\n"
   ]
  },
  {
   "cell_type": "code",
   "execution_count": 19,
   "id": "8dba457b-c50a-4401-8c8d-498cc18c0f2b",
   "metadata": {},
   "outputs": [],
   "source": [
    "class Bike_Template():\n",
    "    name = 'Splendor'\n",
    "    color = \"Yellow\"\n",
    "    power = \"17 BHP\"\n",
    "    torque = \"13 NM\"\n",
    "    def info(self):\n",
    "        print(f'name is {self.name} and color is {self.color}')"
   ]
  },
  {
   "cell_type": "code",
   "execution_count": 25,
   "id": "d0efed5f-924d-42ec-ae6a-faf7ce9f92dd",
   "metadata": {},
   "outputs": [
    {
     "name": "stdout",
     "output_type": "stream",
     "text": [
      "name is Splendor and color is Jed Black\n"
     ]
    }
   ],
   "source": [
    "b3 = Bike_Template()\n",
    "b3.color = \"Jed Black\"\n",
    "b3.info()\n"
   ]
  },
  {
   "cell_type": "code",
   "execution_count": 43,
   "id": "65270f66-cc98-4049-8f58-cb7e392659f6",
   "metadata": {},
   "outputs": [
    {
     "name": "stdout",
     "output_type": "stream",
     "text": [
      "Calling constructor --> <__main__.bike_template object at 0x00000141D3646E10>\n",
      "<__main__.bike_template object at 0x00000141D3646E10>\n"
     ]
    }
   ],
   "source": [
    "class bike_template():\n",
    "    def __init__(self):\n",
    "        print(\"Calling constructor -->\",self) \n",
    "\n",
    "b4 = bike_template()\n",
    "print(b4) # Both self and b4 object have same memory address"
   ]
  },
  {
   "cell_type": "code",
   "execution_count": 45,
   "id": "cd76cfa9-27fa-4f31-a391-a0dba47bc530",
   "metadata": {},
   "outputs": [],
   "source": [
    "# Types of Constructors\n",
    "# 1. Default --> Calls automatically\n",
    "# 2. Parameterized --> When we create a constructor\n"
   ]
  },
  {
   "cell_type": "code",
   "execution_count": 47,
   "id": "9c8138ca-9030-4658-9685-f976cdbe4371",
   "metadata": {},
   "outputs": [
    {
     "name": "stdout",
     "output_type": "stream",
     "text": [
      "Calling constructor --> <__main__.bike_template object at 0x00000141D5B2FE60> red\n"
     ]
    }
   ],
   "source": [
    "class bike_template():\n",
    "    def __init__(self,a):\n",
    "        print(\"Calling constructor -->\",self,a) \n",
    "\n",
    "b1 = bike_template(\"red\")"
   ]
  },
  {
   "cell_type": "code",
   "execution_count": 51,
   "id": "5d32f573-7a49-4229-ae55-70d91ef0f014",
   "metadata": {},
   "outputs": [
    {
     "name": "stdout",
     "output_type": "stream",
     "text": [
      "red\n",
      "Black\n"
     ]
    }
   ],
   "source": [
    "class bike_template():\n",
    "    def __init__(self,a):\n",
    "        self.color = a \n",
    "\n",
    "b1 = bike_template(\"red\")\n",
    "print(b1.color)\n",
    "b2 = bike_template(\"Black\")\n",
    "print(b2.color)"
   ]
  },
  {
   "cell_type": "code",
   "execution_count": 55,
   "id": "5a72f276-d24d-4b12-ba3b-0381fb0ccca2",
   "metadata": {},
   "outputs": [
    {
     "name": "stdout",
     "output_type": "stream",
     "text": [
      "Karizma XMR 210\n",
      "Pulsar 220F\n"
     ]
    }
   ],
   "source": [
    "class bike_template():\n",
    "    def __init__(self,name):\n",
    "        self.name = name\n",
    "\n",
    "b2 = bike_template(\"Karizma XMR 210\")\n",
    "print(b2.name)\n",
    "b3 = bike_template(\"Pulsar 220F\")\n",
    "print(b3.name)"
   ]
  },
  {
   "cell_type": "code",
   "execution_count": 63,
   "id": "707f768e-23b4-4879-a588-e5f81f2a6596",
   "metadata": {},
   "outputs": [
    {
     "name": "stdout",
     "output_type": "stream",
     "text": [
      "Amaan\n",
      "2182\n",
      "amaansyed2127@gmail.com\n",
      "Id is 2182, Name is Amaan and email is amaansyed2127@gmail.com\n"
     ]
    }
   ],
   "source": [
    "class employee():\n",
    "    def __init__(self,id,name,email):\n",
    "        self.id = id\n",
    "        self.name = name\n",
    "        self.email = email\n",
    "\n",
    "    def info(self):\n",
    "        print(f\"Id is {self.id}, Name is {self.name} and email is {self.email}\")\n",
    "\n",
    "e1 = employee(2182,\"Amaan\",\"amaansyed2127@gmail.com\")\n",
    "e1.info()\n",
    "\n"
   ]
  },
  {
   "cell_type": "code",
   "execution_count": 97,
   "id": "ee7f6e96-2ef8-4534-9c5e-37fee69c3723",
   "metadata": {
    "scrolled": true
   },
   "outputs": [
    {
     "name": "stdout",
     "output_type": "stream",
     "text": [
      "Count of object is: 1\n",
      "Count of object is: 2\n"
     ]
    }
   ],
   "source": [
    "class New:\n",
    "    count = 0\n",
    "    \n",
    "    def __init__(self,name,email):\n",
    "        self.name = name\n",
    "        self.email = email\n",
    "        New.count += 1\n",
    "   \n",
    "    @classmethod\n",
    "    def show_count(cls):\n",
    "        print(f\"Count of object is: {cls.count}\")\n",
    "\n",
    "b1 = New(\"Amaan\",\"email1\")\n",
    "b1.show_count()\n",
    "b2 = New(\"Raj\",\"email2\")\n",
    "b2.show_count()\n",
    "        "
   ]
  },
  {
   "cell_type": "code",
   "execution_count": 89,
   "id": "7f2e7a5d-019a-46c1-ae46-52c191bf1e30",
   "metadata": {},
   "outputs": [
    {
     "name": "stdout",
     "output_type": "stream",
     "text": [
      "Count of objects is: 1\n",
      "Count of objects is: 2\n"
     ]
    }
   ],
   "source": [
    "class New:\n",
    "    count = 0  # Class variable\n",
    "\n",
    "    def __init__(self, name, email):\n",
    "        self.name = name\n",
    "        self.email = email\n",
    "        New.count += 1  # Correct: referring to the class variable\n",
    "\n",
    "    @classmethod\n",
    "    def show_count(cls):  # Class method to access class variable\n",
    "        print(f\"Count of objects is: {cls.count}\")\n",
    "\n",
    "b1 = New(\"Amaan\", \"email1\")\n",
    "b1.show_count()\n",
    "b2 = New(\"Raj\", \"email2\")\n",
    "b2.show_count()\n"
   ]
  },
  {
   "cell_type": "code",
   "execution_count": 99,
   "id": "a3b2fb9f-2aa0-460b-bf24-08370eaab09a",
   "metadata": {},
   "outputs": [],
   "source": [
    "# class vairiable are vairiable that can be accessed by both class and instance name\n",
    "# But they can only be modified by class name"
   ]
  }
 ],
 "metadata": {
  "kernelspec": {
   "display_name": "Python [conda env:base] *",
   "language": "python",
   "name": "conda-base-py"
  },
  "language_info": {
   "codemirror_mode": {
    "name": "ipython",
    "version": 3
   },
   "file_extension": ".py",
   "mimetype": "text/x-python",
   "name": "python",
   "nbconvert_exporter": "python",
   "pygments_lexer": "ipython3",
   "version": "3.12.7"
  }
 },
 "nbformat": 4,
 "nbformat_minor": 5
}
