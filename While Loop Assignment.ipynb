{
 "cells": [
  {
   "cell_type": "markdown",
   "id": "eb5e2447-913d-4224-b631-2662c71d64ed",
   "metadata": {},
   "source": [
    "## While Loop Assignment\n",
    "### By Saiyed Amaan"
   ]
  },
  {
   "cell_type": "code",
   "execution_count": 11,
   "id": "e3d44dc3-d3c8-4da3-ab61-cf8abeae4add",
   "metadata": {},
   "outputs": [
    {
     "name": "stdin",
     "output_type": "stream",
     "text": [
      "Enter the Number:  12\n"
     ]
    },
    {
     "name": "stdout",
     "output_type": "stream",
     "text": [
      "1 2 3 4 5 6 7 8 9 10 11 12 "
     ]
    }
   ],
   "source": [
    "# 1.\n",
    "num = int(input(\"Enter the Number: \"))\n",
    "i = 1\n",
    "while(i <= num):\n",
    "    print(i,end=\" \")\n",
    "    i += 1"
   ]
  },
  {
   "cell_type": "code",
   "execution_count": 13,
   "id": "5b52bf6a-aced-4c75-94e9-9ffa5c1995ad",
   "metadata": {},
   "outputs": [
    {
     "name": "stdin",
     "output_type": "stream",
     "text": [
      "Enter The Number:  13\n"
     ]
    },
    {
     "name": "stdout",
     "output_type": "stream",
     "text": [
      "13 12 11 10 9 8 7 6 5 4 3 2 1 "
     ]
    }
   ],
   "source": [
    "# 2.\n",
    "num = int(input(\"Enter The Number: \"))\n",
    "i = num\n",
    "while(i>0):\n",
    "    print(i,end=\" \")\n",
    "    i -= 1"
   ]
  },
  {
   "cell_type": "code",
   "execution_count": 18,
   "id": "50eb6851-54b2-4a51-b6f4-c4ffdf6030ed",
   "metadata": {},
   "outputs": [
    {
     "name": "stdout",
     "output_type": "stream",
     "text": [
      "` a b c d e f g h i j k l m n o p q r s t u v w x y "
     ]
    }
   ],
   "source": [
    "# 3.\n",
    "i = 96\n",
    "while(i in range(96,122)):\n",
    "    print(chr(i),end=\" \")\n",
    "    i += 1"
   ]
  },
  {
   "cell_type": "code",
   "execution_count": 23,
   "id": "f5466c71-6897-4e2b-8a31-09b0b3c30730",
   "metadata": {},
   "outputs": [
    {
     "name": "stdout",
     "output_type": "stream",
     "text": [
      "2 4 6 8 10 12 14 16 18 20 22 24 26 28 30 32 34 36 38 40 42 44 46 48 50 52 54 56 58 60 62 64 66 68 70 72 74 76 78 80 82 84 86 88 90 92 94 96 98 100 "
     ]
    }
   ],
   "source": [
    "# 4.\n",
    "i = 1\n",
    "while(i <= 100):\n",
    "    if(i %2 == 0):\n",
    "        print(i,end=\" \")\n",
    "    i += 1"
   ]
  },
  {
   "cell_type": "code",
   "execution_count": 33,
   "id": "86deead0-1e87-4c01-8e8b-ad648ac15a3d",
   "metadata": {},
   "outputs": [
    {
     "name": "stdin",
     "output_type": "stream",
     "text": [
      "Enter The Number:  4\n"
     ]
    },
    {
     "name": "stdout",
     "output_type": "stream",
     "text": [
      "Sum is: 4\n"
     ]
    }
   ],
   "source": [
    " # 5.\n",
    "num = int(input(\"Enter The Number: \"))\n",
    "odd_sum = 0\n",
    "i = 1\n",
    "while(i <= num):\n",
    "    if(i%2==1):\n",
    "        odd_sum += i\n",
    "    i += 1\n",
    "\n",
    "print(f\"Sum is: {odd_sum}\")"
   ]
  },
  {
   "cell_type": "code",
   "execution_count": 35,
   "id": "5bdf86ef-caa8-4434-b077-ec2fd14cfedd",
   "metadata": {},
   "outputs": [
    {
     "name": "stdin",
     "output_type": "stream",
     "text": [
      "Enter the Number:  1234\n"
     ]
    },
    {
     "name": "stdout",
     "output_type": "stream",
     "text": [
      "Number of Digits in 1234 is: 4\n"
     ]
    }
   ],
   "source": [
    "# 6.\n",
    "num = int(input(\"Enter the Number: \"))\n",
    "count = 0\n",
    "i = num\n",
    "while(i>0):\n",
    "    \n",
    "    i = i// 10\n",
    "    count += 1\n",
    "\n",
    "print(f\"Number of Digits in {num} is: {count}\")\n",
    "    \n",
    "    "
   ]
  },
  {
   "cell_type": "code",
   "execution_count": 39,
   "id": "81a75813-e6c2-475a-8dc0-d8500624f385",
   "metadata": {},
   "outputs": [
    {
     "name": "stdin",
     "output_type": "stream",
     "text": [
      "Enter the Number:  1234\n"
     ]
    },
    {
     "name": "stdout",
     "output_type": "stream",
     "text": [
      "Sum of Digits of 1234 is: 10\n"
     ]
    }
   ],
   "source": [
    "# 7.\n",
    "num = int(input(\"Enter the Number: \"))\n",
    "digit = 0\n",
    "summ = 0\n",
    "i = num\n",
    "while(i>0):\n",
    "    digit = i%10\n",
    "    summ += digit\n",
    "    i = i// 10\n",
    "    \n",
    "\n",
    "print(f\"Sum of Digits of {num} is: {summ}\")\n",
    "    \n",
    "    "
   ]
  },
  {
   "cell_type": "code",
   "execution_count": 1,
   "id": "dcbb3abb-de4b-41dc-bf46-3c9b527e3a07",
   "metadata": {},
   "outputs": [
    {
     "name": "stdin",
     "output_type": "stream",
     "text": [
      "Enter The Number:  1234\n"
     ]
    },
    {
     "name": "stdout",
     "output_type": "stream",
     "text": [
      "First digit is: 1\n",
      "Last Digit is: 4\n"
     ]
    }
   ],
   "source": [
    "# 8.\n",
    "num = int(input(\"Enter The Number: \"))\n",
    "string_num = str(num)\n",
    "first = int(string_num[0])\n",
    "last = num % 10\n",
    "\n",
    "print(f\"First digit is: {first}\")\n",
    "print(f\"Last Digit is: {last}\")"
   ]
  },
  {
   "cell_type": "code",
   "execution_count": 7,
   "id": "52b3452a-5d6d-4d95-b912-bd944d80ead7",
   "metadata": {},
   "outputs": [
    {
     "name": "stdin",
     "output_type": "stream",
     "text": [
      "Enter the Number:  1234\n"
     ]
    },
    {
     "name": "stdout",
     "output_type": "stream",
     "text": [
      "Sum od 1 and 4 is: 5\n"
     ]
    }
   ],
   "source": [
    "# 9.\n",
    "num = int(input(\"Enter the Number: \"))\n",
    "string_num = str(num)\n",
    "first = int(string_num[0])\n",
    "last = num % 10\n",
    "summ = first+last\n",
    "\n",
    "print(f\"Sum od {first} and {last} is: {summ}\")"
   ]
  },
  {
   "cell_type": "code",
   "execution_count": 14,
   "id": "13741f2e-050e-40ae-8e51-c0cc7187676a",
   "metadata": {},
   "outputs": [
    {
     "name": "stdin",
     "output_type": "stream",
     "text": [
      "Enter The Number:  123\n"
     ]
    },
    {
     "name": "stdout",
     "output_type": "stream",
     "text": [
      "Reversed Number is: 321\n"
     ]
    }
   ],
   "source": [
    "# 10\n",
    "num = int(input(\"Enter The Number: \"))\n",
    "reverse_num = 0\n",
    "digit = 0\n",
    "while(num > 0):\n",
    "    digit = num % 10\n",
    "    reverse_num = reverse_num * 10 + digit\n",
    "    num //= 10\n",
    "    \n",
    "print(f\"Reversed Number is: {reverse_num}\")  "
   ]
  },
  {
   "cell_type": "code",
   "execution_count": 20,
   "id": "2044134b-eccc-4f52-aa53-459899b80ea1",
   "metadata": {},
   "outputs": [
    {
     "name": "stdin",
     "output_type": "stream",
     "text": [
      "Enter Base:  2\n",
      "Enter Power:  3\n"
     ]
    },
    {
     "name": "stdout",
     "output_type": "stream",
     "text": [
      "Power is: 8\n"
     ]
    }
   ],
   "source": [
    "# 11.\n",
    "base = int(input(\"Enter Base: \"))\n",
    "power = int(input(\"Enter Power: \"))\n",
    "result = 1\n",
    "while(power > 0):\n",
    "    result *= base\n",
    "    power -= 1\n",
    "print(f\"Power is: {result}\")"
   ]
  },
  {
   "cell_type": "code",
   "execution_count": 24,
   "id": "cfcf2733-62e2-4eec-8765-36016366b19c",
   "metadata": {},
   "outputs": [
    {
     "name": "stdin",
     "output_type": "stream",
     "text": [
      "Enter the number: 12\n"
     ]
    },
    {
     "name": "stdout",
     "output_type": "stream",
     "text": [
      "1\n",
      "2\n",
      "3\n",
      "4\n",
      "6\n",
      "12\n"
     ]
    }
   ],
   "source": [
    "# 12.\n",
    "num = int(input(\"Enter the number:\" ))\n",
    "i = 1\n",
    "while(i <= num):\n",
    "    if(num % i == 0):\n",
    "        print(i)\n",
    "    i += 1"
   ]
  },
  {
   "cell_type": "code",
   "execution_count": 28,
   "id": "b7533428-a798-4726-8b83-890cd5b31b93",
   "metadata": {},
   "outputs": [
    {
     "name": "stdin",
     "output_type": "stream",
     "text": [
      "Enter a Number:  5\n"
     ]
    },
    {
     "name": "stdout",
     "output_type": "stream",
     "text": [
      "Factorial of 5 is: 120\n"
     ]
    }
   ],
   "source": [
    "# 13.\n",
    "num = int(input(\"Enter a Number: \"))\n",
    "store = num\n",
    "fact = 1\n",
    "while(num > 1):\n",
    "    fact *= num\n",
    "    num -= 1\n",
    "print(f\"Factorial of {store} is: {fact}\")"
   ]
  },
  {
   "cell_type": "code",
   "execution_count": 34,
   "id": "971a4b84-673b-43b7-867e-a1ca6713995b",
   "metadata": {},
   "outputs": [
    {
     "name": "stdin",
     "output_type": "stream",
     "text": [
      "Enter first number:  5\n",
      "Enter Second Number:  8\n"
     ]
    },
    {
     "name": "stdout",
     "output_type": "stream",
     "text": [
      "Factors are:  2 2 2 5 LCM is: 40\n"
     ]
    }
   ],
   "source": [
    "# 14.\n",
    "num_1 = int(input(\"Enter first number: \"))\n",
    "num_2 = int(input(\"Enter Second Number: \"))\n",
    "i = 2\n",
    "lcm = 1\n",
    "print(\"Factors are: \", end=\" \")\n",
    "while(num_1 >1 or num_2 > 1):\n",
    "    if(num_1 % i==0 or num_2 % i == 0):\n",
    "        print(i,end=\" \")\n",
    "        lcm *= i\n",
    "        if(num_1 % i == 0):\n",
    "            num_1 //= i\n",
    "        if(num_2 % i == 0):\n",
    "            num_2 //= i\n",
    "    else:\n",
    "        i += 1\n",
    "print(f\"LCM is: {lcm}\")"
   ]
  },
  {
   "cell_type": "code",
   "execution_count": 58,
   "id": "30bd7117-e434-4e9b-a0c3-04378b0fd674",
   "metadata": {},
   "outputs": [
    {
     "name": "stdin",
     "output_type": "stream",
     "text": [
      "Enter the Number:  76\n"
     ]
    },
    {
     "name": "stdout",
     "output_type": "stream",
     "text": [
      "76 is Not a Prime Number\n"
     ]
    }
   ],
   "source": [
    "# 15.\n",
    "num = int(input(\"Enter the Number: \"))\n",
    "i = 2\n",
    "count = 0\n",
    "while(i<num):\n",
    "    if(num % i == 0):\n",
    "        count += 1\n",
    "        break\n",
    "    else:\n",
    "        i += 1\n",
    "if(count == 0):\n",
    "    print(f\"{num} is a Prime Number\")\n",
    "else:\n",
    "    print(f\"{num} is Not a Prime Number\")"
   ]
  },
  {
   "cell_type": "code",
   "execution_count": 28,
   "id": "22ce9b4f-e678-439c-91bb-b53ffdf7af89",
   "metadata": {},
   "outputs": [
    {
     "name": "stdin",
     "output_type": "stream",
     "text": [
      "Enter the Number:  10\n"
     ]
    },
    {
     "name": "stdout",
     "output_type": "stream",
     "text": [
      "Prime Numbers between 1 to 10 are: \n",
      "2 3 5 7 "
     ]
    }
   ],
   "source": [
    "# 16.\n",
    "num = int(input(\"Enter the Number: \"))\n",
    "i = 2\n",
    "print(f\"Prime Numbers between 1 to {num} are: \")\n",
    "while(i<=num):\n",
    "    j = 1\n",
    "    count = 0\n",
    "    while(j <= i):\n",
    "        if(i%j==0):\n",
    "            count+=1\n",
    "        j+=1\n",
    "    if(count==2):\n",
    "        print(i,end=\" \")\n",
    "    i+=1\n",
    "            \n"
   ]
  },
  {
   "cell_type": "code",
   "execution_count": 14,
   "id": "d4e70e01-59cc-4a14-8801-0bf19f3c840a",
   "metadata": {},
   "outputs": [
    {
     "name": "stdin",
     "output_type": "stream",
     "text": [
      "Enter a Number:  22\n"
     ]
    },
    {
     "name": "stdout",
     "output_type": "stream",
     "text": [
      "2 11 "
     ]
    }
   ],
   "source": [
    "# 17.\n",
    "num = int(input(\"Enter a Number: \"))\n",
    "i = 2\n",
    "while(num>1):\n",
    "    if(num%i==0):\n",
    "        print(i,end=\" \")\n",
    "        while(num%i==0):\n",
    "            num = num//i\n",
    "    i+=1\n",
    "            \n",
    "        "
   ]
  },
  {
   "cell_type": "code",
   "execution_count": 34,
   "id": "ae95c3fa-5bcb-4a0e-a3ef-8359e8531ad5",
   "metadata": {},
   "outputs": [
    {
     "name": "stdin",
     "output_type": "stream",
     "text": [
      "Enter A Number:  145\n"
     ]
    },
    {
     "name": "stdout",
     "output_type": "stream",
     "text": [
      "Strong number\n",
      "145\n"
     ]
    }
   ],
   "source": [
    "# 19.\n",
    "num = int(input(\"Enter A Number: \"))\n",
    "original = num\n",
    "summ = 0\n",
    "while(num>0):\n",
    "    i = 1\n",
    "    fact = 1\n",
    "    digit = num%10\n",
    "   \n",
    "    while(i <= digit):\n",
    "        fact *= i\n",
    "        i += 1\n",
    "\n",
    "    summ += fact\n",
    "    num = num//10\n",
    "\n",
    "if(summ == original):\n",
    "    print(\"Strong number\")\n",
    "else:\n",
    "    print(\"Not a Strong Number\")"
   ]
  },
  {
   "cell_type": "code",
   "execution_count": 38,
   "id": "c01c7f35-cfcb-4127-9797-2679bb775e4c",
   "metadata": {},
   "outputs": [
    {
     "name": "stdin",
     "output_type": "stream",
     "text": [
      "Enter the Number:  6\n"
     ]
    },
    {
     "name": "stdout",
     "output_type": "stream",
     "text": [
      "Perfect Number\n"
     ]
    }
   ],
   "source": [
    "# 20\n",
    "num = int(input(\"Enter the Number: \"))\n",
    "summ = 0\n",
    "i = 1\n",
    "while(i<num):\n",
    "    if(num%i==0):\n",
    "        summ+=i\n",
    "    i+=1\n",
    "if(summ==num):\n",
    "    print(\"Perfect Number\")\n",
    "else:\n",
    "    print(\"Not a Perfect Number\")"
   ]
  },
  {
   "cell_type": "code",
   "execution_count": 50,
   "id": "53029110-1908-4b51-b344-10d9f4370b63",
   "metadata": {},
   "outputs": [
    {
     "name": "stdin",
     "output_type": "stream",
     "text": [
      "Enter The Number:  10\n"
     ]
    },
    {
     "name": "stdout",
     "output_type": "stream",
     "text": [
      "Fabonacci Series: \n",
      "0 1 1 2 3 5 8 13 21 34 "
     ]
    }
   ],
   "source": [
    "# 21\n",
    "num = int(input(\"Enter The Number: \"))\n",
    "count = 0\n",
    "a = 0\n",
    "b = 1\n",
    "print(\"Fabonacci Series: \")\n",
    "while(count<num):\n",
    "    print(a,end=\" \")\n",
    "    temp = a\n",
    "    a = b\n",
    "    b = a+temp\n",
    "    count += 1"
   ]
  },
  {
   "cell_type": "code",
   "execution_count": 62,
   "id": "419491db-6bfe-4a9b-acbe-175edf939466",
   "metadata": {},
   "outputs": [
    {
     "name": "stdin",
     "output_type": "stream",
     "text": [
      "Enter the Number:  1001\n"
     ]
    },
    {
     "name": "stdout",
     "output_type": "stream",
     "text": [
      "One's Complement of 1001 is: -1002\n"
     ]
    },
    {
     "name": "stdin",
     "output_type": "stream",
     "text": [
      "Enter a Binary Number:  1001\n"
     ]
    },
    {
     "name": "stdout",
     "output_type": "stream",
     "text": [
      "One's Complement of 1001 is: 0110\n"
     ]
    }
   ],
   "source": [
    "# 22\n",
    "# For Integer\n",
    "num = int(input(\"Enter the Number: \"))\n",
    "Ones_complement = ~num\n",
    "print(f\"One's Complement of {num} is: {Ones_complement}\")\n",
    "\n",
    "# For Binary\n",
    "binary = input(\"Enter a Binary Number: \")\n",
    "complement = \"\"\n",
    "for i in binary:\n",
    "    if(i== \"0\"):\n",
    "        complement+= '1'\n",
    "    elif(i == '1'):\n",
    "        complement += '0'\n",
    "    else:\n",
    "        print(\"Non Binary value Entered \")\n",
    "        exit()\n",
    "\n",
    "print(f\"One's Complement of {binary} is: {complement}\")\n",
    "    "
   ]
  },
  {
   "cell_type": "code",
   "execution_count": 16,
   "id": "413f454b-9776-448a-b48a-a9e66f6a4c9a",
   "metadata": {},
   "outputs": [
    {
     "name": "stdin",
     "output_type": "stream",
     "text": [
      "Enter the Number:  205\n"
     ]
    },
    {
     "name": "stdout",
     "output_type": "stream",
     "text": [
      "205 is not an Armstrong Number\n"
     ]
    }
   ],
   "source": [
    "# 23.\n",
    "num = int(input(\"Enter the Number: \"))\n",
    "original = num\n",
    "cube_sum = 0\n",
    "while(num>0):\n",
    "    digit = num%10\n",
    "    cube_sum += digit**3\n",
    "    num = num//10\n",
    "if(original == cube_sum):\n",
    "    print(f\"{original} is an Armstrong Number\")\n",
    "else:\n",
    "     print(f\"{original} is not an Armstrong Number\")"
   ]
  },
  {
   "cell_type": "code",
   "execution_count": null,
   "id": "81ce306c-b165-45fb-8a67-2c6900e108d4",
   "metadata": {},
   "outputs": [],
   "source": []
  }
 ],
 "metadata": {
  "kernelspec": {
   "display_name": "Python [conda env:base] *",
   "language": "python",
   "name": "conda-base-py"
  },
  "language_info": {
   "codemirror_mode": {
    "name": "ipython",
    "version": 3
   },
   "file_extension": ".py",
   "mimetype": "text/x-python",
   "name": "python",
   "nbconvert_exporter": "python",
   "pygments_lexer": "ipython3",
   "version": "3.12.7"
  }
 },
 "nbformat": 4,
 "nbformat_minor": 5
}
