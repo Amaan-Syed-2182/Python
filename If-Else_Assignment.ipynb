{
 "cells": [
  {
   "cell_type": "markdown",
   "id": "c3c886bd-6f61-4724-a94b-94441eac664d",
   "metadata": {},
   "source": [
    "## IF-Else Assignment\n",
    "### From Saiyed Amaan"
   ]
  },
  {
   "cell_type": "code",
   "execution_count": 7,
   "id": "b8e8cfc7-46ae-43e2-bb4c-1da516dae036",
   "metadata": {},
   "outputs": [
    {
     "name": "stdin",
     "output_type": "stream",
     "text": [
      "Enter a number:  0\n"
     ]
    },
    {
     "name": "stdout",
     "output_type": "stream",
     "text": [
      "0 is Even\n"
     ]
    }
   ],
   "source": [
    "# 1.\n",
    "\n",
    "num = int(input(\"Enter a number: \"))\n",
    "\n",
    "if(num%2==0):\n",
    "    print(f\"{num} is Even\")\n",
    "\n",
    "else:\n",
    "    print(f\"{num} is Odd\")"
   ]
  },
  {
   "cell_type": "code",
   "execution_count": 15,
   "id": "bd195a1f-5ab1-4d65-a4a3-b3b9a705e71a",
   "metadata": {},
   "outputs": [
    {
     "name": "stdin",
     "output_type": "stream",
     "text": [
      "Enter First Number:  2\n",
      "Enter Second Number:  2\n",
      "Enter Third Number:  2\n"
     ]
    },
    {
     "name": "stdout",
     "output_type": "stream",
     "text": [
      "All Three are Equal...\n"
     ]
    }
   ],
   "source": [
    "# 2.\n",
    "num1 = int(input(\"Enter First Number: \"))\n",
    "num2 = int(input(\"Enter Second Number: \"))\n",
    "num3 = int(input(\"Enter Third Number: \"))\n",
    "\n",
    "if(num1>num2 and num1>num3):\n",
    "    print(f\"{num1} is Greatest\")\n",
    "\n",
    "elif(num2>num1 and num2>num3):\n",
    "    print(f\"{num2} is Greatest\")\n",
    "\n",
    "\n",
    "elif(num3>num1 and num3>num2):\n",
    "    print(f\"{num3} is Greatest\")\n",
    "\n",
    "else:\n",
    "    print(\"All Three are Equal...\")"
   ]
  },
  {
   "cell_type": "code",
   "execution_count": 25,
   "id": "9a044c4d-24c4-482c-9f5e-0d7cf67c96c8",
   "metadata": {},
   "outputs": [
    {
     "name": "stdin",
     "output_type": "stream",
     "text": [
      "Enter the Year:  1200\n"
     ]
    },
    {
     "name": "stdout",
     "output_type": "stream",
     "text": [
      "1200 is a Leap year\n"
     ]
    }
   ],
   "source": [
    "# 3.\n",
    "year = int(input(\"Enter the Year: \"))\n",
    "\n",
    "if(year>=2000):\n",
    "    if(year%4==0):\n",
    "        print(f\"{year} is a Leap year\")\n",
    "    else:\n",
    "         print(f\"{year} is not a Leap year\")\n",
    "\n",
    "elif(year<2000):\n",
    "    if(year%400==0):\n",
    "         print(f\"{year} is a Leap year\")\n",
    "    else:\n",
    "         print(f\"{year} is not Leap year\")\n",
    "\n",
    "else:\n",
    "    print(\"Invalid Year Entered....\")\n",
    "        "
   ]
  },
  {
   "cell_type": "code",
   "execution_count": 39,
   "id": "1162faac-d953-42cb-bbfc-a7cc375b4fef",
   "metadata": {},
   "outputs": [
    {
     "name": "stdin",
     "output_type": "stream",
     "text": [
      "Enter the Percentage:  101\n"
     ]
    },
    {
     "name": "stdout",
     "output_type": "stream",
     "text": [
      "Invalid Percentage Entered\n"
     ]
    }
   ],
   "source": [
    "# 4.\n",
    "percent = int(input(\"Enter the Percentage: \"))\n",
    "\n",
    "if(0<=percent<=100):\n",
    "    if(0<=percent<60):\n",
    "        print(\"Grade F\")\n",
    "    elif(61<=percent<=69):\n",
    "        print(\"Grade D\")\n",
    "    \n",
    "    elif(70<=percent<=79):\n",
    "        print(\"Grade C\")\n",
    "\n",
    "    \n",
    "    elif(80<=percent<=89):\n",
    "        print(\"Grade B\")\n",
    "\n",
    "    \n",
    "    elif(90<=percent<=100):\n",
    "        print(\"Grade A\")\n",
    "else:\n",
    "    print(\"Invalid Percentage Entered\")"
   ]
  },
  {
   "cell_type": "code",
   "execution_count": 55,
   "id": "f0a9b4e1-60a6-4125-8819-8ca14b33a03c",
   "metadata": {},
   "outputs": [
    {
     "name": "stdin",
     "output_type": "stream",
     "text": [
      "Enter a Letter:  U\n"
     ]
    },
    {
     "name": "stdout",
     "output_type": "stream",
     "text": [
      "Vowel\n"
     ]
    }
   ],
   "source": [
    "# 5.\n",
    "letter = input(\"Enter a Letter: \")\n",
    "if(letter == \"a\" or letter == \"e\" or letter == \"i\" or letter == \"o\" or letter == \"u\"or letter == \"A\" or letter == \"E\" or letter == \"I\" or letter == \"O\" or letter == \"U\"):\n",
    "    print(\"Vowel\")\n",
    "else:\n",
    "    print(\"Consonent\")"
   ]
  },
  {
   "cell_type": "code",
   "execution_count": 65,
   "id": "1f1d8b0e-ea63-4e30-9318-1f397eb21077",
   "metadata": {},
   "outputs": [
    {
     "name": "stdin",
     "output_type": "stream",
     "text": [
      "Enter First number:  32\n",
      "Enter Second number:  43\n",
      "Enter Operator (+,-,*,/): #\n"
     ]
    },
    {
     "name": "stdout",
     "output_type": "stream",
     "text": [
      "Invalid Operator \n"
     ]
    }
   ],
   "source": [
    "# 6.\n",
    "num1 = int(input(\"Enter First number: \"))\n",
    "num2 = int(input(\"Enter Second number: \"))\n",
    "operator = input(\"Enter Operator (+,-,*,/):\")\n",
    "\n",
    "if(operator==\"+\" or operator==\"-\" or operator==\"*\" or operator==\"/\"):\n",
    "    if(operator==\"+\"):\n",
    "        print(f\"Sum is: {num1+num2}\")\n",
    "    elif(operator==\"-\"):\n",
    "         print(f\"Sum is: {num1-num2}\")\n",
    "    \n",
    "    elif(operator==\"*\"):\n",
    "         print(f\"Sum is: {num1*num2}\")\n",
    "    \n",
    "    elif(operator==\"/\"):\n",
    "         print(f\"Sum is: {num1/num2}\")\n",
    "else:\n",
    "    print(\"Invalid Operator \")"
   ]
  },
  {
   "cell_type": "code",
   "execution_count": 79,
   "id": "6876a44d-3d9f-4310-85aa-e183a8624127",
   "metadata": {},
   "outputs": [
    {
     "name": "stdin",
     "output_type": "stream",
     "text": [
      "Enter a Number:  -23\n"
     ]
    },
    {
     "name": "stdout",
     "output_type": "stream",
     "text": [
      "-23 is Negative \n"
     ]
    }
   ],
   "source": [
    "# 7.\n",
    "num = int(input(\"Enter a Number: \"))\n",
    "\n",
    "if(num>0):\n",
    "    print(f\"{num} is Positive \")\n",
    "elif(num==0):\n",
    "     print(f\"{num} is Zero \")\n",
    "else:\n",
    "     print(f\"{num} is Negative \")\n",
    "    "
   ]
  },
  {
   "cell_type": "code",
   "execution_count": 87,
   "id": "b6ba3293-a863-4323-adba-136902bf25b6",
   "metadata": {},
   "outputs": [
    {
     "name": "stdin",
     "output_type": "stream",
     "text": [
      "Enter the Username:  admin\n",
      "Enter your password 1234\n"
     ]
    },
    {
     "name": "stdout",
     "output_type": "stream",
     "text": [
      "Login Succesfull\n"
     ]
    }
   ],
   "source": [
    "# 8.\n",
    "user_name= \"admin\"\n",
    "stored_password = \"1234\"\n",
    "\n",
    "username = input(\"Enter the Username: \")\n",
    "\n",
    "if(username == user_name):\n",
    "    password = input(\"Enter your password\")\n",
    "    if(password == stored_password):\n",
    "        print(\"Login Succesfull\")\n",
    "else:\n",
    "    print(\"Login Failed\")\n"
   ]
  },
  {
   "cell_type": "code",
   "execution_count": 97,
   "id": "78c3cda5-bd67-436f-aeed-e8c3789714bc",
   "metadata": {},
   "outputs": [
    {
     "name": "stdin",
     "output_type": "stream",
     "text": [
      "Enter first side:  22\n",
      "Enter second side:  32\n",
      "Enter third side:  21\n"
     ]
    },
    {
     "name": "stdout",
     "output_type": "stream",
     "text": [
      "Sides are valid\n"
     ]
    }
   ],
   "source": [
    "# 9.\n",
    "side1 = int(input(\"Enter first side: \"))\n",
    "side2 = int(input(\"Enter second side: \"))\n",
    "side3 = int(input(\"Enter third side: \"))\n",
    "\n",
    "if(side1+side2>side3 and side2+side3>side1 and side3+side1>side2):\n",
    "    print(\"Sides are valid\")\n",
    "else:\n",
    "    print(\"Sides are Invalid\")"
   ]
  },
  {
   "cell_type": "code",
   "execution_count": 115,
   "id": "903cde53-4c07-492e-a099-4250b2f3a750",
   "metadata": {},
   "outputs": [
    {
     "name": "stdin",
     "output_type": "stream",
     "text": [
      "Enter Your Weight(in KG):  65\n",
      "Enter Your Height(in meters):  1.65\n"
     ]
    },
    {
     "name": "stdout",
     "output_type": "stream",
     "text": [
      "Normal Weight\n"
     ]
    }
   ],
   "source": [
    "# 10.\n",
    "Weight = float(input(\"Enter Your Weight(in KG): \"))\n",
    "Height = float(input(\"Enter Your Height(in meters): \"))\n",
    "BMI = Weight/Height**2\n",
    "if(BMI<=18.4):\n",
    "    print(\"Underweight\")\n",
    "elif(18.5<=BMI<=24.9):\n",
    "    print(\"Normal Weight\")\n",
    "elif(25<=BMI<=29.9):\n",
    "    print(\"Overweight\")\n",
    "elif(BMI>=30):\n",
    "    print(\"Obesity\")\n"
   ]
  },
  {
   "cell_type": "code",
   "execution_count": 123,
   "id": "2a5d122e-c55c-40f9-9f22-1355b715d55f",
   "metadata": {},
   "outputs": [
    {
     "name": "stdin",
     "output_type": "stream",
     "text": [
      "Enter the Price:  555\n"
     ]
    },
    {
     "name": "stdout",
     "output_type": "stream",
     "text": [
      "Final price after 5% discount is: 499.5\n"
     ]
    }
   ],
   "source": [
    "# 11.\n",
    "price = int(input(\"Enter the Price: \"))\n",
    "\n",
    "if(price>1000):\n",
    "    print(\"Final price after 10% discount is:\", price-(price*10/100))\n",
    "elif(500<=price<=1000):\n",
    "    print(\"Final price after 5% discount is:\", price-(price*10/100))\n",
    "else:\n",
    "    print(\"Sorry no Discount\")\n",
    "\n",
    "    "
   ]
  },
  {
   "cell_type": "code",
   "execution_count": 125,
   "id": "31cc3b85-109b-4cf6-ba70-06c231c20fba",
   "metadata": {},
   "outputs": [
    {
     "name": "stdin",
     "output_type": "stream",
     "text": [
      "Enter Month:  December\n"
     ]
    },
    {
     "name": "stdout",
     "output_type": "stream",
     "text": [
      "31\n"
     ]
    }
   ],
   "source": [
    "# 12.\n",
    "month = input(\"Enter Month: \")\n",
    "if(month==\"January\"or month==\"january\"):\n",
    "    print(31)\n",
    "elif(month==\"February\"or month==\"february\"):\n",
    "    \n",
    "    year = int(input(\"Enter the Year: \"))\n",
    "    if(year>=2000):\n",
    "        if(year%4==0):\n",
    "            print(29)\n",
    "        else:\n",
    "             print(28)\n",
    "    elif(year<2000):\n",
    "        if(year%400==0):\n",
    "             print(29)\n",
    "        else:\n",
    "             print(28)\n",
    "    else:\n",
    "        print(\"Invalid Year Entered....\")\n",
    "elif(month==\"March\"or month==\"march\"):\n",
    "    print(30)\n",
    "elif(month==\"April\"or month==\"april\"):\n",
    "    print(31)\n",
    "elif(month==\"May\"or month==\"may\"):\n",
    "    print(30)\n",
    "elif(month==\"June\"or month==\"june\"):\n",
    "    print(31)\n",
    "elif(month==\"July\"or month==\"july\"):\n",
    "    print(30)\n",
    "elif(month==\"August\"or month==\"august\"):\n",
    "    print(31)\n",
    "elif(month==\"September\"or month==\"september\"):\n",
    "    print(30)\n",
    "elif(month==\"October\"or month==\"october\"):\n",
    "    print(31)\n",
    "elif(month==\"November\"or month==\"november\"):\n",
    "    print(30)\n",
    "elif(month==\"December\"or month==\"december\"):\n",
    "    print(31)"
   ]
  },
  {
   "cell_type": "code",
   "execution_count": 139,
   "id": "0662f97a-8623-45a8-be4a-5ad21700c2f0",
   "metadata": {},
   "outputs": [
    {
     "name": "stdin",
     "output_type": "stream",
     "text": [
      "Enter 1.Check Balance 2.Deposit Money 3.Withdrawal 3\n",
      "Enter amount to withdraw:  8642\n"
     ]
    },
    {
     "name": "stdout",
     "output_type": "stream",
     "text": [
      "Collect your cash...\n",
      "Reamaining balance is: 1358\n"
     ]
    }
   ],
   "source": [
    "# 13.\n",
    "balance = 10000\n",
    "query = int(input(\"Enter 1.Check Balance 2.Deposit Money 3.Withdrawal\"))\n",
    "\n",
    "if(query == 1):\n",
    "    print(f\"Account balance is: {balance}\")\n",
    "elif(query == 2):\n",
    "    deposit = int(input(\"Enter deposit Money Amount: \"))\n",
    "    balance += deposit\n",
    "    print(f\"Current Balance is: {balance}\")\n",
    "elif(query==3):\n",
    "    withdraw = int(input(\"Enter amount to withdraw: \"))\n",
    "    if(balance-withdraw < 0):\n",
    "        print(\"Insufficient Balance\")\n",
    "    else:\n",
    "        print(\"Collect your cash...\")\n",
    "        balance -= withdraw\n",
    "        print(f\"Reamaining balance is: {balance}\")\n",
    "else:\n",
    "    print(\"Invalid Query Selected\")\n",
    "    "
   ]
  },
  {
   "cell_type": "code",
   "execution_count": 159,
   "id": "5d5ec58a-13de-4331-ba40-bd6464319bba",
   "metadata": {},
   "outputs": [
    {
     "name": "stdin",
     "output_type": "stream",
     "text": [
      "Enter your Age:  89\n"
     ]
    },
    {
     "name": "stdout",
     "output_type": "stream",
     "text": [
      "Senior\n"
     ]
    }
   ],
   "source": [
    "# 14.\n",
    "\n",
    "age = int(input(\"Enter your Age: \"))\n",
    "\n",
    "if(0<=age<=1):\n",
    "    print(\"Infant\")\n",
    "elif(2<=age<=4):\n",
    "    print(\"Toddler\")\n",
    "elif(5<=age<=12):\n",
    "    print(\"Child\")\n",
    "elif(13<=age<=19):\n",
    "    print(\"Teenager\")\n",
    "elif(20<=age<=59):\n",
    "    print(\"Adult\")\n",
    "elif(60<=age<=120):\n",
    "    print(\"Senior\")\n",
    "else:\n",
    "    print(\"Invalid Age Entered\")"
   ]
  },
  {
   "cell_type": "code",
   "execution_count": 193,
   "id": "768269f9-d838-4355-ab32-badda521b29b",
   "metadata": {},
   "outputs": [
    {
     "name": "stdin",
     "output_type": "stream",
     "text": [
      "Enter Day Number:  0\n"
     ]
    },
    {
     "name": "stdout",
     "output_type": "stream",
     "text": [
      "Invalid Day Number Entered...\n"
     ]
    }
   ],
   "source": [
    "day = int(input(\"Enter Day Number: \"))\n",
    "if(1<=day<=7):\n",
    "    if(day == 1):\n",
    "        print(\"Monday\")\n",
    "    elif(day == 2):\n",
    "        print(\"Tuesday\")\n",
    "    \n",
    "    elif(day == 3):\n",
    "        print(\"Wednesday\")\n",
    "    \n",
    "    elif(day == 4):\n",
    "        print(\"Thursday\")\n",
    "    \n",
    "    elif(day == 5):\n",
    "        print(\"Friday\")\n",
    "    \n",
    "    elif(day == 6):\n",
    "        print(\"Saturday\")\n",
    "    \n",
    "    else:\n",
    "        print(\"Sunday\")\n",
    "else:\n",
    "    print(\"Invalid Day Number Entered...\")\n",
    "        \n",
    "        "
   ]
  }
 ],
 "metadata": {
  "kernelspec": {
   "display_name": "Python [conda env:base] *",
   "language": "python",
   "name": "conda-base-py"
  },
  "language_info": {
   "codemirror_mode": {
    "name": "ipython",
    "version": 3
   },
   "file_extension": ".py",
   "mimetype": "text/x-python",
   "name": "python",
   "nbconvert_exporter": "python",
   "pygments_lexer": "ipython3",
   "version": "3.12.7"
  }
 },
 "nbformat": 4,
 "nbformat_minor": 5
}
