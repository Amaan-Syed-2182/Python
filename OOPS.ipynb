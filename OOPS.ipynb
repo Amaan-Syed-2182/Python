{
 "cells": [
  {
   "cell_type": "markdown",
   "id": "6a554bcf-df8e-49fb-803a-b92150102f30",
   "metadata": {},
   "source": [
    "## OOPS"
   ]
  },
  {
   "cell_type": "code",
   "execution_count": 3,
   "id": "cb1d7bb1-0d97-41de-8102-e22285a36e0b",
   "metadata": {},
   "outputs": [
    {
     "name": "stdout",
     "output_type": "stream",
     "text": [
      "Name is: Amaan and Job is: Data Scientist\n"
     ]
    }
   ],
   "source": [
    "# Employee class with objects\n",
    "class Employee:\n",
    "    def __init__(self,name,jobname):\n",
    "        self.name = name\n",
    "        self.jobname = jobname\n",
    "\n",
    "    def getInfo(self):\n",
    "        print(f\"Name is: {self.name} and Job is: {self.jobname}\")\n",
    "\n",
    "e1 = Employee(\"Amaan\",\"Data Scientist\")\n",
    "e1.getInfo()"
   ]
  },
  {
   "cell_type": "code",
   "execution_count": 6,
   "id": "19f0d743-77f4-458d-8b2e-595a122ad466",
   "metadata": {},
   "outputs": [
    {
     "name": "stdout",
     "output_type": "stream",
     "text": [
      "12\n",
      "8\n",
      "5.0\n",
      "5.0\n"
     ]
    }
   ],
   "source": [
    "# Calculator Using OOPS\n",
    "\n",
    "class Calculator:\n",
    "    def __init__(self,num1,num2):\n",
    "        self.num1 = num1\n",
    "        self.num2 = num2\n",
    "\n",
    "    def add(self):\n",
    "        return self.num1+self.num2\n",
    "    \n",
    "    def subtract(self):\n",
    "        return self.num1 - self.num2\n",
    "\n",
    "    def divide(self):\n",
    "        if self.num2 != 0:\n",
    "            return self.num1 / self.num2\n",
    "        else:\n",
    "            print(f\"Division by Zero not Allowed\")\n",
    "    \n",
    "    def multiply(self):\n",
    "        return self.num1 / self.num2\n",
    "\n",
    "calc = Calculator(10,2)\n",
    "\n",
    "print(calc.add())\n",
    "print(calc.subtract())\n",
    "print(calc.multiply())\n",
    "print(calc.divide())\n",
    "\n"
   ]
  },
  {
   "cell_type": "code",
   "execution_count": 12,
   "id": "c8e8cd0d-e10e-4373-8a83-8a23932c1605",
   "metadata": {},
   "outputs": [
    {
     "name": "stdout",
     "output_type": "stream",
     "text": [
      "Deposited Amount is: 500 and Updated Balance is: 1500\n",
      "Withdraw Amount is: 1300 Remaining Balance is: 200\n",
      "Your Balance is: 200\n"
     ]
    }
   ],
   "source": [
    "# Bank Account\n",
    "class BankAccount:\n",
    "    def __init__(self,HolderName,balance=0):\n",
    "        self.HolderName = HolderName\n",
    "        self.balance = balance\n",
    "\n",
    "    def deposit(self,amount):\n",
    "        self.balance += amount\n",
    "        print(f\"Deposited Amount is: {amount} and Updated Balance is: {self.balance}\")\n",
    "\n",
    "    def withdraw(self,amount):\n",
    "        if amount <= self.balance:\n",
    "            self.balance -= amount\n",
    "            print(f\"Withdraw Amount is: {amount} Remaining Balance is: {self.balance}\")\n",
    "        else:\n",
    "            print(f\"Sorry!! Insuficcient Funds...\")\n",
    "\n",
    "    def Checkbalance(self):\n",
    "        print(f\"Your Balance is: {self.balance}\")\n",
    "\n",
    "account = BankAccount(\"Amaan\", 1000)\n",
    "\n",
    "account.deposit(500)\n",
    "account.withdraw(1300)\n",
    "account.Checkbalance()   "
   ]
  },
  {
   "cell_type": "code",
   "execution_count": null,
   "id": "cab80e3a-dc06-4cdf-af15-b304d26df3ab",
   "metadata": {},
   "outputs": [],
   "source": []
  }
 ],
 "metadata": {
  "kernelspec": {
   "display_name": "Python [conda env:base] *",
   "language": "python",
   "name": "conda-base-py"
  },
  "language_info": {
   "codemirror_mode": {
    "name": "ipython",
    "version": 3
   },
   "file_extension": ".py",
   "mimetype": "text/x-python",
   "name": "python",
   "nbconvert_exporter": "python",
   "pygments_lexer": "ipython3",
   "version": "3.12.7"
  }
 },
 "nbformat": 4,
 "nbformat_minor": 5
}
